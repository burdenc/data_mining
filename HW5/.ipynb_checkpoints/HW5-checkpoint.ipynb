{
 "cells": [
  {
   "cell_type": "markdown",
   "metadata": {},
   "source": [
    "\n",
    "# <p style=\"text-align: center;\">EE 380L: Data Mining</p>\n",
    "# <p style=\"text-align: center;\">Assignment 5</p>\n",
    "## <p style=\"text-align: center;\">Total points: 40</p>\n",
    "## <p style=\"text-align: center;\">Due: Thursday, April 24th, submitted via Canvas by 11:59 pm</p>\n",
    "\n",
    "Your homework should be written in a **Jupyter notebook**. You may work in groups of two if you wish. Only one student per team needs to submit the assignment on Canvas.  But be sure to include name and UTID for both students.  Homework groups will be created and managed through Canvas, so please do not arbitrarily change your homework group.  \n",
    "\n",
    "Also, please make sure your code runs and the graphics (and anything else) are displayed in your notebook before submitting. (%matplotlib inline)"
   ]
  },
  {
   "cell_type": "markdown",
   "metadata": {},
   "source": [
    "## Name: Cassidy Burden\n",
    "## UT EID: cab5534\n",
    "\n",
    "## Name: Ryan Meek\n",
    "## UT EID: rjm3263"
   ]
  },
  {
   "cell_type": "markdown",
   "metadata": {},
   "source": [
    "# Problem 1 - Random Forest vs Boosting - Regression (15pts)"
   ]
  },
  {
   "cell_type": "markdown",
   "metadata": {},
   "source": [
    "In this question, we will compare performance of different ensemble methods for regression problems: [Random Forest](http://scikit-learn.org/stable/modules/generated/sklearn.ensemble.RandomForestRegressor.html), [Gradient Boosting Regressor](http://scikit-learn.org/stable/modules/generated/sklearn.ensemble.GradientBoostingRegressor.html) (GBR), and [AdaBoost](http://scikit-learn.org/stable/modules/generated/sklearn.ensemble.AdaBoostRegressor.html#sklearn.ensemble.AdaBoostRegressor). We will use the Appliances energy prediction dataset for this problem https://archive.ics.uci.edu/ml/datasets/Appliances+energy+prediction. Use random_state = 42 for the algorithms.\n",
    "\n",
    "1. Use a [Random Forest](http://scikit-learn.org/stable/modules/generated/sklearn.ensemble.RandomForestRegressor.html). Find the best parameters (*n_estimators*) using [GridSearchCV](http://scikit-learn.org/stable/modules/generated/sklearn.model_selection.GridSearchCV.html). Report the accuracy of your model in terms of RMSE. (5pts)\n",
    "\n",
    "2. Use [Gradient Boosting Regressor](http://scikit-learn.org/stable/modules/generated/sklearn.ensemble.GradientBoostingRegressor.html) (GBR). Find the best parameters (including *n_estimators,* *max_depth* and* learning_rate*), and report corresponding RMSE for each algorithm. (5pts)\n",
    "\n",
    "3. Use [AdaBoost](http://scikit-learn.org/stable/modules/generated/sklearn.ensemble.AdaBoostRegressor.html#sklearn.ensemble.AdaBoostRegressor) for predicting the targets. Find the best parameters (*n_estimators*, *learning_rate*). Report the accuracy of your model in terms of RMSE. (5pts)"
   ]
  },
  {
   "cell_type": "code",
   "execution_count": 1,
   "metadata": {},
   "outputs": [],
   "source": [
    "import pandas as pd\n",
    "import numpy as np\n",
    "from sklearn.model_selection import (train_test_split,GridSearchCV)\n",
    "from sklearn.metrics import mean_squared_error\n",
    "from sklearn.ensemble import (RandomForestRegressor,GradientBoostingRegressor,AdaBoostRegressor)"
   ]
  },
  {
   "cell_type": "code",
   "execution_count": 2,
   "metadata": {},
   "outputs": [
    {
     "name": "stdout",
     "output_type": "stream",
     "text": [
      "(13222, 56) (13222,) (6513, 56) (6513,)\n"
     ]
    }
   ],
   "source": [
    "data = pd.read_csv('energydata_complete.csv') \n",
    "\n",
    "y = data['Appliances']\n",
    "X = data.drop(['date','Appliances', 'rv1', 'rv2'], axis = 1)\n",
    "\n",
    "\n",
    "from dateutil import parser\n",
    "timeData = np.array(data['date'])\n",
    "\n",
    "days = []\n",
    "hours = []\n",
    "for line in range(len(timeData)):\n",
    "    day = parser.parse(timeData[line]).weekday()\n",
    "    hour = parser.parse(timeData[line]).hour\n",
    "    days.append(day)\n",
    "    hours.append(hour)\n",
    "    \n",
    "X = pd.concat([X, pd.get_dummies(days), pd.get_dummies(hours)], axis = 1)\n",
    "\n",
    "\n",
    "x_train, x_test, y_train, y_test = train_test_split(X,y,test_size = 0.33, random_state=42)\n",
    "\n",
    "print(x_train.shape, y_train.shape, x_test.shape, y_test.shape)"
   ]
  },
  {
   "cell_type": "markdown",
   "metadata": {},
   "source": [
    "# Solution\n",
    "### Part a"
   ]
  },
  {
   "cell_type": "code",
   "execution_count": 21,
   "metadata": {},
   "outputs": [
    {
     "name": "stdout",
     "output_type": "stream",
     "text": [
      "Fitting 5 folds for each of 25 candidates, totalling 125 fits\n",
      "[CV] n_estimators=1 ..................................................\n",
      "[CV] n_estimators=1 ..................................................\n",
      "[CV] n_estimators=1 ..................................................\n",
      "[CV] n_estimators=1 ..................................................\n",
      "[CV] ................................... n_estimators=1, total=   0.6s\n",
      "[CV] n_estimators=1 ..................................................\n",
      "[CV] ................................... n_estimators=1, total=   0.6s\n",
      "[CV] n_estimators=21 .................................................\n",
      "[CV] ................................... n_estimators=1, total=   0.7s\n",
      "[CV] n_estimators=21 .................................................\n",
      "[CV] ................................... n_estimators=1, total=   0.8s\n",
      "[CV] n_estimators=21 .................................................\n",
      "[CV] ................................... n_estimators=1, total=   0.7s\n",
      "[CV] n_estimators=21 .................................................\n",
      "[CV] .................................. n_estimators=21, total=  11.4s\n",
      "[CV] n_estimators=21 .................................................\n",
      "[CV] .................................. n_estimators=21, total=  11.6s\n",
      "[CV] n_estimators=41 .................................................\n",
      "[CV] .................................. n_estimators=21, total=  11.7s\n",
      "[CV] n_estimators=41 .................................................\n",
      "[CV] .................................. n_estimators=21, total=  11.4s\n",
      "[CV] n_estimators=41 .................................................\n",
      "[CV] .................................. n_estimators=21, total=  11.5s\n",
      "[CV] n_estimators=41 .................................................\n",
      "[CV] .................................. n_estimators=41, total=  22.6s\n",
      "[CV] n_estimators=41 .................................................\n",
      "[CV] .................................. n_estimators=41, total=  22.7s\n",
      "[CV] n_estimators=61 .................................................\n",
      "[CV] .................................. n_estimators=41, total=  23.0s\n",
      "[CV] n_estimators=61 .................................................\n",
      "[CV] .................................. n_estimators=41, total=  22.4s\n",
      "[CV] n_estimators=61 .................................................\n",
      "[CV] .................................. n_estimators=41, total=  23.3s\n",
      "[CV] n_estimators=61 .................................................\n",
      "[CV] .................................. n_estimators=61, total=  38.9s\n",
      "[CV] n_estimators=61 .................................................\n",
      "[CV] .................................. n_estimators=61, total=  40.9s\n",
      "[CV] n_estimators=81 .................................................\n",
      "[CV] .................................. n_estimators=61, total=  43.4s\n",
      "[CV] n_estimators=81 .................................................\n",
      "[CV] .................................. n_estimators=61, total=  44.2s\n",
      "[CV] n_estimators=81 .................................................\n",
      "[CV] .................................. n_estimators=61, total=  41.2s\n",
      "[CV] n_estimators=81 .................................................\n",
      "[CV] .................................. n_estimators=81, total=  51.8s\n",
      "[CV] n_estimators=81 .................................................\n",
      "[CV] .................................. n_estimators=81, total=  49.8s\n",
      "[CV] n_estimators=101 ................................................\n",
      "[CV] .................................. n_estimators=81, total=  48.9s\n",
      "[CV] n_estimators=101 ................................................\n",
      "[CV] .................................. n_estimators=81, total=  47.8s\n",
      "[CV] n_estimators=101 ................................................\n",
      "[CV] .................................. n_estimators=81, total=  46.6s\n",
      "[CV] n_estimators=101 ................................................\n",
      "[CV] ................................. n_estimators=101, total=  56.4s\n",
      "[CV] n_estimators=101 ................................................\n",
      "[CV] ................................. n_estimators=101, total=  55.5s\n",
      "[CV] n_estimators=121 ................................................\n",
      "[CV] ................................. n_estimators=101, total=  53.4s\n",
      "[CV] n_estimators=121 ................................................\n",
      "[CV] ................................. n_estimators=101, total=  55.7s\n",
      "[CV] n_estimators=121 ................................................\n",
      "[CV] ................................. n_estimators=101, total= 1.1min\n",
      "[CV] n_estimators=121 ................................................\n",
      "[CV] ................................. n_estimators=121, total= 1.4min\n",
      "[CV] n_estimators=121 ................................................\n",
      "[CV] ................................. n_estimators=121, total= 1.4min\n",
      "[CV] n_estimators=141 ................................................\n",
      "[CV] ................................. n_estimators=121, total= 1.3min\n",
      "[CV] n_estimators=141 ................................................\n"
     ]
    },
    {
     "name": "stderr",
     "output_type": "stream",
     "text": [
      "[Parallel(n_jobs=4)]: Done  33 tasks      | elapsed:  5.2min\n"
     ]
    },
    {
     "name": "stdout",
     "output_type": "stream",
     "text": [
      "[CV] ................................. n_estimators=121, total= 1.1min\n",
      "[CV] n_estimators=141 ................................................\n",
      "[CV] ................................. n_estimators=121, total= 1.1min\n",
      "[CV] n_estimators=141 ................................................\n",
      "[CV] ................................. n_estimators=141, total= 1.3min\n",
      "[CV] n_estimators=141 ................................................\n",
      "[CV] ................................. n_estimators=141, total= 1.3min\n",
      "[CV] n_estimators=161 ................................................\n",
      "[CV] ................................. n_estimators=141, total= 1.3min\n",
      "[CV] n_estimators=161 ................................................\n",
      "[CV] ................................. n_estimators=141, total= 1.3min\n",
      "[CV] n_estimators=161 ................................................\n",
      "[CV] ................................. n_estimators=141, total= 1.3min\n",
      "[CV] n_estimators=161 ................................................\n",
      "[CV] ................................. n_estimators=161, total= 1.5min\n",
      "[CV] n_estimators=161 ................................................\n",
      "[CV] ................................. n_estimators=161, total= 1.5min\n",
      "[CV] n_estimators=181 ................................................\n",
      "[CV] ................................. n_estimators=161, total= 1.5min\n",
      "[CV] n_estimators=181 ................................................\n",
      "[CV] ................................. n_estimators=161, total= 1.4min\n",
      "[CV] n_estimators=181 ................................................\n",
      "[CV] ................................. n_estimators=161, total= 1.5min\n",
      "[CV] n_estimators=181 ................................................\n",
      "[CV] ................................. n_estimators=181, total= 1.7min\n",
      "[CV] n_estimators=181 ................................................\n",
      "[CV] ................................. n_estimators=181, total= 1.7min\n",
      "[CV] n_estimators=201 ................................................\n",
      "[CV] ................................. n_estimators=181, total= 1.7min\n",
      "[CV] n_estimators=201 ................................................\n",
      "[CV] ................................. n_estimators=181, total= 1.7min\n",
      "[CV] n_estimators=201 ................................................\n",
      "[CV] ................................. n_estimators=181, total= 1.6min\n",
      "[CV] n_estimators=201 ................................................\n",
      "[CV] ................................. n_estimators=201, total= 1.9min\n",
      "[CV] n_estimators=201 ................................................\n",
      "[CV] ................................. n_estimators=201, total= 1.9min\n",
      "[CV] n_estimators=221 ................................................\n",
      "[CV] ................................. n_estimators=201, total= 2.0min\n",
      "[CV] n_estimators=221 ................................................\n",
      "[CV] ................................. n_estimators=201, total= 2.0min\n",
      "[CV] n_estimators=221 ................................................\n",
      "[CV] ................................. n_estimators=201, total= 2.0min\n",
      "[CV] n_estimators=221 ................................................\n",
      "[CV] ................................. n_estimators=221, total= 2.1min\n",
      "[CV] n_estimators=221 ................................................\n",
      "[CV] ................................. n_estimators=221, total= 2.1min\n",
      "[CV] n_estimators=241 ................................................\n",
      "[CV] ................................. n_estimators=221, total= 2.0min\n",
      "[CV] n_estimators=241 ................................................\n",
      "[CV] ................................. n_estimators=221, total= 2.0min\n",
      "[CV] n_estimators=241 ................................................\n",
      "[CV] ................................. n_estimators=221, total= 2.0min\n",
      "[CV] n_estimators=241 ................................................\n",
      "[CV] ................................. n_estimators=241, total= 2.2min\n",
      "[CV] n_estimators=241 ................................................\n",
      "[CV] ................................. n_estimators=241, total= 2.2min\n",
      "[CV] n_estimators=261 ................................................\n",
      "[CV] ................................. n_estimators=241, total= 2.2min\n",
      "[CV] n_estimators=261 ................................................\n",
      "[CV] ................................. n_estimators=241, total= 2.2min\n",
      "[CV] n_estimators=261 ................................................\n",
      "[CV] ................................. n_estimators=241, total= 2.3min\n",
      "[CV] n_estimators=261 ................................................\n",
      "[CV] ................................. n_estimators=261, total= 2.5min\n",
      "[CV] n_estimators=261 ................................................\n",
      "[CV] ................................. n_estimators=261, total= 2.4min\n",
      "[CV] n_estimators=281 ................................................\n",
      "[CV] ................................. n_estimators=261, total= 2.4min\n",
      "[CV] n_estimators=281 ................................................\n",
      "[CV] ................................. n_estimators=261, total= 2.4min\n",
      "[CV] n_estimators=281 ................................................\n",
      "[CV] ................................. n_estimators=261, total= 2.4min\n",
      "[CV] n_estimators=281 ................................................\n",
      "[CV] ................................. n_estimators=281, total= 2.6min\n",
      "[CV] n_estimators=281 ................................................\n",
      "[CV] ................................. n_estimators=281, total= 2.6min\n",
      "[CV] n_estimators=301 ................................................\n",
      "[CV] ................................. n_estimators=281, total= 2.6min\n",
      "[CV] n_estimators=301 ................................................\n",
      "[CV] ................................. n_estimators=281, total= 2.6min\n",
      "[CV] n_estimators=301 ................................................\n",
      "[CV] ................................. n_estimators=281, total= 2.6min\n",
      "[CV] n_estimators=301 ................................................\n",
      "[CV] ................................. n_estimators=301, total= 2.8min\n",
      "[CV] n_estimators=301 ................................................\n",
      "[CV] ................................. n_estimators=301, total= 2.7min\n",
      "[CV] n_estimators=321 ................................................\n",
      "[CV] ................................. n_estimators=301, total= 2.7min\n",
      "[CV] n_estimators=321 ................................................\n",
      "[CV] ................................. n_estimators=301, total= 3.0min\n",
      "[CV] n_estimators=321 ................................................\n",
      "[CV] ................................. n_estimators=301, total= 3.1min\n",
      "[CV] n_estimators=321 ................................................\n",
      "[CV] ................................. n_estimators=321, total= 3.5min\n",
      "[CV] n_estimators=321 ................................................\n",
      "[CV] ................................. n_estimators=321, total= 3.5min\n",
      "[CV] n_estimators=341 ................................................\n",
      "[CV] ................................. n_estimators=321, total= 3.4min\n",
      "[CV] n_estimators=341 ................................................\n",
      "[CV] ................................. n_estimators=321, total= 3.1min\n",
      "[CV] n_estimators=341 ................................................\n",
      "[CV] ................................. n_estimators=321, total= 3.0min\n",
      "[CV] n_estimators=341 ................................................\n",
      "[CV] ................................. n_estimators=341, total= 3.1min\n",
      "[CV] n_estimators=341 ................................................\n",
      "[CV] ................................. n_estimators=341, total= 3.2min\n",
      "[CV] n_estimators=361 ................................................\n",
      "[CV] ................................. n_estimators=341, total= 3.1min\n",
      "[CV] n_estimators=361 ................................................\n",
      "[CV] ................................. n_estimators=341, total= 3.1min\n",
      "[CV] n_estimators=361 ................................................\n",
      "[CV] ................................. n_estimators=341, total= 3.2min\n",
      "[CV] n_estimators=361 ................................................\n",
      "[CV] ................................. n_estimators=361, total= 3.3min\n",
      "[CV] n_estimators=361 ................................................\n"
     ]
    },
    {
     "name": "stdout",
     "output_type": "stream",
     "text": [
      "[CV] ................................. n_estimators=361, total= 3.3min\n",
      "[CV] n_estimators=381 ................................................\n",
      "[CV] ................................. n_estimators=361, total= 3.3min\n",
      "[CV] n_estimators=381 ................................................\n",
      "[CV] ................................. n_estimators=361, total= 3.3min\n",
      "[CV] n_estimators=381 ................................................\n",
      "[CV] ................................. n_estimators=361, total= 3.3min\n",
      "[CV] n_estimators=381 ................................................\n",
      "[CV] ................................. n_estimators=381, total= 3.5min\n",
      "[CV] n_estimators=381 ................................................\n",
      "[CV] ................................. n_estimators=381, total= 3.5min\n",
      "[CV] n_estimators=401 ................................................\n",
      "[CV] ................................. n_estimators=381, total= 3.7min\n",
      "[CV] n_estimators=401 ................................................\n",
      "[CV] ................................. n_estimators=381, total= 3.9min\n",
      "[CV] n_estimators=401 ................................................\n",
      "[CV] ................................. n_estimators=381, total= 4.1min\n",
      "[CV] n_estimators=401 ................................................\n",
      "[CV] ................................. n_estimators=401, total= 4.4min\n",
      "[CV] n_estimators=401 ................................................\n",
      "[CV] ................................. n_estimators=401, total= 4.5min\n",
      "[CV] n_estimators=421 ................................................\n",
      "[CV] ................................. n_estimators=401, total= 4.5min\n",
      "[CV] n_estimators=421 ................................................\n",
      "[CV] ................................. n_estimators=401, total= 4.4min\n",
      "[CV] n_estimators=421 ................................................\n",
      "[CV] ................................. n_estimators=401, total= 4.4min\n",
      "[CV] n_estimators=421 ................................................\n",
      "[CV] ................................. n_estimators=421, total= 4.6min\n",
      "[CV] n_estimators=421 ................................................\n",
      "[CV] ................................. n_estimators=421, total= 4.8min\n",
      "[CV] n_estimators=441 ................................................\n",
      "[CV] ................................. n_estimators=421, total= 4.7min\n",
      "[CV] n_estimators=441 ................................................\n",
      "[CV] ................................. n_estimators=421, total= 4.7min\n",
      "[CV] n_estimators=441 ................................................\n",
      "[CV] ................................. n_estimators=421, total= 4.7min\n",
      "[CV] n_estimators=441 ................................................\n",
      "[CV] ................................. n_estimators=441, total= 4.9min\n",
      "[CV] n_estimators=441 ................................................\n",
      "[CV] ................................. n_estimators=441, total= 5.0min\n",
      "[CV] n_estimators=461 ................................................\n",
      "[CV] ................................. n_estimators=441, total= 4.9min\n",
      "[CV] n_estimators=461 ................................................\n",
      "[CV] ................................. n_estimators=441, total= 4.7min\n",
      "[CV] n_estimators=461 ................................................\n",
      "[CV] ................................. n_estimators=441, total= 4.8min\n",
      "[CV] n_estimators=461 ................................................\n",
      "[CV] ................................. n_estimators=461, total= 5.2min\n",
      "[CV] n_estimators=461 ................................................\n",
      "[CV] ................................. n_estimators=461, total= 5.2min\n",
      "[CV] n_estimators=481 ................................................\n",
      "[CV] ................................. n_estimators=461, total= 5.1min\n",
      "[CV] n_estimators=481 ................................................\n",
      "[CV] ................................. n_estimators=461, total= 5.0min\n",
      "[CV] n_estimators=481 ................................................\n",
      "[CV] ................................. n_estimators=461, total= 5.1min\n",
      "[CV] n_estimators=481 ................................................\n",
      "[CV] ................................. n_estimators=481, total= 5.3min\n",
      "[CV] n_estimators=481 ................................................\n",
      "[CV] ................................. n_estimators=481, total= 5.3min\n",
      "[CV] ................................. n_estimators=481, total= 4.9min\n",
      "[CV] ................................. n_estimators=481, total= 4.3min\n",
      "[CV] ................................. n_estimators=481, total= 3.6min\n"
     ]
    },
    {
     "name": "stderr",
     "output_type": "stream",
     "text": [
      "[Parallel(n_jobs=4)]: Done 125 out of 125 | elapsed: 77.1min finished\n"
     ]
    },
    {
     "data": {
      "text/plain": [
       "GridSearchCV(cv=5, error_score='raise',\n",
       "       estimator=RandomForestRegressor(bootstrap=True, criterion='mse', max_depth=None,\n",
       "           max_features='auto', max_leaf_nodes=None,\n",
       "           min_impurity_decrease=0.0, min_impurity_split=None,\n",
       "           min_samples_leaf=1, min_samples_split=2,\n",
       "           min_weight_fraction_leaf=0.0, n_estimators=10, n_jobs=1,\n",
       "           oob_score=False, random_state=42, verbose=0, warm_start=False),\n",
       "       fit_params=None, iid=True, n_jobs=4,\n",
       "       param_grid={'n_estimators': range(1, 500, 20)},\n",
       "       pre_dispatch='2*n_jobs', refit=True, return_train_score='warn',\n",
       "       scoring=None, verbose=2)"
      ]
     },
     "execution_count": 21,
     "metadata": {},
     "output_type": "execute_result"
    }
   ],
   "source": [
    "params = {\n",
    "    'n_estimators': range(1,500,20)\n",
    "}\n",
    "rand_forest_cv = GridSearchCV(RandomForestRegressor(random_state=42), params, cv=5, verbose=2, n_jobs=-1)\n",
    "rand_forest_cv.fit(x_train, y_train)"
   ]
  },
  {
   "cell_type": "code",
   "execution_count": 22,
   "metadata": {},
   "outputs": [
    {
     "name": "stdout",
     "output_type": "stream",
     "text": [
      "Best n_estimators:  401\n",
      "Test set RMSE:  5061.310319645714\n"
     ]
    }
   ],
   "source": [
    "print(\"Best n_estimators: \", rand_forest_cv.best_params_['n_estimators'])\n",
    "print(\"Test set RMSE: \", mean_squared_error(y_test, rand_forest_cv.predict(x_test)))"
   ]
  },
  {
   "cell_type": "markdown",
   "metadata": {},
   "source": [
    "### Part b"
   ]
  },
  {
   "cell_type": "code",
   "execution_count": null,
   "metadata": {},
   "outputs": [],
   "source": [
    "params = {\n",
    "    'n_estimators': range(1,500,50),\n",
    "    'learning_rate': 10.0 ** np.array(range(-3,3,1), dtype=float),\n",
    "    'max_depth': range(1,5)\n",
    "}\n",
    "gbr_cv = GridSearchCV(GradientBoostingRegressor(random_state=42), params, cv=5, verbose=2, n_jobs=-1)\n",
    "gbr_cv.fit(x_train, y_train)"
   ]
  },
  {
   "cell_type": "code",
   "execution_count": null,
   "metadata": {},
   "outputs": [],
   "source": [
    "print(\"Best estimators: \", gbr_cv.best_params_)\n",
    "print(\"Test set RMSE: \", mean_squared_error(y_test, gbr_cv.predict(x_test)))"
   ]
  },
  {
   "cell_type": "markdown",
   "metadata": {},
   "source": [
    "### Part c"
   ]
  },
  {
   "cell_type": "code",
   "execution_count": null,
   "metadata": {},
   "outputs": [],
   "source": [
    "params = {\n",
    "    'n_estimators': range(1,16,2),\n",
    "    'learning_rate': 10.0 ** np.array(range(-3,1,1), dtype=float),\n",
    "}\n",
    "ada_cv = GridSearchCV(AdaBoostRegressor(random_state=42), params, cv=5, verbose=2, n_jobs=-1)\n",
    "ada_cv.fit(x_train, y_train)"
   ]
  },
  {
   "cell_type": "code",
   "execution_count": null,
   "metadata": {},
   "outputs": [],
   "source": [
    "print(\"Best estimators: \", ada_cv.best_params_)\n",
    "print(\"Test set RMSE: \", mean_squared_error(y_test, ada_cv.predict(x_test)))"
   ]
  },
  {
   "cell_type": "markdown",
   "metadata": {},
   "source": [
    "# Problem 2 - Random Forest vs Boosting - Classification (15 pts)\n",
    "In this question, we will compare performance of different ensemble methods for classification problems: [Random Forest](http://scikit-learn.org/stable/modules/generated/sklearn.ensemble.RandomForestClassifier.html), [Gradient Boosting Decision Tree](http://scikit-learn.org/stable/modules/generated/sklearn.ensemble.GradientBoostingClassifier.html) (GBDT), and [AdaBoost](http://scikit-learn.org/stable/modules/generated/sklearn.ensemble.AdaBoostClassifier.html#sklearn.ensemble.AdaBoostClassifier). As in HW4, you will be classifying signal vs background in the MAGIC Gamma Telescope Data Set. The data has been split into training and test as well as standardized for you.\n",
    "\n",
    "1. Use a [Random Forest](http://scikit-learn.org/stable/modules/generated/sklearn.ensemble.RandomForestClassifier.html) for the classification. Set the random_state to 42. Find the best parameters (by varying *n_estimators* and *criterion*) using [GridSearchCV](http://scikit-learn.org/stable/modules/generated/sklearn.model_selection.GridSearchCV.html). Report your testing accuracy ([accuracy_score](http://scikit-learn.org/stable/modules/generated/sklearn.metrics.accuracy_score.html)) and [roc_auc_score](http://scikit-learn.org/stable/modules/generated/sklearn.metrics.roc_auc_score.html#sklearn.metrics.roc_auc_score). You will need [predict_proba](http://scikit-learn.org/stable/modules/generated/sklearn.ensemble.RandomForestClassifier.html#sklearn.ensemble.RandomForestClassifier.predict_proba) for roc_auc_score. (4pts)\n",
    "\n",
    "2. Use [Gradient Boosting Decision Tree](http://scikit-learn.org/stable/modules/generated/sklearn.ensemble.GradientBoostingClassifier.html) (GBDT), and [AdaBoost](http://scikit-learn.org/stable/modules/generated/sklearn.ensemble.AdaBoostClassifier.html#sklearn.ensemble.AdaBoostClassifier) for the spam classification problem. Again, find the best parameters (including *n_estimators, learning_rate,* and *max_depth (GBDT only)*), and report corresponding accuracy_score and roc_auc_score on the test data for each algorithm. (8pts)\n",
    "\n",
    "3. Point out one advantage and one disadvantage of Random Forest compared to GBDT (3pts)"
   ]
  },
  {
   "cell_type": "code",
   "execution_count": 9,
   "metadata": {
    "collapsed": true
   },
   "outputs": [],
   "source": [
    "import pandas as pd\n",
    "import numpy as np\n",
    "from sklearn.model_selection import (train_test_split,GridSearchCV)\n",
    "from sklearn.metrics import (accuracy_score,roc_auc_score)\n",
    "from sklearn.ensemble import (RandomForestClassifier,GradientBoostingClassifier,AdaBoostClassifier)\n",
    "from sklearn import preprocessing"
   ]
  },
  {
   "cell_type": "code",
   "execution_count": 10,
   "metadata": {},
   "outputs": [
    {
     "name": "stderr",
     "output_type": "stream",
     "text": [
      "/usr/local/lib/python2.7/dist-packages/sklearn/utils/validation.py:475: DataConversionWarning: Data with input dtype object was converted to float64 by the scale function.\n",
      "  warnings.warn(msg, DataConversionWarning)\n"
     ]
    }
   ],
   "source": [
    "# load data\n",
    "# train\n",
    "train = pd.read_csv('magic_train.csv', header=None)\n",
    "y_train = train.values[:,10]\n",
    "y_train[y_train == 'g'] = 0\n",
    "y_train[y_train == 'h'] = 1\n",
    "y_train = y_train.astype(float)\n",
    "x_train = train.values[:,:10]\n",
    "\n",
    "# test\n",
    "test = pd.read_csv('magic_test.csv', header=None)\n",
    "y_test = test.values[:,10]\n",
    "y_test[y_test == 'g'] = 0\n",
    "y_test[y_test == 'h'] = 1\n",
    "y_test = y_test.astype(float)\n",
    "x_test = test.values[:,:10]\n",
    "\n",
    "# standardize the data\n",
    "x_train = preprocessing.scale(x_train)\n",
    "x_test = preprocessing.scale(x_test)"
   ]
  },
  {
   "cell_type": "markdown",
   "metadata": {},
   "source": [
    "## Solution\n",
    "### Part a"
   ]
  },
  {
   "cell_type": "code",
   "execution_count": null,
   "metadata": {},
   "outputs": [],
   "source": [
    "params = {\n",
    "    'n_estimators': range(1,500,50),\n",
    "    'criterion': ['gini', 'entropy']\n",
    "}\n",
    "rand_forest_clf_cv = GridSearchCV(RandomForestClassifier(random_state=42), params, cv=5, verbose=2, n_jobs=-1)\n",
    "rand_forest_clf_cv.fit(x_train, y_train)"
   ]
  },
  {
   "cell_type": "code",
   "execution_count": null,
   "metadata": {},
   "outputs": [],
   "source": [
    "print(\"Best estimators: \", rand_forest_clf_cv.best_params_)\n",
    "print(\"Test set RMSE: \", mean_squared_error(y_test, rand_forest_clf_cv.predict(x_test)))"
   ]
  },
  {
   "cell_type": "markdown",
   "metadata": {},
   "source": [
    "# Question 3: Visualization using Bokeh (10 pts)\n",
    "\n",
    "In this problem, you'll build an interactive visualization. Bokeh is a Python interactive visualization library that targets modern web browsers for presentation. For more information on Bokeh, see http://bokeh.pydata.org/en/latest/. The problem statement is as follows:\n",
    "\n",
    "Using the \"nbasalaries_new.csv\" data set, your goal is to build a Bokeh visualization which allows the user to explore how salary (on a log scale) varies with points per game (PSG) and age. You will create a visualization that allows the user to toggle the X axis of a scatter plot between PSG and age, with the y-axis always being log Salary. Also add the hover tool so that if the user hovers over a datapoint in the plot a window pops up that shows the player name, team, position, salary, and the current x variable (PSG or age) depending on the current tab.  Add the ability to Zoom in/out.\n",
    "\n",
    "Hints: \n",
    "1. see: http://bokeh.pydata.org/en/latest/docs/user_guide/tools.html#basic-tooltips for hover and zoom tool examples.\n",
    "2. See: http://bokeh.pydata.org/en/latest/docs/reference/plotting.html. Look for the scatter API.\n",
    "3. See: http://bokeh.pydata.org/en/0.10.0/docs/user_guide/styling.html#labels. For labeling axes.\n",
    "4. See: https://bokeh.pydata.org/en/latest/docs/user_guide/categorical.html  for how to use jitter transform\n",
    "5. Use output_file() from Bokeh to output the plot to an external file. Submit this file as well."
   ]
  },
  {
   "cell_type": "code",
   "execution_count": 1,
   "metadata": {
    "collapsed": true
   },
   "outputs": [],
   "source": [
    "import pandas as pd\n",
    "import numpy as np\n",
    "from bokeh.models.widgets import Panel, Tabs\n",
    "from bokeh.models import CustomJS, ColumnDataSource, HoverTool, BoxZoomTool, Jitter\n",
    "from bokeh.plotting import figure, output_notebook, show, output_file\n",
    "\n",
    "data = pd.read_csv(\"nbasalaries_new.csv\")\n",
    "data[\"logsalary\"] = data.SALARY.apply(np.log)"
   ]
  },
  {
   "cell_type": "markdown",
   "metadata": {},
   "source": [
    "## Solution"
   ]
  }
 ],
 "metadata": {
  "anaconda-cloud": {},
  "kernelspec": {
   "display_name": "Python 2",
   "language": "python",
   "name": "python2"
  },
  "language_info": {
   "codemirror_mode": {
    "name": "ipython",
    "version": 3
   },
   "file_extension": ".py",
   "mimetype": "text/x-python",
   "name": "python",
   "nbconvert_exporter": "python",
   "pygments_lexer": "ipython3",
   "version": "3.5.2"
  }
 },
 "nbformat": 4,
 "nbformat_minor": 1
}
