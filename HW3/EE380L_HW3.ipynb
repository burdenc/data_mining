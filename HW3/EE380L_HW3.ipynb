{
 "cells": [
  {
   "cell_type": "markdown",
   "metadata": {},
   "source": [
    "\n",
    "# <p style=\"text-align: center;\">EE 380L: Data Mining</p>\n",
    "# <p style=\"text-align: center;\">Assignment 3</p>\n",
    "## <p style=\"text-align: center;\">Total points: 80</p>\n",
    "## <p style=\"text-align: center;\">Due: Tuesday, March 20th, submitted via Canvas by 11:59 pm</p>\n",
    "\n",
    "Your homework should be written in a **Jupyter notebook**. You may work in groups of two if you wish. Only one student per team needs to submit the assignment on Canvas.  But be sure to include name and UTID for both students.  Homework groups will be created and managed through Canvas, so please do not arbitrarily change your homework group.  \n",
    "\n",
    "Also, please make sure your code runs and the graphics (and anything else) are displayed in your notebook before submitting. (%matplotlib inline)"
   ]
  },
  {
   "cell_type": "markdown",
   "metadata": {},
   "source": [
    "# Question 1 - Gradient Descent (5+12+3 = 20pts)\n",
    "\n",
    "In this question you will implement vanilla SGD and 2 adaptive gradient update techniques called Adagrad and Adadelta. In addition, you will also implement ridge regularization. "
   ]
  },
  {
   "cell_type": "markdown",
   "metadata": {},
   "source": [
    "1. Using stochastic gradient descent, derive the coefficent updates for all 4 coefficients of the model: $$ y = w_0 + w_1*x_1 + w_2*x_1*x_1 + w_3*x_2*x_2 + w_4*x_2 $$ Hint: start from the cost function (Assume sum of squared error). If you write the math by hand, submit that as a separate file and make a reference to it in your notebook or include the image in your notebook.\n",
    "2. Write Python code for an SGD solution to the non-linear model $$ y = w_0 + w_1*x_1 + w_2*x_1*x_1 + w_3*x_2*x_2 + w_4*x_2 $$ Try to format similarly to scikit-learn's models. Your Python class should take as input the learning_rate, regularization_constant and number of epochs. The fit method must take as input X,y and a choice of update_rule as 'SGD', 'adagrad' or 'adadelta' (Notes on implementation below). The _predict_ method takes an X value (optionally, an array of values). Use your new gradient descent regression to predict the data given in 'samples.csv', for 20 epochs (this may have to increase for adadelta), using learning rates: [.0001, .001, .01, 0.1, 1, 10, 100] and regularization constants in the range: [0,10,100] . Plot MSE and the $w$ parameters as a function of epoch count (20 epochs) for the best combination of learning_rate and regularization for both SGD, Adagrad and Adadelta. ie you should have a plot of MSE and parameter updates for SGD, adagrad and adadelta. Report the MSE at the end of 10 epochs for all 3.\n",
    "3. Based on the experiments, answer the following:"
   ]
  },
  {
   "cell_type": "markdown",
   "metadata": {},
   "source": [
    "1. Among SGD and Adagrad, which one allows for larger initial setting of the learning_rate? Why?\n",
    "2. Mention one benefit and one drawback of Adadelta over Adagrad"
   ]
  },
  {
   "cell_type": "markdown",
   "metadata": {},
   "source": [
    "# Notes on Adagrad/Adadelta\n",
    "Adagrad (http://ruder.io/optimizing-gradient-descent/) differs from vanilla SGD in that the learning rate of each weight changes over updates. A cache is maintained that holds the sum of squares of all gradients upto the current update. The learning_rate is divided by the cache, resulting in a different learning rate for each weight. A consequence of this update rule is that weights that have already seen large gradients (made large jumps) make smaller updates in subsequent iterations.\n",
    "Specifically, the steps can be listed as below:\n",
    "1. cache = cache + (gradients^2)\n",
    "2. weights = weights + ((learning_rate)/sqrt(cache+1e-6))*gradients\n",
    "\n",
    "The key difference between Adadelta and Adagrad is that the former uses a weighted sum for each update of the cache. Also, you will not need to use a learning rate to make Adadelta work. In addition to the link above, the paper on Adadelta is a great resource to implement it correctly (https://arxiv.org/pdf/1212.5701.pdf)"
   ]
  },
  {
   "cell_type": "markdown",
   "metadata": {},
   "source": [
    "# (Optional) Notes on Training with Gradient Descent\n",
    "1. Compute error: This consists of a prediction error and a regularization term. From an implementation perspective, this is a function that takes as input the truth, prediction and regularization hyperparameter and returns an error\n",
    "2. Compute gradients: Take a derivative of the error in terms of the weights. This can be modelled as a function that takes as input the error and features and returns the gradients for each weight\n",
    "3. Update weights: Weight updates can be done using vanilla SGD or adaptive techniques. The update function takes as inputs the gradient and hyperparameters and returns the new weights."
   ]
  },
  {
   "cell_type": "markdown",
   "metadata": {},
   "source": [
    "### 1\n",
    "<img src=\"1_math.png\">"
   ]
  },
  {
   "cell_type": "markdown",
   "metadata": {},
   "source": [
    "### 2"
   ]
  },
  {
   "cell_type": "code",
   "execution_count": 146,
   "metadata": {},
   "outputs": [
    {
     "name": "stdout",
     "output_type": "stream",
     "text": [
      "Hello\n"
     ]
    },
    {
     "name": "stderr",
     "output_type": "stream",
     "text": [
      "/usr/local/lib/python3.5/dist-packages/ipykernel_launcher.py:76: RuntimeWarning: overflow encountered in multiply\n",
      "/usr/local/lib/python3.5/dist-packages/ipykernel_launcher.py:77: RuntimeWarning: overflow encountered in multiply\n",
      "/usr/local/lib/python3.5/dist-packages/ipykernel_launcher.py:76: RuntimeWarning: invalid value encountered in double_scalars\n",
      "/usr/local/lib/python3.5/dist-packages/ipykernel_launcher.py:77: RuntimeWarning: invalid value encountered in double_scalars\n",
      "/usr/local/lib/python3.5/dist-packages/ipykernel_launcher.py:78: RuntimeWarning: invalid value encountered in double_scalars\n",
      "/usr/local/lib/python3.5/dist-packages/ipykernel_launcher.py:79: RuntimeWarning: invalid value encountered in double_scalars\n",
      "/usr/local/lib/python3.5/dist-packages/ipykernel_launcher.py:80: RuntimeWarning: invalid value encountered in double_scalars\n"
     ]
    },
    {
     "name": "stdout",
     "output_type": "stream",
     "text": [
      "Sgd generated exception for rate:  1  reg:  0\n"
     ]
    },
    {
     "name": "stderr",
     "output_type": "stream",
     "text": [
      "/usr/local/lib/python3.5/dist-packages/ipykernel_launcher.py:87: RuntimeWarning: overflow encountered in multiply\n",
      "/usr/local/lib/python3.5/dist-packages/ipykernel_launcher.py:88: RuntimeWarning: overflow encountered in multiply\n",
      "/usr/local/lib/python3.5/dist-packages/ipykernel_launcher.py:89: RuntimeWarning: overflow encountered in multiply\n"
     ]
    },
    {
     "name": "stdout",
     "output_type": "stream",
     "text": [
      "Sgd generated exception for rate:  10  reg:  0\n",
      "Sgd generated exception for rate:  100  reg:  0\n"
     ]
    },
    {
     "name": "stderr",
     "output_type": "stream",
     "text": [
      "/usr/local/lib/python3.5/dist-packages/ipykernel_launcher.py:76: RuntimeWarning: overflow encountered in double_scalars\n",
      "/usr/local/lib/python3.5/dist-packages/ipykernel_launcher.py:77: RuntimeWarning: overflow encountered in double_scalars\n",
      "/usr/local/lib/python3.5/dist-packages/ipykernel_launcher.py:78: RuntimeWarning: overflow encountered in double_scalars\n",
      "/usr/local/lib/python3.5/dist-packages/ipykernel_launcher.py:79: RuntimeWarning: overflow encountered in double_scalars\n",
      "/usr/local/lib/python3.5/dist-packages/ipykernel_launcher.py:80: RuntimeWarning: overflow encountered in double_scalars\n",
      "/usr/local/lib/python3.5/dist-packages/ipykernel_launcher.py:87: RuntimeWarning: invalid value encountered in subtract\n"
     ]
    },
    {
     "name": "stdout",
     "output_type": "stream",
     "text": [
      "Sgd generated exception for rate:  1  reg:  10\n"
     ]
    },
    {
     "name": "stderr",
     "output_type": "stream",
     "text": [
      "/usr/local/lib/python3.5/dist-packages/ipykernel_launcher.py:69: RuntimeWarning: overflow encountered in double_scalars\n",
      "/usr/local/lib/python3.5/dist-packages/ipykernel_launcher.py:88: RuntimeWarning: invalid value encountered in subtract\n",
      "/usr/local/lib/python3.5/dist-packages/ipykernel_launcher.py:89: RuntimeWarning: invalid value encountered in subtract\n",
      "/usr/local/lib/python3.5/dist-packages/ipykernel_launcher.py:90: RuntimeWarning: invalid value encountered in subtract\n",
      "/usr/local/lib/python3.5/dist-packages/ipykernel_launcher.py:91: RuntimeWarning: invalid value encountered in subtract\n"
     ]
    },
    {
     "name": "stdout",
     "output_type": "stream",
     "text": [
      "Sgd generated exception for rate:  10  reg:  10\n"
     ]
    },
    {
     "name": "stderr",
     "output_type": "stream",
     "text": [
      "/usr/local/lib/python3.5/dist-packages/ipykernel_launcher.py:90: RuntimeWarning: overflow encountered in multiply\n",
      "/usr/local/lib/python3.5/dist-packages/ipykernel_launcher.py:91: RuntimeWarning: overflow encountered in multiply\n",
      "/usr/local/lib/python3.5/dist-packages/ipykernel_launcher.py:69: RuntimeWarning: invalid value encountered in double_scalars\n"
     ]
    },
    {
     "name": "stdout",
     "output_type": "stream",
     "text": [
      "Sgd generated exception for rate:  100  reg:  10\n"
     ]
    },
    {
     "name": "stderr",
     "output_type": "stream",
     "text": [
      "/usr/local/lib/python3.5/dist-packages/ipykernel_launcher.py:78: RuntimeWarning: overflow encountered in add\n"
     ]
    },
    {
     "name": "stdout",
     "output_type": "stream",
     "text": [
      "Sgd generated exception for rate:  0.1  reg:  100\n",
      "Sgd generated exception for rate:  1  reg:  100\n",
      "Sgd generated exception for rate:  10  reg:  100\n",
      "Sgd generated exception for rate:  100  reg:  100\n",
      "sgd optimal mse:  4.47407238812092e-06  rate:  0.1 reg:  0\n",
      "adagrad optimal mse:  3.0886754435242458e-06  rate:  1 reg:  0\n",
      "adadelta optimal mse:  0.03642068333024651  rate:  0.1 reg:  0\n"
     ]
    }
   ],
   "source": [
    "import pandas as pd\n",
    "import numpy as np\n",
    "from sklearn.model_selection import (train_test_split,KFold)\n",
    "from sklearn.metrics import mean_squared_error\n",
    "from sklearn.preprocessing import StandardScaler\n",
    "import math\n",
    "import matplotlib.pyplot as plt\n",
    "import copy\n",
    "\n",
    "class SGD:\n",
    "    def __init__(self, learning_rate, regularization_constant, epochs):\n",
    "        self.learning_rate = learning_rate\n",
    "        self.regularization_constant = regularization_constant\n",
    "        self.epochs = epochs\n",
    "        self.plot_weights = []\n",
    "        self.plot_errors = []\n",
    "        self.plot_epoch = []\n",
    "        self.epoch_num = 0\n",
    "        self.weights = np.random.random_sample(5,)\n",
    "        self.X = []\n",
    "        self.y = []\n",
    "        self.update_mode = 0\n",
    "        self.cache = [[0.0],[0.0],[0.0],[0.0],[0.0]]\n",
    "        self.cache = np.array(self.cache)\n",
    "        self.gradient_ms = [[0.0],[0.0],[0.0],[0.0],[0.0]]\n",
    "        self.gradient_ms = np.array(self.gradient_ms)\n",
    "        self.parameter_ms = [[0.0],[0.0],[0.0],[0.0],[0.0]]\n",
    "        self.parameter_ms = np.array(self.parameter_ms)\n",
    "        \n",
    "        \n",
    "    def fit(self, X, y, update_rule=\"SGD\"):\n",
    "        if(update_rule == 'adagrad'):\n",
    "            self.update_mode = 1\n",
    "        elif(update_rule == 'adadelta'):\n",
    "            self.update_mode = 2\n",
    "        self.X = X\n",
    "        self.y = y\n",
    "        self.evaluate_model()\n",
    "        self.epoch_num = self.epoch_num + 1\n",
    "        while (self.epoch_num <= self.epochs):\n",
    "            for index in range(len(X)):\n",
    "                truth = y[index]\n",
    "                features = X[index]\n",
    "                #print(\"This is truth: \", truth)\n",
    "                #print(\"This is features: \", features)\n",
    "                prediction = self.predict_one(features)\n",
    "                #print(\"This is prediction: \", prediction)\n",
    "                error = self.compute_error(truth,prediction)\n",
    "                gradients = self.compute_gradients(error, features)\n",
    "                self.update_weights(gradients)\n",
    "            self.evaluate_model()\n",
    "            self.epoch_num = self.epoch_num + 1\n",
    "        \n",
    "    def evaluate_model(self):\n",
    "        predictions = self.predict_all(X)\n",
    "        mse = mean_squared_error(y,predictions)\n",
    "        self.plot_errors.append(mse)\n",
    "        self.plot_weights.append(copy.deepcopy(self.weights)) #may want to do deep copy here\n",
    "        self.plot_epoch.append(self.epoch_num)\n",
    "        #print(\"MSE: \", mse, \" Epoch_num: \", self.epoch_num)\n",
    "        return mse\n",
    "    def predict_all(self, X):\n",
    "        predictions = []\n",
    "        for x in X:\n",
    "            predictions.append(self.predict_one(x))\n",
    "        return predictions\n",
    "            \n",
    "    def predict_one(self, X):\n",
    "        return self.weights[0] + X[0]*self.weights[1] + X[0]*X[0]*self.weights[2] \\\n",
    "            + X[1]*X[1]*self.weights[3] + X[1]*self.weights[4] \n",
    "        \n",
    "    def compute_error(self, truth, prediction):\n",
    "        return prediction - truth\n",
    "    \n",
    "    def compute_gradients(self, error, features):\n",
    "        gradients = []\n",
    "        gradients.append(2*error + self.regularization_constant*self.weights[0])\n",
    "        gradients.append(2*features[0]*error + self.regularization_constant*self.weights[1])\n",
    "        gradients.append(2*features[0]*features[0]*error + self.regularization_constant*self.weights[2])\n",
    "        gradients.append(2*features[1]*features[1]*error + self.regularization_constant*self.weights[3])\n",
    "        gradients.append(2*features[1]*error + self.regularization_constant*self.weights[4])\n",
    "        #print(\"These are gradients: \", gradients)\n",
    "        return gradients\n",
    "    \n",
    "    def update_weights(self, gradients):\n",
    "        #print(\"Beginning weights: \", self.weights)\n",
    "        if(self.update_mode == 0):\n",
    "            self.weights[0] = self.weights[0] - self.learning_rate*gradients[0] \n",
    "            self.weights[1] = self.weights[1] - self.learning_rate*gradients[1]\n",
    "            self.weights[2] = self.weights[2] - self.learning_rate*gradients[2]\n",
    "            self.weights[3] = self.weights[3] - self.learning_rate*gradients[3]\n",
    "            self.weights[4] = self.weights[4] - self.learning_rate*gradients[4]\n",
    "        if(self.update_mode == 1):\n",
    "            gradients_squared = np.multiply(gradients,gradients)\n",
    "            #print(\"This is gradients_squared \", gradients_squared)\n",
    "            #print(\"This  was self.cache \", self.cache)\n",
    "            self.cache = np.add(self.cache, gradients_squared)\n",
    "            #print(\"This is now self.cache \", self.cache)\n",
    "            self.weights[0] = self.weights[0] - self.learning_rate*gradients[0]/math.sqrt(self.cache[0] + 1e-6)\n",
    "            self.weights[1] = self.weights[1] - self.learning_rate*gradients[1]/math.sqrt(self.cache[1] + 1e-6)\n",
    "            self.weights[2] = self.weights[2] - self.learning_rate*gradients[2]/math.sqrt(self.cache[2] + 1e-6)\n",
    "            self.weights[3] = self.weights[3] - self.learning_rate*gradients[3]/math.sqrt(self.cache[3] + 1e-6)\n",
    "            self.weights[4] = self.weights[4] - self.learning_rate*gradients[4]/math.sqrt(self.cache[4] + 1e-6)\n",
    "        if(self.update_mode == 2):\n",
    "            update_vals = [[0.0], [0.0], [0.0], [0.0], [0.0]]\n",
    "            update_vals = np.array(update_vals)\n",
    "            self.gradient_ms = np.add(np.multiply(0.9, self.gradient_ms), np.multiply(0.1,np.multiply(gradients,gradients)))\n",
    "            update_vals[0] = -1*gradients[0]*math.sqrt(self.parameter_ms[0] + 1e-6)/math.sqrt(self.gradient_ms[0] + 1e-6)\n",
    "            update_vals[1] = -1*gradients[1]*math.sqrt(self.parameter_ms[1] + 1e-6)/math.sqrt(self.gradient_ms[1] + 1e-6)\n",
    "            update_vals[2] = -1*gradients[2]*math.sqrt(self.parameter_ms[2] + 1e-6)/math.sqrt(self.gradient_ms[2] + 1e-6)\n",
    "            update_vals[3] = -1*gradients[3]*math.sqrt(self.parameter_ms[3] + 1e-6)/math.sqrt(self.gradient_ms[3] + 1e-6)\n",
    "            update_vals[4] = -1*gradients[4]*math.sqrt(self.parameter_ms[4] + 1e-6)/math.sqrt(self.gradient_ms[4] + 1e-6)\n",
    "            #update parameter rms\n",
    "            self.parameter_ms = np.add(np.multiply(0.9, self.parameter_ms), np.multiply(0.1,np.multiply(update_vals,update_vals)))\n",
    "            #print(\"gradients: \", gradients)\n",
    "            #print(\"update_vals: \", update_vals)\n",
    "            #print(\"gradient_ms: \", self.gradient_ms)\n",
    "            #print(\"parameter_ms: \", self.parameter_ms)\n",
    "            self.weights[0] = self.weights[0] + update_vals[0]\n",
    "            self.weights[1] = self.weights[1] + update_vals[1]\n",
    "            self.weights[2] = self.weights[2] + update_vals[2]\n",
    "            self.weights[3] = self.weights[3] + update_vals[3]\n",
    "            self.weights[4] = self.weights[4] + update_vals[4]\n",
    "        #print(\"Ending weights: \", self.weights)\n",
    "    \n",
    "    \n",
    "print (\"Hello\")\n",
    "df = pd.read_csv('samples.csv')\n",
    "df = df.dropna()\n",
    "X = df[[u'x_1',u'x_2']]\n",
    "X = X.as_matrix()\n",
    "X = X.astype('float')\n",
    "y = df[[u'y']]\n",
    "y = y.as_matrix()\n",
    "y = np.array(y)\n",
    "y = y.astype('float')\n",
    "regularizations = [0,10,100]\n",
    "learning_rates = [0.0001, 0.001, 0.01, 0.1, 1, 10, 100]\n",
    "mse_sgd = 10000000\n",
    "sgd_rate = 0\n",
    "sgd_reg = 0\n",
    "sgd_fit = SGD(rate,reg,20)\n",
    "mse_adagrad = 10000000\n",
    "adagrad_rate = 0\n",
    "adagrad_reg = 0\n",
    "adagrad_fit = SGD(rate,reg,20)\n",
    "mse_adadelta = 10000000\n",
    "adadelta_rate = 0\n",
    "adadelta_reg = 0\n",
    "adadelta_fit = SGD(rate,reg,20)\n",
    "for reg in regularizations:\n",
    "    for rate in learning_rates:\n",
    "        #print(\"rate: \", rate, \" reg: \", reg)\n",
    "        sgd = SGD(rate,reg,20)\n",
    "        #print(\"sgd\")\n",
    "        try:\n",
    "            sgd.fit(X,y,\"SGD\")\n",
    "            new_mse = sgd.evaluate_model()\n",
    "            if(new_mse < mse_sgd):\n",
    "                mse_sgd = new_mse\n",
    "                sgd_rate = rate\n",
    "                sgd_reg = reg\n",
    "                sgd_fit = sgd\n",
    "        except Exception as e:\n",
    "            print(\"Sgd generated exception for rate: \", rate, \" reg: \", reg)\n",
    "        sgd = SGD(rate,reg,20)\n",
    "        #print(\"adagrad\")\n",
    "        sgd.fit(X,y,\"adagrad\")\n",
    "        new_mse = sgd.evaluate_model()\n",
    "        if(new_mse < mse_adagrad):\n",
    "            mse_adagrad = new_mse\n",
    "            adagrad_rate = rate\n",
    "            adagrad_reg = reg\n",
    "            adagrad_fit = sgd\n",
    "        sgd = SGD(rate,reg,20)\n",
    "        #print(\"adadelta\")\n",
    "        sgd.fit(X,y,\"adadelta\")\n",
    "        new_mse = sgd.evaluate_model()\n",
    "        if(new_mse < mse_adadelta):\n",
    "            mse_adadelta = new_mse\n",
    "            adadelta_rate = rate\n",
    "            adadelta_reg = reg\n",
    "            adadelta_fit = sgd\n",
    "            \n",
    "print(\"sgd optimal mse: \", mse_sgd, \" rate: \", sgd_rate, \"reg: \", sgd_reg)\n",
    "print(\"adagrad optimal mse: \", mse_adagrad, \" rate: \", adagrad_rate, \"reg: \", adagrad_reg)\n",
    "print(\"adadelta optimal mse: \", mse_adadelta, \" rate: \", adadelta_rate, \"reg: \", adadelta_reg)\n"
   ]
  },
  {
   "cell_type": "code",
   "execution_count": 147,
   "metadata": {},
   "outputs": [
    {
     "name": "stdout",
     "output_type": "stream",
     "text": [
      "weights at sgd epoch 10:  [-2.00680701  1.50237884  1.99622047  3.58029938 -5.98132719]\n"
     ]
    },
    {
     "data": {
      "image/png": "[encoded data removed]",
      "text/plain": [
       "<matplotlib.figure.Figure at 0x7fe537a49198>"
      ]
     },
     "metadata": {},
     "output_type": "display_data"
    },
    {
     "data": {
      "image/png": "[encoded data removed]",
      "text/plain": [
       "<matplotlib.figure.Figure at 0x7fe537a49da0>"
      ]
     },
     "metadata": {},
     "output_type": "display_data"
    },
    {
     "name": "stdout",
     "output_type": "stream",
     "text": [
      "weights at adagrad epoch 10:  [-2.01203368  1.50210452  1.99611103  3.54997972 -5.95081766]\n"
     ]
    },
    {
     "data": {
      "image/png": "[encoded data removed]",
      "text/plain": [
       "<matplotlib.figure.Figure at 0x7fe537a4f8d0>"
      ]
     },
     "metadata": {},
     "output_type": "display_data"
    },
    {
     "name": "stdout",
     "output_type": "stream",
     "text": [
      "weights at adadelta epoch 10:  [-2.52411465  1.21361406  2.27749647  0.04187826 -2.5073929 ]\n"
     ]
    }
   ],
   "source": [
    "#sgd = SGD(0.1,0,20)\n",
    "#sgd.fit(X,y,\"SGD\")\n",
    "plt.plot(sgd_fit.plot_epoch, sgd_fit.plot_errors)\n",
    "weight_transpose = np.array(sgd_fit.plot_weights).transpose()\n",
    "plt.plot(sgd_fit.plot_epoch, weight_transpose[0])\n",
    "plt.plot(sgd_fit.plot_epoch, weight_transpose[1])\n",
    "plt.plot(sgd_fit.plot_epoch, weight_transpose[2])\n",
    "plt.plot(sgd_fit.plot_epoch, weight_transpose[3])\n",
    "plt.plot(sgd_fit.plot_epoch, weight_transpose[4])\n",
    "plt.xlabel(\"epochs sgd\")\n",
    "plt.ylabel(\"mse\")\n",
    "print(\"weights at sgd epoch 10: \", sgd_fit.plot_weights[10])\n",
    "plt.show()\n",
    "plt.plot(adagrad_fit.plot_epoch, adagrad_fit.plot_errors)\n",
    "weight_transpose = np.array(adagrad_fit.plot_weights).transpose()\n",
    "plt.plot(adagrad_fit.plot_epoch, weight_transpose[0])\n",
    "plt.plot(adagrad_fit.plot_epoch, weight_transpose[1])\n",
    "plt.plot(adagrad_fit.plot_epoch, weight_transpose[2])\n",
    "plt.plot(adagrad_fit.plot_epoch, weight_transpose[3])\n",
    "plt.plot(adagrad_fit.plot_epoch, weight_transpose[4])\n",
    "plt.xlabel(\"epochs adagrad\")\n",
    "plt.ylabel(\"mse and weights\")\n",
    "plt.show()\n",
    "print(\"weights at adagrad epoch 10: \", adagrad_fit.plot_weights[10])\n",
    "plt.plot(adadelta_fit.plot_epoch, adadelta_fit.plot_errors)\n",
    "weight_transpose = np.array(adadelta_fit.plot_weights).transpose()\n",
    "plt.plot(adadelta_fit.plot_epoch, weight_transpose[0])\n",
    "plt.plot(adadelta_fit.plot_epoch, weight_transpose[1])\n",
    "plt.plot(adadelta_fit.plot_epoch, weight_transpose[2])\n",
    "plt.plot(adadelta_fit.plot_epoch, weight_transpose[3])\n",
    "plt.plot(adadelta_fit.plot_epoch, weight_transpose[4])\n",
    "plt.xlabel(\"epochs adadelta\")\n",
    "plt.ylabel(\"mse and weights\")\n",
    "plt.show()\n",
    "print(\"weights at adadelta epoch 10: \", adadelta_fit.plot_weights[10])"
   ]
  },
  {
   "cell_type": "markdown",
   "metadata": {},
   "source": [
    "### 3 \n",
    "#### 1 Amond SGD and Adagrad, which one allows for larger initial setting of the learning_rate? Why?\n",
    "\n",
    "Adagrad does, because the \"efffective\" learning rate will slowly decay for Adagrad which helps to prevent divergence. \n",
    "\n",
    "#### 2 Mention one benefit and one drawback of Adadelta over Adagrad\n",
    "\n",
    "One benefit of Adadelta over Adagrad is that it is not so dependent on the initial learning rate and initial samples. Adagrad will have change very aggressively in the beginning and then slow down, so if the first few samples send Adagrad to a bad solution, Adagrad will struggle to correct that bad solution. A drawback of Adadelta would be that Adadelta requires a bit of warm up time for the learning rate because its using the average of previous values, so initial samples will have less effect on the solution than later values. This is ok if we have a lot of data, but with less data this could become a real issue. "
   ]
  },
  {
   "cell_type": "markdown",
   "metadata": {},
   "source": [
    "# Question 2. (6+4=10 pts) Tensor Playground\n",
    "Visit http://playground.tensorflow.org for this problem\n",
    "\n",
    "A. From the far right, select \"Regression\" as the problem type, and select the 2nd of the two data sets ( the right one ).  \n",
    "\n",
    "   i) What sort of test / training loss do you get if you run it for 200 epochs with the following learning rates: .3, .01 and .003 ?  What if you run it for 1000 epochs with these learning rates?  Leave all other values at their defaults ( test/training ratio 50%, Noise 0, Batch Size 10, using Tanh activation function, and No Regularization )\n",
    "   \n",
    "   ii) Keeping learning rate at .3, Activation at Tanh, with all others at their defaults, and running for 200 epochs.  \n",
    "     What sort of test/train loss can you achieve using only 1 neuron in the first hidden layer.  What about for 2,3 or 8 neurons?  Provide screen shots of output layer and comment on how the different output fits look and compare with one another.\n",
    "\n",
    "   iii)Now keeping learning rate at .03 with all others at their defaults, and running for 200 epochs.  \n",
    "       Compare how the activation functions affect the ouput ( ReLU, Sigmoid, Tanh, Linear ). Provide screen shots of output results and comment.\n",
    "\n",
    "\n",
    "B. Neural Nets can fit anything.  Now reset to the initial defaults, and select \"Classification\" as the problem type, and from the Data section, select the bottom right \"Spriral\" data set.  With the idea of trying to minimize training/testing error, provide solutions to the problem for the following 2 scenarios.  i) Using just the first 2 inputs ( as per default ) and ii) Using all 7 of the inputs.  You may use as many layers as you want, whatever activation, however man neurons.  Provide screen shots which show your full network, output and parameters. Briefly justify your decisions, and comment on difficulties/tradeoffs, what helps/what doesn't,etc. \n",
    "\n",
    "## ANSWER\n",
    "\n",
    "### i\n",
    "200 Epochs\n",
    "0.3 - test loss: 0.020, training loss: 0.016\n",
    "\n",
    "0.01 - test loss: .04, training loss: 0.03\n",
    "\n",
    "0.003 - test loss: 0.046, training loss: 0.036\n",
    "\n",
    "1000 Epochs\n",
    "0.3 - test loss: 0.012, training loss: 0.009\n",
    "\n",
    "0.01 - test loss: 0.019, training loss: 0.016\n",
    "\n",
    "0.003 - test loss: 0.024, training loss: 0.019\n",
    "\n",
    "### ii\n",
    "1 Neuron in 1st Hidden Layer\n",
    "\n",
    "test: 0.041, training: 0.038\n",
    "\n",
    "We can see that with just one neuron in the hidden layer the model lacks power in order to accurately predict this dataset. This is because the limited number of weights can not represent this function. \n",
    "<img src=\"2_1.png\">"
   ]
  },
  {
   "cell_type": "markdown",
   "metadata": {},
   "source": [
    "2 Neurons in Hidden Layer\n",
    "\n",
    "test: 0.029, training: 0.027\n",
    "\n",
    "As we add more features the models complexity increases and so does the power to represent more complicated functions. As we increase the number of weights our power increases and we can represent more complicated functions.\n",
    "<img src=\"2_2.png\">"
   ]
  },
  {
   "cell_type": "markdown",
   "metadata": {},
   "source": [
    "3 neurons in Hidden Layer\n",
    "\n",
    "test: 0.022, training: 0.020\n",
    "\n",
    "This was a very big improvement, now we start to see the model correctly identifying the 3 very blue and 3 very orange areas. \n",
    "\n",
    "<img src=\"2_3.png\">"
   ]
  },
  {
   "cell_type": "markdown",
   "metadata": {},
   "source": [
    "8 neurons in Hidden Layer\n",
    "\n",
    "test: 0.016, training: 0.015\n",
    "\n",
    "The model was already doing pretty well, which is why we do not see as large an improvement from 3 neurons to 8 neurons as from 2 to 3. We can see from this lowered benefit that we are near or already passed the threshold of the most powerful network which we need. It is very possible with increased complexity we may see no benefit at all because of overfitting.\n",
    "<img src=\"2_4.png\">"
   ]
  },
  {
   "cell_type": "markdown",
   "metadata": {},
   "source": [
    "### iii\n",
    "\n",
    "tanh, test loss: 0.022, training loss 0.020\n",
    "\n",
    "tanh does the best of any function for this problem. We see it does the best at generalizing the data as well in that the boundaries look more natural. \n",
    "<img src=\"2_5.png\">"
   ]
  },
  {
   "cell_type": "markdown",
   "metadata": {},
   "source": [
    "RelU, test loss: 0.027, training loss 0.027\n",
    "\n",
    "RelU is very powerful because of its ability to not saturate. However, we also have the problem of neurons dying because of them falling into the less than 0 region of the RelU. \n",
    "\n",
    "<img src=\"2_6.png\">"
   ]
  },
  {
   "cell_type": "markdown",
   "metadata": {},
   "source": [
    "Sigmoid, test loss: 0.041, training loss 0.044\n",
    "\n",
    "Sigmoid really struggles with this data set. I believed simgoid was supposed to be quite good, however it looks like it really struggles. This is possibly because of it not being zero centered which restricts later nodes in the model because no negative values can come out of the non linearity. \n",
    "\n",
    "<img src=\"2_7.png\">"
   ]
  },
  {
   "cell_type": "markdown",
   "metadata": {},
   "source": [
    "Linear, test loss: 0.040, training loss 0.044\n",
    "\n",
    "It is clear to see why linear would struggle with this problem given the data we are trying to model is clearly non linear.\n",
    "\n",
    "<img src=\"2_8.png\">"
   ]
  },
  {
   "cell_type": "markdown",
   "metadata": {},
   "source": [
    "### b part i\n",
    "For this problem I knew I was going to need a deep and complex network in order to get a good solution. A lot of weights would be needed in order to turn just 2 features into this output. I also felt that depth would be good in order to generalize the shape of the spiral. Because I figured I would need a large and deep network, I though RelU would be better to help with the weight decay problem when using the tanh function. However, it did take me quite a few tries when running this network to get a really good answer because the space in which to get lost in is so much larger with this complicated of a network. \n",
    "<img src=\"2_9.png\">"
   ]
  },
  {
   "cell_type": "markdown",
   "metadata": {},
   "source": [
    "### ii\n",
    "For this problem I chose to go with a smaller and less deep network. Because of the inclusion of the other features, there are now non linear functions which can really help when trying to predict something complicated like a spiral. The two sin functions are very beneficial because of their circular nature too. Because of these additional features, I felt less neurons would be needed. Because less neurons were needed and the depth of the network was not too large, I believed a tanh function would do quite well. I did have to run this one a few times to get a really good answer, but not nearly as many times as the network in part i.\n",
    "<img src=\"2_10.png\">"
   ]
  },
  {
   "cell_type": "markdown",
   "metadata": {},
   "source": [
    "# Question 3: Multi-layer Perceptron Regressor (15 points)\n",
    "\n",
    "In this question, you will explore the application of Multi-layer Perceptron (MLP) regression using sklearn package in Python. We will use the OpenCL gemm kernel performance prediction dataset for this problem https://archive.ics.uci.edu/ml/datasets/SGEMM+GPU+kernel+performance.\n",
    "\n",
    "Following code will pre-process the data and split the data into training and test set using [train_test_split](http://scikit-learn.org/stable/modules/generated/sklearn.model_selection.train_test_split.html) with **random state 42** and **test_size = 0.33**."
   ]
  },
  {
   "cell_type": "code",
   "execution_count": 2,
   "metadata": {},
   "outputs": [
    {
     "name": "stdout",
     "output_type": "stream",
     "text": [
      "(161872, 14) (161872,) (79728, 14) (79728,)\n"
     ]
    }
   ],
   "source": [
    "import pandas as pd\n",
    "import numpy as np\n",
    "from sklearn.model_selection import (train_test_split,KFold)\n",
    "from sklearn.metrics import mean_squared_error\n",
    "from sklearn.neural_network import MLPRegressor\n",
    "from sklearn.preprocessing import StandardScaler\n",
    "import matplotlib.pyplot as plt\n",
    "import glob\n",
    "%matplotlib inline\n",
    "\n",
    "data = pd.read_csv('sgemm_product.csv') \n",
    "data['target'] = 0.25*(data['Run1 (ms)'] + data['Run2 (ms)']+ data['Run3 (ms)'] + data['Run4 (ms)'])\n",
    "y = data['target']\n",
    "X = data.drop(['target','Run1 (ms)', 'Run2 (ms)', 'Run3 (ms)', 'Run4 (ms)'], axis = 1)\n",
    "X_train, X_test, y_train, y_test = train_test_split(X,y,test_size = 0.33, random_state=42)\n",
    "\n",
    "print(X_train.shape, y_train.shape, X_test.shape, y_test.shape)"
   ]
  },
  {
   "cell_type": "markdown",
   "metadata": {},
   "source": [
    "One more thing to use in this problem is [StandardScaler](http://scikit-learn.org/stable/modules/generated/sklearn.preprocessing.StandardScaler.html). Instead of fitting a model on original data, use StandardScaler to make each feature centered ([Example](http://scikit-learn.org/stable/auto_examples/applications/plot_prediction_latency.html#sphx-glr-auto-examples-applications-plot-prediction-latency-py)). Whenever you have training and test data, fit a scaler on training data and use this scaler on test data. Here, scale only features (independent variables), not target variable y.\n",
    "\n",
    "Use [sklearn.neural_nework.MLPRegressor](http://scikit-learn.org/stable/modules/generated/sklearn.neural_network.MLPRegressor.html#sklearn.neural_network.MLPRegressor) to do a 5-fold cross validation using sklearn's [KFold](http://scikit-learn.org/stable/modules/generated/sklearn.model_selection.KFold.html#sklearn.model_selection.KFold). The cross validation must be performed on the **training data**. "
   ]
  },
  {
   "cell_type": "markdown",
   "metadata": {},
   "source": [
    "1) Use following parameter settings for MLPRegressor:\n",
    "\n",
    "    activation = 'tanh', solver = 'sgd', learning_rate='constant', random_state=42,\n",
    "    batch_size=5000, learning_rate_init = 0.005\n",
    "    \n",
    "Now, consider the following settings for the number of hidden units:\n",
    "    \n",
    "        (2,), (10,), (20,), (30,), (40,)\n",
    "    \n",
    "   Report the average Root Mean Squared Error (RMSE) value based on your 5-fold cross validation for each model (5pts)\n",
    "      \n",
    "2) Now, using the same number of hidden units used in part 1), train MLPRegressor models on whole training data and report RMSE score for both Train and Test set (Again, use StandardScaler). Which model works the best? Briefly analyze the result in terms of the number of hidden units. (3pts)\n",
    "\n",
    "3) MLPRegressor has a built-in attribute *loss\\_curve\\_* which returns the loss at each epoch (misleadingly referred to as \"iteration\" in scikit documentation, though they use epoch in the actual code!). For example, if your model is named as *my_model* you can call it as *my\\_model.loss\\_curve\\_* ([example](http://scikit-learn.org/stable/auto_examples/neural_networks/plot_mlp_training_curves.html#sphx-glr-auto-examples-neural-networks-plot-mlp-training-curves-py)). Plot three curves for model (a), (b), and (c) in one figure, where *X-axis* is epoch  number and *Y-axis* is squared root of *loss\\_curve\\_* value. (2pts)\n",
    "\n",
    "4) Activation Layer: Use the tanh and relu activations for the following fixed parameters to train your model:\n",
    "    \n",
    "    solver = 'sgd', random_state=42,\n",
    "    batch_size=5000, hidden_layer_sizes = (2,)\n",
    "\n",
    "   Report the average Root Mean Squared Error (RMSE) value based on your 5-fold cross validation for each model. (2pts)\n",
    "   \n",
    "5) Optimization technique: The sklearn API performs a momentum update when using SGD. To understand the difference in performance of vanilla SGD and SGD with momentum, set momentum to 0 with SGD. Here, we compare the performance of vanilla sgd against adam solvers. Since both of these use different optimization subroutines, the learning rate must also be varied. In this question, vary the learning rate through these values [1, 0.1, 0.01, 0.001]. Keep the following fixed parameters to train your model:\n",
    "\n",
    "    activation = 'tanh', random_state=42,\n",
    "    batch_size=5000, hidden_layer_sizes = (2,), momentum = 0\n",
    "    \n",
    "   Report the average Root Mean Squared Error (RMSE) value based on your 5-fold cross validation for the best learning rate for each model. (3pts)"
   ]
  },
  {
   "cell_type": "markdown",
   "metadata": {},
   "source": [
    "## Solution\n",
    "\n",
    "### 1)"
   ]
  },
  {
   "cell_type": "code",
   "execution_count": 3,
   "metadata": {},
   "outputs": [
    {
     "name": "stdout",
     "output_type": "stream",
     "text": [
      "(2,) has RMSE of 231.74348462925587\n",
      "(10,) has RMSE of 91.57336273414737\n",
      "(20,) has RMSE of 63.394796289483\n",
      "(30,) has RMSE of 52.084173514212715\n",
      "(40,) has RMSE of 44.7335967365785\n"
     ]
    }
   ],
   "source": [
    "scaler = StandardScaler()\n",
    "X_train = scaler.fit_transform(X_train)\n",
    "X_test = scaler.transform(X_test)\n",
    "\n",
    "kf = KFold(n_splits=5, random_state=42)\n",
    "models = []\n",
    "\n",
    "for num_hidden_units in [(2,), (10,), (20,), (30,), (40,)]:\n",
    "    rmse = 0\n",
    "    \n",
    "    for train_index, test_index in kf.split(X_train, y_train):\n",
    "        X_kf_train, X_kf_test = X_train[train_index], X_train[test_index]\n",
    "        y_kf_train, y_kf_test = y_train.iloc[train_index], y_train.iloc[test_index]\n",
    "\n",
    "        MLP = MLPRegressor(hidden_layer_sizes=num_hidden_units, activation='tanh',\n",
    "                           solver='sgd', learning_rate='constant', random_state=42,\n",
    "                           batch_size=5000, learning_rate_init=0.005)\n",
    "        MLP_fit = MLP.fit(X_kf_train, y_kf_train)\n",
    "        models.append(MLP_fit)\n",
    "        \n",
    "        rmse += np.sqrt(mean_squared_error(MLP_fit.predict(X_kf_test), y_kf_test))\n",
    "    \n",
    "    rmse /= 5\n",
    "    \n",
    "    print(str(num_hidden_units), \"has RMSE of\", rmse)"
   ]
  },
  {
   "cell_type": "markdown",
   "metadata": {},
   "source": [
    "### 2)"
   ]
  },
  {
   "cell_type": "code",
   "execution_count": 4,
   "metadata": {},
   "outputs": [
    {
     "name": "stdout",
     "output_type": "stream",
     "text": [
      "40 hidden units yields test RMSE of 40.759332262496365\n"
     ]
    }
   ],
   "source": [
    "MLP = MLPRegressor(hidden_layer_sizes=(40,), activation='tanh',\n",
    "                   solver='sgd', learning_rate='constant', random_state=42,\n",
    "                   batch_size=5000, learning_rate_init=0.005)\n",
    "MLP_fit = MLP.fit(X_train, y_train)\n",
    "rmse = np.sqrt(mean_squared_error(MLP_fit.predict(X_test), y_test))\n",
    "print(\"40 hidden units yields test RMSE of\", rmse)"
   ]
  },
  {
   "cell_type": "markdown",
   "metadata": {},
   "source": [
    "### 3)"
   ]
  },
  {
   "cell_type": "code",
   "execution_count": 5,
   "metadata": {},
   "outputs": [
    {
     "data": {
      "image/png": "[encoded data removed]",
      "text/plain": [
       "<matplotlib.figure.Figure at 0x7f88a805e828>"
      ]
     },
     "metadata": {},
     "output_type": "display_data"
    },
    {
     "data": {
      "image/png": "[encoded data removed]",
      "text/plain": [
       "<matplotlib.figure.Figure at 0x7f8872c99438>"
      ]
     },
     "metadata": {},
     "output_type": "display_data"
    },
    {
     "data": {
      "image/png": "[encoded data removed]",
      "text/plain": [
       "<matplotlib.figure.Figure at 0x7f8872d445f8>"
      ]
     },
     "metadata": {},
     "output_type": "display_data"
    }
   ],
   "source": [
    "losses = [np.array(models[0].loss_curve_), np.array(models[1].loss_curve_), np.array(models[2].loss_curve_)]\n",
    "\n",
    "for loss in losses:\n",
    "    plt.plot(loss)\n",
    "    plt.ylabel(\"Loss\")\n",
    "    plt.xlabel(\"Epoch\")\n",
    "    plt.show()"
   ]
  },
  {
   "cell_type": "markdown",
   "metadata": {},
   "source": [
    "### 4)"
   ]
  },
  {
   "cell_type": "code",
   "execution_count": 6,
   "metadata": {},
   "outputs": [
    {
     "name": "stdout",
     "output_type": "stream",
     "text": [
      "tanh has RMSE of 232.14074826411985\n",
      "relu has RMSE of 110.8250860146275\n"
     ]
    }
   ],
   "source": [
    "kf = KFold(n_splits=5, random_state=42)\n",
    "\n",
    "for activation_func in ['tanh', 'relu']:\n",
    "    rmse = 0\n",
    "    \n",
    "    for train_index, test_index in kf.split(X_train, y_train):\n",
    "        X_kf_train, X_kf_test = X_train[train_index], X_train[test_index]\n",
    "        y_kf_train, y_kf_test = y_train.iloc[train_index], y_train.iloc[test_index]\n",
    "\n",
    "        MLP = MLPRegressor(hidden_layer_sizes=(2,), activation=activation_func,\n",
    "                           solver='sgd', random_state=42, batch_size=5000)\n",
    "        MLP_fit = MLP.fit(X_kf_train, y_kf_train)\n",
    "        \n",
    "        rmse += np.sqrt(mean_squared_error(MLP_fit.predict(X_kf_test), y_kf_test))\n",
    "    \n",
    "    rmse /= 5\n",
    "    \n",
    "    print(str(activation_func), \"has RMSE of\", rmse)"
   ]
  },
  {
   "cell_type": "markdown",
   "metadata": {},
   "source": [
    "### 5)"
   ]
  },
  {
   "cell_type": "code",
   "execution_count": 8,
   "metadata": {},
   "outputs": [
    {
     "name": "stdout",
     "output_type": "stream",
     "text": [
      "sgd has best learning rate 1 with RMSE of 1196.7801086690245\n"
     ]
    },
    {
     "name": "stderr",
     "output_type": "stream",
     "text": [
      "/usr/local/lib/python3.5/dist-packages/sklearn/neural_network/multilayer_perceptron.py:564: ConvergenceWarning: Stochastic Optimizer: Maximum iterations (200) reached and the optimization hasn't converged yet.\n",
      "  % self.max_iter, ConvergenceWarning)\n"
     ]
    },
    {
     "name": "stdout",
     "output_type": "stream",
     "text": [
      "adam has best learning rate 1 with RMSE of 2097.8839839087423\n"
     ]
    }
   ],
   "source": [
    "kf = KFold(n_splits=5, random_state=42)\n",
    "learning_rates = [1, .1, .01, .001]\n",
    "\n",
    "for solver in ['sgd', 'adam']:\n",
    "    learning_rmses = []\n",
    "    for learning_rate in learning_rates:\n",
    "        rmse = 0\n",
    "\n",
    "        for train_index, test_index in kf.split(X_train, y_train):\n",
    "            X_kf_train, X_kf_test = X_train[train_index], X_train[test_index]\n",
    "            y_kf_train, y_kf_test = y_train.iloc[train_index], y_train.iloc[test_index]\n",
    "\n",
    "            MLP = MLPRegressor(activation = 'tanh', random_state=42, solver=solver,\n",
    "                               batch_size=5000, hidden_layer_sizes = (2,), momentum = 0)\n",
    "            MLP_fit = MLP.fit(X_kf_train, y_kf_train)\n",
    "\n",
    "            rmse += np.sqrt(mean_squared_error(MLP_fit.predict(X_kf_test), y_kf_test))\n",
    "\n",
    "        learning_rmses.append(rmse / 5)\n",
    "\n",
    "    best_rate = learning_rates[np.argmax(learning_rmses)]\n",
    "    print(solver, \"has best learning rate\", best_rate, \"with RMSE of\", rmse)"
   ]
  },
  {
   "cell_type": "markdown",
   "metadata": {},
   "source": [
    "# Question 4: Multi-level Model in Python (19 points)\n",
    "In this problem, you will explore multi-level model using a python package [PyMC3](https://pymc-devs.github.io/pymc3/index.html#). The dataset \"brew_by_year.csv\" will be used in this question.  This dataset contains fields:\n",
    "\n",
    "- `state`\n",
    "- `state_id`\n",
    "- `brew`\n",
    "- `year`\n",
    "\n",
    "Where `brew` is the number of breweries in the state that year, and `state_id` is a unique ID for that state.\n",
    "\n",
    "MLM is a Bayesian modeling technique which assumes a prior distribution over the parameters. This allows us to define (multilevel) relationships between the parameters. In general, this yields a posterior that is, in general, intractable. However, we can still perform inference using Monte-Carlo Markov Chain methods by generating samples from this distribution! PyMC3 helps us do this. Also, remember that this is a Bayesian method; we are estimating a distribution for each parameter rather than just a single value.\n",
    "\n",
    "\n",
    "(a)  (2 pts) Plot the relationship between number of breweries and year, and draw a linearly regressed line ignoring the ID variable. Use `LinearRegression` from `sklearn`.\n",
    "\n",
    "(b)  (2 pts) Plot the relationship between number of breweries and year, but this time, fit a different linear regression for each state. Use `LinearRegression` from `sklearn`.\n",
    "\n",
    "(c)  (2 + 4 + 6 pts) Divide the dataset into training and test sets.  The training set contains the first 6 years of the measurements, and the test set contains the rest of the measurements. \n",
    "Build three different linear models:\n",
    "- Global model:  a linear model using `brew` as the dependent variable and `year` as the independent variable. Pool all data and estimate one common regression model to assess the influence of the passage of time across the total number of breweries. Use `LinearRegression` from `sklearn`. This is similar to part a).\n",
    "- Local model:  a different linear model for each state i.e., 51 different linear regressions. We are interested in whether different states actually follow separate regression models. Use `LinearRegression` from `sklearn`. This is similar to part b).\n",
    "- Multilevel model:  Use the PyMC3 package to fit a multilevel model specified as follows:\n",
    "\n",
    "\\begin{align*}\n",
    "\\text{brew}_{it} &= \\beta_{0i} + \\beta_{1i} \\text{year}_{it} + \\epsilon_{it}\\\\\n",
    "\\beta_{0i} &= \\beta_{00}  + \\eta_{0i} \\\\\n",
    "\\beta_{1i} &= \\beta_{10} + \\eta_{1i} \\\\\n",
    "\\end{align*}\n",
    "\n",
    "Predict the number of breweries for the remaining years, and calculate the mean squared errors from the three models. You may find this link helpful: [Partial pooling: Hierarchical Regression aka, the best of both worlds](http://pymc-devs.github.io/pymc3/notebooks/GLM-hierarchical.html#Partial-pooling:-Hierarchical-Regression-aka,-the-best-of-both-worlds). Note the usage of `pm.sample` which generates samples from the posterior and `pm.traceplot` which provides a nice set of plots showing the estimated posterior distribution. We assume a gaussian prior over the coefficients of our linear model, so the most likely estimate is the mean of the samples from the distribution. To calculate the MSE of the MLM, take the average over the MSEs at the state level.\n",
    "\n",
    "(d)  (2 pts) Briefly state what do $\\beta_{00}$ and $\\beta_{10}$ mean in this multilevel model.\n",
    "\n",
    "(e) (1 pt) Visually assess from the trace plot whether the MLM specified in the problem is a reasonable choice."
   ]
  },
  {
   "cell_type": "code",
   "execution_count": 67,
   "metadata": {},
   "outputs": [],
   "source": [
    "import pymc3 as pm\n",
    "import pandas as pd\n",
    "import matplotlib.pyplot as plt\n",
    "from sklearn import linear_model\n",
    "import numpy as np\n",
    "\n",
    "data = pd.read_csv('brew_by_year.csv', index_col=0)\n",
    "data['brew'] = (data['brew'] - np.mean(data['brew'])) / np.std(data['brew'])"
   ]
  },
  {
   "cell_type": "markdown",
   "metadata": {},
   "source": [
    "## Answer\n",
    "### a)"
   ]
  },
  {
   "cell_type": "code",
   "execution_count": 68,
   "metadata": {},
   "outputs": [
    {
     "data": {
      "image/png": "[encoded data removed]",
      "text/plain": [
       "<matplotlib.figure.Figure at 0x7f88723d9940>"
      ]
     },
     "metadata": {},
     "output_type": "display_data"
    }
   ],
   "source": [
    "lin_fit = linear_model.LinearRegression().fit(np.array([data['year']]).T, np.array([data['brew']]).T)\n",
    "plt.plot(np.array(data['year']), np.array(data['brew']), '.')\n",
    "\n",
    "p0 = lin_fit.intercept_\n",
    "p1 = lin_fit.coef_ * 8\n",
    "\n",
    "plt.plot([0, 8], [p0, p1], '-')\n",
    "plt.show()"
   ]
  },
  {
   "cell_type": "markdown",
   "metadata": {},
   "source": [
    "### b)"
   ]
  },
  {
   "cell_type": "code",
   "execution_count": 69,
   "metadata": {},
   "outputs": [
    {
     "data": {
      "image/png": "[encoded data removed]",
      "text/plain": [
       "<matplotlib.figure.Figure at 0x7f8872010128>"
      ]
     },
     "metadata": {},
     "output_type": "display_data"
    }
   ],
   "source": [
    "plt.scatter(np.array(data['year']), np.array(data['brew']))\n",
    "for state_id in range(max(data['state_id'])):\n",
    "    state_data = data.loc[data['state_id'] == state_id]\n",
    "    lin_fit = linear_model.LinearRegression().fit(\n",
    "        np.array([state_data['year']]).T, np.array([state_data['brew']]).T)\n",
    "    \n",
    "    p0 = lin_fit.intercept_\n",
    "    p1 = lin_fit.coef_ * 8\n",
    "    plt.plot([0, 8], [p0, p1], '-')\n",
    "\n",
    "plt.show()"
   ]
  },
  {
   "cell_type": "markdown",
   "metadata": {},
   "source": [
    "### c)"
   ]
  },
  {
   "cell_type": "code",
   "execution_count": 70,
   "metadata": {},
   "outputs": [],
   "source": [
    "train_data = data.loc[data['year'] < 6]\n",
    "test_data = data.loc[data['year'] >= 6]"
   ]
  },
  {
   "cell_type": "code",
   "execution_count": 71,
   "metadata": {},
   "outputs": [],
   "source": [
    "# Global\n",
    "lin_fit = linear_model.LinearRegression().fit(\n",
    "    np.array([train_data['year']]).T, np.array([train_data['brew']]).T)\n",
    "lin_predict = lin_fit.predict(np.array([test_data['year']]).T)\n",
    "global_mse = mean_squared_error(np.array([test_data['brew']]).T, lin_predict)"
   ]
  },
  {
   "cell_type": "code",
   "execution_count": 72,
   "metadata": {},
   "outputs": [],
   "source": [
    "# Local\n",
    "local_mse = 0\n",
    "for state_id in range(max(data['state_id'])):\n",
    "    train_state_data = train_data.loc[train_data['state_id'] == state_id]\n",
    "    test_state_data = test_data.loc[test_data['state_id'] == state_id]\n",
    "    \n",
    "    lin_fit = linear_model.LinearRegression().fit(\n",
    "        np.array([train_state_data['year']]).T, np.array([train_state_data['brew']]).T)\n",
    "    \n",
    "    lin_predict = lin_fit.predict(np.array([test_state_data['year']]).T)\n",
    "    local_mse += mean_squared_error(np.array([test_state_data['brew']]).T, lin_predict)"
   ]
  },
  {
   "cell_type": "code",
   "execution_count": 79,
   "metadata": {},
   "outputs": [
    {
     "ename": "AttributeError",
     "evalue": "'tuple' object has no attribute 'year'",
     "output_type": "error",
     "traceback": [
      "\u001b[0;31m---------------------------------------------------------------------------\u001b[0m",
      "\u001b[0;31mAttributeError\u001b[0m                            Traceback (most recent call last)",
      "\u001b[0;32m<ipython-input-79-8b076feba495>\u001b[0m in \u001b[0;36m<module>\u001b[0;34m()\u001b[0m\n\u001b[1;32m     16\u001b[0m     \u001b[0mresults\u001b[0m \u001b[0;34m=\u001b[0m \u001b[0;34m[\u001b[0m\u001b[0;34m]\u001b[0m\u001b[0;34m\u001b[0m\u001b[0m\n\u001b[1;32m     17\u001b[0m     \u001b[0;32mfor\u001b[0m \u001b[0mper_state\u001b[0m \u001b[0;32min\u001b[0m \u001b[0mtrain_data\u001b[0m\u001b[0;34m.\u001b[0m\u001b[0mgroupby\u001b[0m\u001b[0;34m(\u001b[0m\u001b[0mtrain_data\u001b[0m\u001b[0;34m.\u001b[0m\u001b[0mstate_id\u001b[0m\u001b[0;34m)\u001b[0m\u001b[0;34m:\u001b[0m\u001b[0;34m\u001b[0m\u001b[0m\n\u001b[0;32m---> 18\u001b[0;31m         \u001b[0mresult\u001b[0m \u001b[0;34m=\u001b[0m \u001b[0mbeta_0i\u001b[0m \u001b[0;34m+\u001b[0m \u001b[0mbeta_1i\u001b[0m \u001b[0;34m*\u001b[0m \u001b[0mper_state\u001b[0m\u001b[0;34m.\u001b[0m\u001b[0myear\u001b[0m \u001b[0;34m+\u001b[0m \u001b[0meps\u001b[0m\u001b[0;34m\u001b[0m\u001b[0m\n\u001b[0m\u001b[1;32m     19\u001b[0m         \u001b[0mresults\u001b[0m\u001b[0;34m.\u001b[0m\u001b[0mappend\u001b[0m\u001b[0;34m(\u001b[0m\u001b[0mresult\u001b[0m\u001b[0;34m)\u001b[0m\u001b[0;34m\u001b[0m\u001b[0m\n",
      "\u001b[0;31mAttributeError\u001b[0m: 'tuple' object has no attribute 'year'"
     ]
    }
   ],
   "source": [
    "# MLM\n",
    "mlm_mse = 0\n",
    "with pm.Model():\n",
    "    # Specify the hyper-parameter of Multilevel model:\n",
    "    beta_00 = pm.Normal('mu_beta0', mu=0., sd=10)\n",
    "    eta_0i = pm.HalfCauchy('eta_0', 5)\n",
    "    beta_10 = pm.Normal('mu_beta1', mu=0., sd=10)\n",
    "    eta_1i = pm.HalfCauchy('eta1', 5)\n",
    "\n",
    "    # Intercept and Slope\n",
    "    beta_0i = pm.Normal('beta0', mu=beta_00, sd=eta_0i, shape=len(train_data.state_id.unique()))\n",
    "    beta_1i = pm.Normal('beta1', mu=beta_10, sd=eta_1i, shape=len(train_data.state_id.unique()))    \n",
    "    # Model error\n",
    "    eps = pm.HalfCauchy('eps', 5)\n",
    "\n",
    "    results = []\n",
    "    for per_state in train_data.groupby(train_data.state_id):\n",
    "        result = beta_0i + beta_1i * per_state.year + eps\n",
    "        results.append(result)"
   ]
  },
  {
   "cell_type": "code",
   "execution_count": 66,
   "metadata": {},
   "outputs": [
    {
     "name": "stdout",
     "output_type": "stream",
     "text": [
      "Global regression MSE: 1.6792813652008016\n",
      "Local regression MSE: 1.3194951203614638\n"
     ]
    }
   ],
   "source": [
    "print(\"Global regression MSE:\", global_mse)\n",
    "print(\"Local regression MSE:\", local_mse)"
   ]
  },
  {
   "cell_type": "markdown",
   "metadata": {},
   "source": [
    "# Question 5: Decision Tree using Python (5 pts)\n",
    "In this problem, you will model the data using decision trees to perform a classification task on the energy dataset provided. The dataset has been preprocessed. Using the class tree.DecisionTreeClassifier (http://scikit-learn.org/stable/modules/classes.html#module-sklearn.tree), build two different trees with a maximum depth of two using the split criteria (i) Gini and (ii) Entropy. Use entire data to build trees. Plot the two trees. If your classifier object is called clf, use the following commands to save the generated tree as a '.dot' file that can be used to visualize the tree using Webgraphviz: http://www.webgraphviz.com/\n",
    "\n",
    "Hint: see  http://scikit-learn.org/stable/modules/generated/sklearn.tree.export_graphviz.html"
   ]
  },
  {
   "cell_type": "raw",
   "metadata": {},
   "source": [
    "from sklearn import tree\n",
    "from sklearn.externals.six import StringIO\n",
    "with open(\"decision_tree_gini.dot\", 'w') as f:\n",
    "    f = tree.export_graphviz(clf, out_file=f)"
   ]
  },
  {
   "cell_type": "markdown",
   "metadata": {},
   "source": [
    "Copy paste the contents of your '.dot' file into the text window on the website to visualize the trees. At which node(s) do they differ?"
   ]
  },
  {
   "cell_type": "code",
   "execution_count": 82,
   "metadata": {},
   "outputs": [],
   "source": [
    "import pandas as pd\n",
    "import numpy as np\n",
    "import sklearn.tree\n",
    "from sklearn.externals.six import StringIO\n",
    "\n",
    "data = pd.read_csv('energydata_complete.csv') \n",
    "\n",
    "y = data['Appliances']\n",
    "X = data.drop(['date','Appliances', 'rv1', 'rv2'], axis = 1)\n",
    "\n",
    "\n",
    "from dateutil import parser\n",
    "timeData = np.array(data['date'])\n",
    "\n",
    "days = []\n",
    "hours = []\n",
    "for line in range(len(timeData)):\n",
    "    day = parser.parse(timeData[line]).weekday()\n",
    "    hour = parser.parse(timeData[line]).hour\n",
    "    days.append(day)\n",
    "    hours.append(hour)\n",
    "    \n",
    "X = pd.concat([X, pd.get_dummies(days), pd.get_dummies(hours)], axis = 1)\n",
    "\n",
    "for split_type in ['gini', 'entropy']:\n",
    "    tree = sklearn.tree.DecisionTreeClassifier(\n",
    "        criterion=split_type, max_depth=2, random_state=42)\n",
    "    tree.fit(X, y)\n",
    "    \n",
    "    with open(\"decision_tree_%s.dot\" % split_type, 'w') as f:\n",
    "        f = sklearn.tree.export_graphviz(tree, out_file=f)"
   ]
  },
  {
   "cell_type": "markdown",
   "metadata": {},
   "source": [
    "### Entropy\n",
    "<img src=\"5_entropy.png\" />\n",
    "\n",
    "### Gini\n",
    "<img src=\"5_gini.png\" />"
   ]
  },
  {
   "cell_type": "markdown",
   "metadata": {},
   "source": [
    "# Question 6. (2+5+3=10 pts) Bayes Decision Theory\n",
    "a. Explain what you understand by class-conditional likelihood, class priors, and posterior probability of a class given an input, and the relationship between them. Please define all symbols and equations used explicitly.\n",
    "( 2 points )\n",
    "\n",
    "b. Suppose you want to learn a binary classifier to predict whether or not a customer will buy a TV. The class label is 0 if the customer does not buy a TV and 1 if they do. For each customer, you are given two features, $x_1$ is the per hour salary and $x_2$ is the age. Assume that the class conditional distribution $p([x_1 , x_2]|C)$ is Gaussian. The mean salary and age of the people who do buy a TV is 15 and 40 respectively and that of those who don’t is 8.5 and 25. The first class of customers, $\\sigma_1$ = 1, $\\sigma_2 = 2$ and $\\rho = 0$. For the second class of customers, $\\sigma_1$ = 3, $\\sigma_2 = 2$ and $\\rho = 0$.(Refer HW1 on how to construct a covariance matrix with this information). Further, your sales data suggests that only 1 in 3 people actually bought a TV in the last few years. Mathematically derive the (optimal) Bayes decision boundary for this problem. (5 points)\n",
    "\n",
    "c. Now sample 1000 customers from each class (C = 0, 1) under the assumed distribution and the estimated parameters and plot their features. Additionally, plot the decision boundary you obtained in the part (b) on the same plot. (3 points)\n",
    "\n",
    "## ANSWER\n",
    "\n",
    "### a\n",
    "Class conditional likelihood function - $p([x_1,x_2]|C_i)$ \n",
    "This is likelihood of $x_1, x_2$ given the class. \n",
    "\n",
    "Class priors - $P(C_i)$\n",
    "This is the likelihood a given datapoint is apart of class $Ci$\n",
    "\n",
    "Posterior probability - $p(C_i|[x_1,x_2]) = \\frac{P(C_i)p([x_1,x_2]|C_i)}{p([x_1, x_2])}$\n",
    "This is the likelihood that for a given $x_1, x_2$ the datapoint is apart of class $C_i$. The optimal decision for each $x_1, x_2$ is to choose the $p(C_i|[x_1,x_2])$ which is greatest for that $x_1 and x_2$. \n",
    "\n",
    "Bayes decision boundary (boundaries) = $P(C_0| [x_1,x_2]) = P(C_1| [x_1,x_2])$\n",
    "We need to choose whichever posterior probability is higher, so whenever these quantities are equal, this will be our decision boundary. When solving for this boundary we do not even need to compare the denominators in the posterior probability because they will cancel out. Therefor this equation is really just $P(C_0)p([x_1,x_2]|C_0) = P(C_1)p([x_1,x_2]|C_1)$\n",
    "\n",
    "### b\n",
    "\n",
    "\n",
    "\n",
    "\\begin{equation} \\mu_0 = \\left[ \\begin{array}{cc} 15 \\\\ 40  \\end{array} \\right] \\end{equation}\n",
    "\n",
    "\\begin{equation} \\Sigma_0 = \\left[ \\begin{array}{cc} 1 & 0 \\\\ 0 & 4 \\end{array} \\right] \\end{equation}\n",
    "\n",
    "\\begin{equation} \\Sigma_0^{-1} = \\left[ \\begin{array}{cc} 1 & 0 \\\\ 0 & 0.25 \\end{array} \\right] \\end{equation}\n",
    "\n",
    "$\\mid\\Sigma_0\\mid = 4$\n",
    "\n",
    "\\begin{equation} \\mu_1 = \\left[ \\begin{array}{cc} 8.5 \\\\ 25  \\end{array} \\right] \\end{equation}\n",
    "\n",
    "\\begin{equation} \\Sigma_1 = \\left[ \\begin{array}{cc} 9 & 0 \\\\ 0 & 4 \\end{array} \\right] \\end{equation}\n",
    "\n",
    "\\begin{equation} \\Sigma_1^{-1} = \\left[ \\begin{array}{cc} 0.111 & 0 \\\\ 0 & 0.25 \\end{array} \\right] \\end{equation}\n",
    "\n",
    "$\\mid\\Sigma_1\\mid = 36$\n",
    "\n",
    "$P(C_0) = 2/3$\n",
    "\n",
    "$P(C_1) = 1/3$\n",
    "\n",
    "$P(C_0)p([x_1,x_2]|C_0) = P(C_1)p([x_1,x_2]|C_1)$\n",
    "\n",
    "$2/3N(\\mu_0,\\Sigma_0) = 1/3N(\\mu_1,\\Sigma_1)$\n",
    "\n",
    "$\\ln(2/3) + \\ln(N(\\mu_0,\\Sigma_0)) = \\ln(1/3) + \\ln(N(\\mu_1,\\Sigma_1))$\n",
    "\n",
    "$\\ln(2/3)+-1/2(\\vec{x}-\\mu_0)^T\\Sigma^{-1}_0(\\vec{x}-\\mu_0)\\ln(2\\pi\\mid\\Sigma_0\\mid^{1/2})=\\ln(1/3) + -1/2(\\vec{x} - \\mu_1)^T\\Sigma^{-1}_1(\\vec{x}-\\mu_1)\\ln(2\\pi\\mid\\Sigma_1\\mid^{1/2})$\n",
    "\n",
    "A lot of reduction that I did by hand, included at end\n",
    "\n",
    "$-1.265x_1^2 + 37.95x_1 - 0.316x_2^2 + 25.3x_2 - 791.03 = -0.2x_1^2 + 3.43x_1 - 0.454x_2^2 + 22.69x_2 - 299.25$\n",
    "\n",
    "$-1.065x_1^2 + 34.52x_1 + 0.138x_2^2 + 2.61x_2 - 491.78 = 0$\n",
    "\n",
    "The above equation I put into Wolfram Alpha to reduce to equation used for plotting in code"
   ]
  },
  {
   "cell_type": "markdown",
   "metadata": {},
   "source": [
    "### c"
   ]
  },
  {
   "cell_type": "code",
   "execution_count": null,
   "metadata": {},
   "outputs": [],
   "source": [
    "# Part B\n",
    "import numpy as np\n",
    "import seaborn as sns\n",
    "sns.set(style='ticks', palette='Set2')\n",
    "from mpl_toolkits.mplot3d import axes3d\n",
    "import matplotlib.pyplot as plt\n",
    "import math\n",
    "from scipy.stats import multivariate_normal\n",
    "%matplotlib inline\n",
    "\n",
    "def covariance(cov_x_2, cov_y_2, corr):\n",
    "    return np.array([[cov_x_2, corr * np.sqrt(cov_y_2)], [corr * np.sqrt(cov_x_2), cov_y_2]])\n",
    "\n",
    "def boundary_1(x):\n",
    "    return 0.00724638*(3.87298*math.sqrt(9798*x*x - 317584*x + 4.63791e6) - 1305)\n",
    "def boundary_2(x):\n",
    "    return 0.00724638*(-3.87298*math.sqrt(9798*x*x - 317584*x + 4.63791e6) - 1305)\n",
    "\n",
    "mean_c0_x = np.array([15,40])\n",
    "mean_c1_x = np.array([8.5,25])\n",
    "cov_c0_x = covariance(1., 4., 0.)\n",
    "cov_c1_x = covariance(9., 4., 0.)\n",
    "c0_x, c0_y = gauss_1 = np.random.multivariate_normal(mean_c0_x, cov_c0_x, size=1000).T\n",
    "c1_x, c1_y = gauss_2 = np.random.multivariate_normal(mean_c1_x, cov_c1_x, size=1000).T\n",
    "#sns.kdeplot(c0_x, c0_y)\n",
    "plt.scatter(c0_x,c0_y, c='red', s=5.0)\n",
    "plt.scatter(c1_x, c1_y, c='blue', s=5.0)\n",
    "X = np.linspace(0,20,2000)\n",
    "y_1 = []\n",
    "y_2 = []\n",
    "for x in X:\n",
    "    y_1.append(boundary_1(x))\n",
    "    y_2.append(boundary_2(x))\n",
    "plt.plot(X, y_1)\n",
    "plt.plot(X, y_2)\n",
    "plt.xlabel(\"salary\")\n",
    "plt.ylabel(\"age\")\n",
    "plt.show()\n",
    "print(\"red is people who dont buy a tv and blue is people who do\")\n",
    "#sns.kdeplot(c1_x, c1_y)"
   ]
  },
  {
   "cell_type": "markdown",
   "metadata": {},
   "source": [
    "Additional math to derive decision boundary\n",
    "\n",
    "<img src=\"6_math.png\">"
   ]
  },
  {
   "cell_type": "code",
   "execution_count": null,
   "metadata": {},
   "outputs": [],
   "source": []
  }
 ],
 "metadata": {
  "kernelspec": {
   "display_name": "Python 3",
   "language": "python",
   "name": "python3"
  },
  "language_info": {
   "codemirror_mode": {
    "name": "ipython",
    "version": 3
   },
   "file_extension": ".py",
   "mimetype": "text/x-python",
   "name": "python",
   "nbconvert_exporter": "python",
   "pygments_lexer": "ipython3",
   "version": "3.5.2"
  }
 },
 "nbformat": 4,
 "nbformat_minor": 1
}
