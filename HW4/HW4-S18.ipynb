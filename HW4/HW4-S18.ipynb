{
 "cells": [
  {
   "cell_type": "markdown",
   "metadata": {
    "collapsed": true,
    "ein.tags": "worksheet-0",
    "slideshow": {
     "slide_type": "-"
    }
   },
   "source": [
    "\n",
    "# <p style=\"text-align: center;\">EE 380L: Data Mining</p>\n",
    "# <p style=\"text-align: center;\">Assignment 4</p>\n",
    "## <p style=\"text-align: center;\">Total points: 70</p>\n",
    "## <p style=\"text-align: center;\">Due: Thursday, April 5th, submitted via Canvas by 11:59 pm</p>\n",
    "\n",
    "Your homework should be written in a **Jupyter notebook**. You may work in groups of two if you wish. Only one student per team needs to submit the assignment on Canvas.  But be sure to include name and UTID for both students.  Homework groups will be created and managed through Canvas, so please do not arbitrarily change your homework group.  \n",
    "\n",
    "Also, please make sure your code runs and the graphics (and anything else) are displayed in your notebook before submitting. (%matplotlib inline)"
   ]
  },
  {
   "cell_type": "markdown",
   "metadata": {
    "ein.tags": "worksheet-0",
    "slideshow": {
     "slide_type": "-"
    }
   },
   "source": [
    "## Name: Cassidy Burden\n",
    "## UT EID: cab5534\n",
    "\n",
    "## Name: Ryan Meek\n",
    "## UT EID: rjm3263"
   ]
  },
  {
   "cell_type": "markdown",
   "metadata": {},
   "source": [
    "### Note: Q1 and Q3 may take a long time to run (a few hours). It will be more convenient if you run them on a powerful machine. Of course, this is also a good opportunity to use the Azure cloud."
   ]
  },
  {
   "cell_type": "markdown",
   "metadata": {
    "ein.tags": "worksheet-0",
    "slideshow": {
     "slide_type": "-"
    }
   },
   "source": [
    "# Question 1:  2 class Classification (30 pts)\n",
    "\n",
    "In this problem, you will evaluate the performance of 6 classifiers in classifying signal vs background in the MAGIC Gamma Telescope Data Set. The data has been split into training and test as well as standardized for you. \n",
    "You will train the following models on this dataset:\n",
    "\n",
    "1. Gaussian Naive Bayes (http://scikit-learn.org/stable/modules/generated/sklearn.naive_bayes.GaussianNB.html)\n",
    "2. Linear Discriminant Analysis (http://scikit-learn.org/stable/modules/lda_qda.html)\n",
    "3. Quadratic Discriminant Analysis\n",
    "4. Logistic Regression (http://scikit-learn.org/stable/modules/generated/sklearn.linear_model.LogisticRegressionCV.html)\n",
    "5. Linear SVM (http://scikit-learn.org/stable/modules/generated/sklearn.svm.SVC.html#sklearn.svm.SVC)\n",
    "6. Radial Basis Function SVM. \n",
    "\n",
    "For Logistic Regression, you will have to run kFold cross validation with 5 folds to get the best value of C. C is the inverse of the regularization hyper-parameter.\n",
    "For SVM (linear and rbf), you will use GridSearchCV (http://scikit-learn.org/stable/modules/generated/sklearn.grid_search.GridSearchCV.html) with cv set to 5, to identify the correct value of C. Use `Cs = 10**np.linspace(-2, 2, 10)` as the range of C for SVM gridsearch\n",
    "\n",
    "Note: Maintain all other parameters at their default settings.\n",
    "\n",
    "The deliverables for this Problem are the following:\n",
    "1. Use cross validation to find the best C for logistic regression, linear SVM and rbf SVM. (C means different things for each of the models. Please refer the documentation of each API in sklearn for this) (9 points - 3 points per model)\n",
    "2. Report the Mean Error Rate = (1 - model_score) for each of these 3 models. (9 points - 3 points per model)\n",
    "3. Train all 6 models using the best C for logistic regression, linear SVM and rbf SVM. Plot the ROC curve for each of these in one figure. Report the area under the curve (AUC) and accuracy for all 6. (12 points)\n",
    "\n",
    "Note: SVM by default only learns a decision function. In order to obtain ROC curve, you will need prediction probabilities as well. This will require you to set probability=True when training SVM models.\n",
    "\n",
    "Note: It is a good idea to measure the time taken to run the fit function for each hyperparameter setting to estimate the time for gridSearchCv on a range of hyperparameters."
   ]
  },
  {
   "cell_type": "code",
   "execution_count": 69,
   "metadata": {
    "autoscroll": false,
    "ein.tags": "worksheet-0",
    "slideshow": {
     "slide_type": "-"
    }
   },
   "outputs": [],
   "source": [
    "%matplotlib inline\n",
    "import pandas as pd\n",
    "from sklearn.model_selection import train_test_split\n",
    "from sklearn.metrics import roc_curve, roc_auc_score, auc, accuracy_score\n",
    "from sklearn.naive_bayes import GaussianNB\n",
    "from sklearn.discriminant_analysis import LinearDiscriminantAnalysis as LDA\n",
    "from sklearn.discriminant_analysis import QuadraticDiscriminantAnalysis as QDA\n",
    "from sklearn import preprocessing\n",
    "from sklearn.model_selection import KFold\n",
    "from sklearn.linear_model import LogisticRegressionCV, LogisticRegression\n",
    "from sklearn.svm import SVC\n",
    "from sklearn.model_selection import GridSearchCV\n",
    "import numpy as np\n",
    "import matplotlib.pyplot as plt"
   ]
  },
  {
   "cell_type": "code",
   "execution_count": 31,
   "metadata": {
    "autoscroll": false,
    "ein.tags": "worksheet-0",
    "slideshow": {
     "slide_type": "-"
    }
   },
   "outputs": [
    {
     "name": "stderr",
     "output_type": "stream",
     "text": [
      "/usr/local/lib/python3.5/dist-packages/sklearn/utils/validation.py:475: DataConversionWarning: Data with input dtype object was converted to float64 by the scale function.\n",
      "  warnings.warn(msg, DataConversionWarning)\n"
     ]
    }
   ],
   "source": [
    "# load data\n",
    "# train\n",
    "train = pd.read_csv('magic_train.csv', header=None)\n",
    "y_train = train.values[:,10]\n",
    "y_train[y_train == 'g'] = 0\n",
    "y_train[y_train == 'h'] = 1\n",
    "y_train = y_train.astype(float)\n",
    "X_train = train.values[:,:10]\n",
    "\n",
    "# test\n",
    "test = pd.read_csv('magic_test.csv', header=None)\n",
    "y_test = test.values[:,10]\n",
    "y_test[y_test == 'g'] = 0\n",
    "y_test[y_test == 'h'] = 1\n",
    "y_test = y_test.astype(float)\n",
    "X_test = test.values[:,:10]\n",
    "\n",
    "# standardize the data\n",
    "X_train = preprocessing.scale(X_train)\n",
    "X_test = preprocessing.scale(X_test)"
   ]
  },
  {
   "cell_type": "markdown",
   "metadata": {},
   "source": [
    "### Part 1, Cross Validation"
   ]
  },
  {
   "cell_type": "code",
   "execution_count": 35,
   "metadata": {},
   "outputs": [
    {
     "name": "stdout",
     "output_type": "stream",
     "text": [
      "Logistic Regression C: [0.35938137]\n"
     ]
    }
   ],
   "source": [
    "log_reg_CV = LogisticRegressionCV(cv=5, n_jobs=-1)\n",
    "log_reg_CV.fit(X_train, y_train)\n",
    "print(\"Logistic Regression C:\", log_reg_CV.C_)"
   ]
  },
  {
   "cell_type": "code",
   "execution_count": 36,
   "metadata": {},
   "outputs": [
    {
     "name": "stdout",
     "output_type": "stream",
     "text": [
      "Fitting 5 folds for each of 10 candidates, totalling 50 fits\n",
      "[CV] C=0.01 ..........................................................\n",
      "[CV] C=0.01 ..........................................................\n",
      "[CV] C=0.01 ..........................................................\n",
      "[CV] C=0.01 ..........................................................\n",
      "[CV] ........................................... C=0.01, total=   6.7s\n",
      "[CV] C=0.01 ..........................................................\n",
      "[CV] ........................................... C=0.01, total=   6.8s\n",
      "[CV] C=0.027825594022071243 ..........................................\n",
      "[CV] ........................................... C=0.01, total=   7.2s\n",
      "[CV] C=0.027825594022071243 ..........................................\n",
      "[CV] ........................................... C=0.01, total=   7.2s\n",
      "[CV] C=0.027825594022071243 ..........................................\n",
      "[CV] ........................... C=0.027825594022071243, total=   5.0s\n",
      "[CV] C=0.027825594022071243 ..........................................\n",
      "[CV] ........................................... C=0.01, total=   5.7s\n",
      "[CV] C=0.027825594022071243 ..........................................\n",
      "[CV] ........................... C=0.027825594022071243, total=   5.5s\n",
      "[CV] C=0.0774263682681127 ............................................\n",
      "[CV] ........................... C=0.027825594022071243, total=   5.8s\n",
      "[CV] C=0.0774263682681127 ............................................\n",
      "[CV] ........................... C=0.027825594022071243, total=   6.2s\n",
      "[CV] C=0.0774263682681127 ............................................\n",
      "[CV] ............................. C=0.0774263682681127, total=   6.1s\n",
      "[CV] C=0.0774263682681127 ............................................\n",
      "[CV] ........................... C=0.027825594022071243, total=   6.8s\n",
      "[CV] C=0.0774263682681127 ............................................\n",
      "[CV] ............................. C=0.0774263682681127, total=   6.3s\n",
      "[CV] C=0.21544346900318834 ...........................................\n",
      "[CV] ............................. C=0.0774263682681127, total=   5.7s\n",
      "[CV] C=0.21544346900318834 ...........................................\n",
      "[CV] ............................. C=0.0774263682681127, total=   6.3s\n",
      "[CV] C=0.21544346900318834 ...........................................\n",
      "[CV] ............................. C=0.0774263682681127, total=   6.8s\n",
      "[CV] C=0.21544346900318834 ...........................................\n",
      "[CV] ............................ C=0.21544346900318834, total=   7.8s\n",
      "[CV] C=0.21544346900318834 ...........................................\n",
      "[CV] ............................ C=0.21544346900318834, total=   8.6s\n",
      "[CV] C=0.5994842503189409 ............................................\n",
      "[CV] ............................ C=0.21544346900318834, total=  10.8s\n",
      "[CV] C=0.5994842503189409 ............................................\n",
      "[CV] ............................ C=0.21544346900318834, total=   8.0s\n",
      "[CV] C=0.5994842503189409 ............................................\n",
      "[CV] ............................ C=0.21544346900318834, total=   9.9s\n",
      "[CV] C=0.5994842503189409 ............................................\n",
      "[CV] ............................. C=0.5994842503189409, total=  11.2s\n",
      "[CV] C=0.5994842503189409 ............................................\n",
      "[CV] ............................. C=0.5994842503189409, total=  10.8s\n",
      "[CV] C=1.6681005372000592 ............................................\n",
      "[CV] ............................. C=0.5994842503189409, total=  10.5s\n",
      "[CV] C=1.6681005372000592 ............................................\n",
      "[CV] ............................. C=0.5994842503189409, total=  10.7s\n",
      "[CV] C=1.6681005372000592 ............................................\n",
      "[CV] ............................. C=0.5994842503189409, total=   9.5s\n",
      "[CV] C=1.6681005372000592 ............................................\n",
      "[CV] ............................. C=1.6681005372000592, total=  11.8s\n",
      "[CV] C=1.6681005372000592 ............................................\n",
      "[CV] ............................. C=1.6681005372000592, total=  14.4s\n",
      "[CV] C=4.6415888336127775 ............................................\n",
      "[CV] ............................. C=1.6681005372000592, total=  15.5s\n",
      "[CV] C=4.6415888336127775 ............................................\n",
      "[CV] ............................. C=1.6681005372000592, total=  13.8s\n",
      "[CV] C=4.6415888336127775 ............................................\n",
      "[CV] ............................. C=1.6681005372000592, total=  13.3s\n",
      "[CV] C=4.6415888336127775 ............................................\n",
      "[CV] ............................. C=4.6415888336127775, total=  19.8s\n",
      "[CV] C=4.6415888336127775 ............................................\n",
      "[CV] ............................. C=4.6415888336127775, total=  22.9s\n",
      "[CV] C=12.915496650148826 ............................................\n",
      "[CV] ............................. C=4.6415888336127775, total=  18.6s\n",
      "[CV] C=12.915496650148826 ............................................\n"
     ]
    },
    {
     "name": "stderr",
     "output_type": "stream",
     "text": [
      "[Parallel(n_jobs=-1)]: Done  33 tasks      | elapsed:  1.7min\n"
     ]
    },
    {
     "name": "stdout",
     "output_type": "stream",
     "text": [
      "[CV] ............................. C=4.6415888336127775, total=  17.5s\n",
      "[CV] C=12.915496650148826 ............................................\n",
      "[CV] ............................. C=4.6415888336127775, total=  17.1s\n",
      "[CV] C=12.915496650148826 ............................................\n",
      "[CV] ............................. C=12.915496650148826, total=  29.2s\n",
      "[CV] C=12.915496650148826 ............................................\n",
      "[CV] ............................. C=12.915496650148826, total=  30.7s\n",
      "[CV] C=35.93813663804626 .............................................\n",
      "[CV] ............................. C=12.915496650148826, total=  30.7s\n",
      "[CV] C=35.93813663804626 .............................................\n",
      "[CV] ............................. C=12.915496650148826, total=  33.1s\n",
      "[CV] C=35.93813663804626 .............................................\n",
      "[CV] ............................. C=12.915496650148826, total=  30.6s\n",
      "[CV] C=35.93813663804626 .............................................\n",
      "[CV] .............................. C=35.93813663804626, total=  58.3s\n",
      "[CV] C=35.93813663804626 .............................................\n",
      "[CV] .............................. C=35.93813663804626, total=  58.6s\n",
      "[CV] C=100.0 .........................................................\n",
      "[CV] .............................. C=35.93813663804626, total=  54.8s\n",
      "[CV] C=100.0 .........................................................\n",
      "[CV] .............................. C=35.93813663804626, total=  53.8s\n",
      "[CV] C=100.0 .........................................................\n",
      "[CV] .............................. C=35.93813663804626, total=  54.0s\n",
      "[CV] C=100.0 .........................................................\n",
      "[CV] .......................................... C=100.0, total= 2.0min\n",
      "[CV] C=100.0 .........................................................\n",
      "[CV] .......................................... C=100.0, total= 2.0min\n",
      "[CV] .......................................... C=100.0, total= 2.0min\n",
      "[CV] .......................................... C=100.0, total= 1.8min\n",
      "[CV] .......................................... C=100.0, total= 1.2min\n"
     ]
    },
    {
     "name": "stderr",
     "output_type": "stream",
     "text": [
      "[Parallel(n_jobs=-1)]: Done  50 out of  50 | elapsed:  6.5min finished\n"
     ]
    },
    {
     "name": "stdout",
     "output_type": "stream",
     "text": [
      "Linear SVM C: {'C': 0.027825594022071243}\n"
     ]
    }
   ],
   "source": [
    "Lin_SVM = SVC(kernel='linear')\n",
    "Cs = 10**np.linspace(-2, 2, 10)\n",
    "Lin_SVM_CV = GridSearchCV(Lin_SVM, n_jobs=-1, cv=5, param_grid={'C': Cs}, verbose=2)\n",
    "Lin_SVM_CV.fit(X_train, y_train)\n",
    "print(\"Linear SVM C:\", Lin_SVM_CV.best_params_)"
   ]
  },
  {
   "cell_type": "code",
   "execution_count": 33,
   "metadata": {},
   "outputs": [
    {
     "name": "stdout",
     "output_type": "stream",
     "text": [
      "Fitting 5 folds for each of 5 candidates, totalling 25 fits\n",
      "[CV] C=0.01 ..........................................................\n",
      "[CV] C=0.01 ..........................................................\n",
      "[CV] C=0.01 ..........................................................\n",
      "[CV] C=0.01 ..........................................................\n",
      "[CV] ........................................... C=0.01, total=  10.7s\n",
      "[CV] C=0.01 ..........................................................\n",
      "[CV] ........................................... C=0.01, total=  11.2s\n",
      "[CV] C=0.1 ...........................................................\n",
      "[CV] ........................................... C=0.01, total=  12.2s\n",
      "[CV] C=0.1 ...........................................................\n",
      "[CV] ........................................... C=0.01, total=  12.3s\n",
      "[CV] C=0.1 ...........................................................\n",
      "[CV] ............................................ C=0.1, total=   7.5s\n",
      "[CV] C=0.1 ...........................................................\n",
      "[CV] ............................................ C=0.1, total=   8.2s\n",
      "[CV] C=0.1 ...........................................................\n",
      "[CV] ............................................ C=0.1, total=   8.2s\n",
      "[CV] C=1 .............................................................\n",
      "[CV] ........................................... C=0.01, total=  12.0s\n",
      "[CV] C=1 .............................................................\n",
      "[CV] ............................................ C=0.1, total=   7.6s\n",
      "[CV] C=1 .............................................................\n",
      "[CV] .............................................. C=1, total=   6.4s\n",
      "[CV] C=1 .............................................................\n",
      "[CV] ............................................ C=0.1, total=   7.0s\n",
      "[CV] C=1 .............................................................\n",
      "[CV] .............................................. C=1, total=   6.2s\n",
      "[CV] C=10 ............................................................\n",
      "[CV] .............................................. C=1, total=   5.6s\n",
      "[CV] C=10 ............................................................\n",
      "[CV] .............................................. C=1, total=   6.1s\n",
      "[CV] C=10 ............................................................\n",
      "[CV] .............................................. C=1, total=   6.4s\n",
      "[CV] C=10 ............................................................\n",
      "[CV] ............................................. C=10, total=   7.2s\n",
      "[CV] C=10 ............................................................\n",
      "[CV] ............................................. C=10, total=   7.6s\n",
      "[CV] C=100 ...........................................................\n",
      "[CV] ............................................. C=10, total=   7.8s\n",
      "[CV] C=100 ...........................................................\n",
      "[CV] ............................................. C=10, total=   7.5s\n",
      "[CV] C=100 ...........................................................\n",
      "[CV] ............................................. C=10, total=   7.0s\n",
      "[CV] C=100 ...........................................................\n",
      "[CV] ............................................ C=100, total=  15.4s\n",
      "[CV] C=100 ...........................................................\n",
      "[CV] ............................................ C=100, total=  16.6s\n",
      "[CV] ............................................ C=100, total=  16.5s\n",
      "[CV] ............................................ C=100, total=  15.9s\n",
      "[CV] ............................................ C=100, total=  10.2s\n"
     ]
    },
    {
     "name": "stderr",
     "output_type": "stream",
     "text": [
      "[Parallel(n_jobs=-1)]: Done  25 out of  25 | elapsed:  1.5min finished\n"
     ]
    },
    {
     "name": "stdout",
     "output_type": "stream",
     "text": [
      "RBF SVM C: {'C': 100}\n"
     ]
    }
   ],
   "source": [
    "RBF_SVM = SVC(kernel='rbf')\n",
    "RBF_SVM_CV = GridSearchCV(RBF_SVM, n_jobs=-1, cv=5, param_grid={'C': Cs}, verbose=2)\n",
    "RBF_SVM_CV.fit(X_train, y_train)\n",
    "print(\"RBF SVM C:\", RBF_SVM_CV.best_params_)"
   ]
  },
  {
   "cell_type": "markdown",
   "metadata": {},
   "source": [
    "### Part 2, Mean Error Rate"
   ]
  },
  {
   "cell_type": "code",
   "execution_count": 37,
   "metadata": {},
   "outputs": [
    {
     "name": "stdout",
     "output_type": "stream",
     "text": [
      "Logistic Regression MER: 0.2039427773900907\n",
      "Linear SVM MER: 0.20219818562456382\n",
      "RBF SVM MER: 0.1292742498255408\n"
     ]
    }
   ],
   "source": [
    "print(\"Logistic Regression MER:\", 1-log_reg_CV.score(X_test, y_test))\n",
    "print(\"Linear SVM MER:\", 1-Lin_SVM_CV.score(X_test, y_test))\n",
    "print(\"RBF SVM MER:\", 1-RBF_SVM_CV.score(X_test, y_test))"
   ]
  },
  {
   "cell_type": "markdown",
   "metadata": {},
   "source": [
    "### Part 3, All 6 Models"
   ]
  },
  {
   "cell_type": "code",
   "execution_count": 41,
   "metadata": {},
   "outputs": [
    {
     "data": {
      "text/plain": [
       "SVC(C=100.0, cache_size=200, class_weight=None, coef0=0.0,\n",
       "  decision_function_shape='ovr', degree=3, gamma='auto', kernel='rbf',\n",
       "  max_iter=-1, probability=True, random_state=None, shrinking=True,\n",
       "  tol=0.001, verbose=False)"
      ]
     },
     "execution_count": 41,
     "metadata": {},
     "output_type": "execute_result"
    }
   ],
   "source": [
    "log_reg_C = 0.35938137\n",
    "lin_SVM_C = 0.027825594022071243\n",
    "rbf_SVM_C = 100.0\n",
    "\n",
    "naive_bayes = GaussianNB()\n",
    "lda = LDA()\n",
    "qda = QDA()\n",
    "log_reg = LogisticRegression(C=log_reg_C)\n",
    "lin_SVM = SVC(kernel='linear', C=lin_SVM_C, probability=True)\n",
    "rbf_SVM = SVC(kernel='rbf', C=rbf_SVM_C, probability=True)\n",
    "\n",
    "naive_bayes.fit(X_train, y_train)\n",
    "lda.fit(X_train, y_train)\n",
    "qda.fit(X_train, y_train)\n",
    "log_reg.fit(X_train, y_train)\n",
    "lin_SVM.fit(X_train, y_train)\n",
    "rbf_SVM.fit(X_train, y_train)"
   ]
  },
  {
   "cell_type": "code",
   "execution_count": 70,
   "metadata": {},
   "outputs": [
    {
     "name": "stdout",
     "output_type": "stream",
     "text": [
      "naive_bayes has AUC of: 0.771199636123693\n",
      "naive_bayes has accuracy of: 0.7316817864619679\n",
      "\n",
      "lda has AUC of: 0.8461535909897093\n",
      "lda has accuracy of: 0.7885554780181437\n",
      "\n",
      "qda has AUC of: 0.871970577819494\n",
      "qda has accuracy of: 0.7864619678995115\n",
      "\n",
      "log_reg has AUC of: 0.8473600988877386\n",
      "log_reg has accuracy of: 0.7960572226099093\n",
      "\n",
      "lin_SVM has AUC of: 0.8430522035918722\n",
      "lin_SVM has accuracy of: 0.7978018143754362\n",
      "\n",
      "rbf_SVM has AUC of: 0.9258341961198292\n",
      "rbf_SVM has accuracy of: 0.8707257501744592\n",
      "\n"
     ]
    },
    {
     "data": {
      "image/png": "[encoded data removed]",
      "text/plain": [
       "<matplotlib.figure.Figure at 0x7f21f604bf28>"
      ]
     },
     "metadata": {},
     "output_type": "display_data"
    }
   ],
   "source": [
    "for model, model_name in zip([naive_bayes, lda, qda, log_reg, lin_SVM, rbf_SVM],\n",
    "                             ['naive_bayes', 'lda', 'qda', 'log_reg', 'lin_SVM', 'rbf_SVM']):\n",
    "    y_score = model.predict_proba(X_test)\n",
    "    tpr, fpr, _ = roc_curve(y_test, y_score[:,0])\n",
    "    print(model_name, 'has AUC of:', auc(fpr, tpr))\n",
    "    print(model_name, 'has accuracy of:', accuracy_score(y_test, model.predict(X_test)))\n",
    "    print()\n",
    "    plt.plot(fpr, tpr, label=model_name)\n",
    "    \n",
    "plt.xlabel('FPR')\n",
    "plt.ylabel('TPR')\n",
    "plt.legend(loc=\"lower right\")\n",
    "plt.show()"
   ]
  },
  {
   "cell_type": "markdown",
   "metadata": {
    "ein.tags": "worksheet-0",
    "slideshow": {
     "slide_type": "-"
    }
   },
   "source": [
    "# Question 2: Bayesian Networks (10 pts)\n",
    "In the Bayesian Network shown below, the nodes represent the following random variables: S stands for \"Smoking\", LC for \"Lung Cancer\", B for \"Bronchitis\", T for \"Tuberculosis\", D for \"Dyspnea\". The necessary conditional probabilities are provided alongside. "
   ]
  },
  {
   "cell_type": "code",
   "execution_count": 1,
   "metadata": {
    "autoscroll": false,
    "ein.tags": "worksheet-0",
    "slideshow": {
     "slide_type": "-"
    }
   },
   "outputs": [
    {
     "data": {
      "image/png": "[encoded data removed]",
      "text/plain": [
       "<IPython.core.display.Image object>"
      ]
     },
     "execution_count": 1,
     "metadata": {},
     "output_type": "execute_result"
    }
   ],
   "source": [
    "from IPython.display import Image\n",
    "Image(filename='BayesianNetworks.png')"
   ]
  },
  {
   "cell_type": "markdown",
   "metadata": {
    "ein.tags": "worksheet-0",
    "slideshow": {
     "slide_type": "-"
    }
   },
   "source": [
    "$$Pr(S = yes) = 0.1$$\n",
    "$$Pr(LC = yes | S = yes) = 0.03$$\n",
    "$$Pr(LC = yes | S = no) = 0.01$$\n",
    "$$Pr(B = yes | S = yes) = 0.06$$\n",
    "$$Pr(B = yes | S = no) = 0.02$$\n",
    "$$Pr(T = yes | LC = yes, B = yes) = 0.8$$\n",
    "$$Pr(T = yes | LC = yes, B = no) = 0.5$$\n",
    "$$Pr(T = yes | LC = no, B = yes) = 0.1$$\n",
    "$$Pr(T = yes | LC = no, B = no) = 0.04$$\n",
    "$$Pr(D = yes | T = yes, B = yes) = 0.9$$\n",
    "$$Pr(D = yes | T = yes, B = no) = 0.7$$\n",
    "$$Pr(D = yes | T = no, B = yes) = 0.65$$\n",
    "$$Pr(D = yes | T = no, B = no) = 0.015$$"
   ]
  },
  {
   "cell_type": "markdown",
   "metadata": {
    "ein.tags": "worksheet-0",
    "slideshow": {
     "slide_type": "-"
    }
   },
   "source": [
    "Compute the following probabilities:\n",
    "\n",
    "(a) (2 pts) $Pr(D = yes)$\n",
    "\n",
    "(b) (2 pts) $Pr(LC = no, B = yes, D = yes)$\n",
    "\n",
    "(c) (3 pts) Given that a person has Bronchitis (B = yes) and no Lung Cancer (LC = no), the probability he will has symptoms of Dyspnea (D = yes).\n",
    "\n",
    "(d) (3 pts) Given that a person is a smoker (S = yes), the probability he will get infected with Tuberculosis (T = yes)."
   ]
  },
  {
   "cell_type": "markdown",
   "metadata": {
    "ein.tags": "worksheet-0",
    "slideshow": {
     "slide_type": "-"
    }
   },
   "source": [
    "# Answer\n",
    "### a\n",
    "$Pr(LC=yes) = Pr(S=yes)Pr(LC=yes|S=yes) + Pr(S=no)Pr(LC=yes|S=no) = 0.1*0.03 + 0.9*0.01 = 0.012$\n",
    "$Pr(LC=no) = 1 - Pr(LC=yes) = 0.988$\n",
    "$Pr(B=yes) = Pr(S=yes)Pr(B=yes|S=yes) + Pr(S=no)Pr(B=yes|S=no) = 0.1*0.06 + 0.9*0.02 = 0.024$\n",
    "$Pr(B=no) = 1 - Pr(B=yes) = 0.976$\n",
    "$Pr(T=yes) = Pr(LC=yes)Pr(B=yes)Pr(T=yes|LC=yes,B=yes) + Pr(LC=yes)Pr(B=no)Pr(T=yes|LC=yes,B=no) + Pr(LC=no)Pr(B=yes)Pr(T=yes|LC=no,B=yes) + Pr(LC=no)Pr(B=no)Pr(T=yes|LC=no,B=no) = 0.012*0.024*0.8 + 0.012*0.976*0.5 + 0.988*0.024*0.1 + 0.988*0.976*0.04 = 0.04702912$\n",
    "$Pr(T=no) = 1 - Pr(T=yes) = 0.95297088$\n",
    "$Pr(D=yes) = Pr(T=yes)Pr(B=yes)Pr(D=yes|T=yes,B=yes) +  Pr(T=yes)Pr(B=no)Pr(D=yes|T=yes,B=no) +  Pr(T=no)Pr(B=yes)Pr(D=yes|T=no,B=yes) +  Pr(T=no)Pr(B=no)Pr(D=yes|T=no,B=no) = 0.04702912*0.024*0.9 + 0.04702912*0.976*0.7 + 0.95297088*0.024*0.65 + 0.95297088*0.976*0.015 = 0.06196396319$\n",
    "$Pr(D=no) = 1 - Pr(D=yes) = 0.9380360368$\n",
    "\n",
    "$Pr(D=yes) = 0.06196396319$\n",
    "\n",
    "### b \n",
    "$Pr(D=yes|B=yes,LC=no) = Pr(T=yes|LC=no,B=yes)*Pr(D=yes|T=yes,B=yes) + Pr(T=no|LC=no,B=yes)*Pr(D=yes|T=no,B=yes) = 0.1*0.9 + 0.9*0.65 = 0.675$\n",
    "$Pr(LC = no, B = yes, D = yes) = Pr(S=yes)Pr(LC=no|S=yes)Pr(B=yes|S=yes)Pr(D=yes|B=yes,LC=no) + Pr(S=no)Pr(LC=no|S=no)Pr(B=yes|S=no)Pr(D=yes|B=yes,LC=no) = 0.1*0.97*0.06*0.675 + 0.9*0.99*0.02*0.675 = 0.015957$\n",
    "\n",
    "### c\n",
    "$Pr(D=yes|B=yes,LC=no) = Pr(T=yes|LC=no,B=yes)*Pr(D=yes|T=yes,B=yes) + Pr(T=no|LC=no,B=yes)*Pr(D=yes|T=no,B=yes) = 0.1*0.9 + 0.9*0.65 = 0.675$\n",
    "\n",
    "### d\n",
    "$Pr(T=yes|S=yes) = Pr(LC=yes|S=yes)Pr(B=yes|S=yes)Pr(T=yes|LC=yes,B=yes) + Pr(LC=no|S=yes)Pr(B=yes|S=yes)Pr(T=yes|LC=no,B=yes) + Pr(LC=yes|S=yes)Pr(B=no|S=yes)Pr(T=yes|LC=yes,B=no) + Pr(LC=no|S=yes)Pr(B=no|S=yes)Pr(T=yes|LC=no,B=no) = 0.03*0.06*0.8 + 0.97*0.06*0.1 + 0.03*0.94*0.5 + 0.97*0.94*0.04 = 0.057832$ "
   ]
  },
  {
   "cell_type": "markdown",
   "metadata": {
    "ein.tags": "worksheet-0",
    "slideshow": {
     "slide_type": "-"
    }
   },
   "source": [
    "# Question 3: (15 pts)"
   ]
  },
  {
   "cell_type": "markdown",
   "metadata": {
    "ein.tags": "worksheet-0",
    "slideshow": {
     "slide_type": "-"
    }
   },
   "source": [
    "In this problem we will be classifying data in the CIFAR-10 dataset which contains 60000 images classified in 10 mutually exclusive classes. Please download and extract the data from https://www.cs.toronto.edu/~kriz/cifar-10-python.tar.gz\n",
    "\n",
    "For parts 1-3 we will build a classifier to determine whether an image is in class 0 or class 1. In part 4, we will classify the imges into any of 10 classes. We've included starter code to load the data from the unzipped folder.\n",
    "\n",
    "1. Train a logistic regression with almost no regularization (pass l2 (ridge) to penalty and 1,000,000 to the C parameter which is the inverse of regularization strength lambda. This essentially does l2 regularization but applies very little weight to the penalty term) and report the [confusion matrix](http://scikit-learn.org/stable/modules/generated/sklearn.metrics.confusion_matrix.html) on the test data. Also report the accuracy for the \"y = 0\" class, the \"y = 1\" class, and the average per-class accuracy on the test data. Average per-class accuracy is described in this [post](http://rasbt.github.io/mlxtend/user_guide/evaluate/scoring/). You can use your confusion matrix to calculate this.  (4pts)\n",
    "2. Repeat step 1 except use l2 penalty with Cs of [0.01, 0.1, 1, 10 ,100]. You will want to use 3-fold cross validation to select the best parameter. To evaluate which parameter is best, maximize the average per-class accuracy. To help with this task, check out [GridSearchCV](http://scikit-learn.org/stable/modules/generated/sklearn.model_selection.GridSearchCV.html#sklearn.model_selection.GridSearchCV) and how to make your own [custom scorer](http://scikit-learn.org/stable/modules/model_evaluation.html).  (4pts)\n",
    "3. Repeat question 2 except use l1 instead of l2 as the penalty type, use Cs of  [0.01, ..., 100].  Compare the performances of the models (no regularization, l2, l1) using the average per-class accuracy.  (3pts)\n",
    "4. Using the optimal regularization parameter obtained in step 2, train a logistic regression classifier with ridge penalty to clasify $\\textbf{all 10 digits}$ (digits 0,1,2,3,...9) of the MNIST dataset.  Use 'newton-cg' and 'multinomial' options for solver and multi_class parameters, respectively. Report the average per-class accuracy and confusion matrix (10 X 10) on the test data. (4pts)"
   ]
  },
  {
   "cell_type": "code",
   "execution_count": 72,
   "metadata": {
    "autoscroll": false,
    "ein.tags": "worksheet-0",
    "slideshow": {
     "slide_type": "-"
    }
   },
   "outputs": [],
   "source": [
    "import numpy as np\n",
    "import numpy.linalg as la\n",
    "import matplotlib.pyplot as plt\n",
    "import pickle as cPickle\n",
    "from sklearn.linear_model import LogisticRegression\n",
    "from sklearn.neural_network import MLPClassifier\n",
    "from sklearn.metrics import mean_squared_error, confusion_matrix\n",
    "from sklearn.model_selection import GridSearchCV\n",
    "from sklearn.metrics import accuracy_score, make_scorer\n",
    "\n",
    "def unpickle(path):\n",
    "    with open(path, 'rb') as fo:\n",
    "      data = cPickle.load(fo, encoding='latin1')\n",
    "    return data\n",
    "\n",
    "def load_data(path, test=False):\n",
    "    data = []\n",
    "    labels = []\n",
    "    if test:\n",
    "        batch = unpickle(path + '/test_batch')\n",
    "        data = batch['data']\n",
    "        labels = batch['labels']\n",
    "    else:\n",
    "        for batch_num in range(1, 5):\n",
    "            batch = unpickle(path + '/data_batch_' + str(batch_num))\n",
    "            if len(data) == 0: \n",
    "                data = batch['data']\n",
    "            else:\n",
    "                data = np.concatenate([data, batch['data']], axis=0)\n",
    "            labels += batch['labels']\n",
    "    data = np.array(data)\n",
    "    labels = np.array(labels)\n",
    "    return data, labels"
   ]
  },
  {
   "cell_type": "code",
   "execution_count": 84,
   "metadata": {
    "autoscroll": false,
    "ein.tags": "worksheet-0",
    "slideshow": {
     "slide_type": "-"
    }
   },
   "outputs": [],
   "source": [
    "all_train_data, all_train_labels = load_data('./cifar-10-batches-py')\n",
    "all_test_data, all_test_labels = load_data('./cifar-10-batches-py', test=True)\n",
    "\n",
    "two_class_train_data = all_train_data[(all_train_labels == 0) | (all_train_labels == 1)]\n",
    "two_class_train_labels = all_train_labels[(all_train_labels == 0) | (all_train_labels == 1)]\n",
    "\n",
    "two_class_test_data = all_test_data[(all_test_labels == 0) | (all_test_labels == 1)]\n",
    "two_class_test_labels = all_test_labels[(all_test_labels == 0) | (all_test_labels == 1)]\n",
    "\n",
    "X_train = (two_class_train_data / 255.)\n",
    "y_train = two_class_train_labels\n",
    "\n",
    "X_test = (two_class_test_data / 255.)\n",
    "y_test = two_class_test_labels\n",
    "\n",
    "X_all_train = (all_train_data / 255.)\n",
    "y_all_train = all_train_labels\n",
    "\n",
    "X_all_test = (all_test_data / 255.)\n",
    "y_all_test = all_test_labels"
   ]
  },
  {
   "cell_type": "code",
   "execution_count": 89,
   "metadata": {},
   "outputs": [
    {
     "name": "stdout",
     "output_type": "stream",
     "text": [
      "(2000,)\n",
      "(7972,)\n",
      "(40000, 3072)\n"
     ]
    }
   ],
   "source": [
    "print(y_test.shape)\n",
    "print(y_train.shape)\n",
    "print(X_all_train.shape)"
   ]
  },
  {
   "cell_type": "code",
   "execution_count": 90,
   "metadata": {},
   "outputs": [
    {
     "name": "stdout",
     "output_type": "stream",
     "text": [
      "(200,)\n",
      "(1000,)\n"
     ]
    }
   ],
   "source": [
    "X_train = X_train[np.array(range(0, 7972, 10))]\n",
    "y_train = y_train[np.array(range(0, 7972, 10))]\n",
    "\n",
    "X_test = X_test[np.array(range(0, 2000, 10))]\n",
    "y_test = y_test[np.array(range(0, 2000, 10))]\n",
    "\n",
    "X_all_train = X_all_train[np.array(range(0, 40000, 10))]\n",
    "y_all_train = y_all_train[np.array(range(0, 40000, 10))]\n",
    "\n",
    "X_all_test = X_all_test[np.array(range(0, 10000, 10))]\n",
    "y_all_test = y_all_test[np.array(range(0, 10000, 10))]\n",
    "\n",
    "print(y_test.shape)\n",
    "print(y_all_test.shape)"
   ]
  },
  {
   "cell_type": "markdown",
   "metadata": {
    "ein.tags": "worksheet-0",
    "slideshow": {
     "slide_type": "-"
    }
   },
   "source": [
    "# Answer\n",
    "### Part 1, No Regularization"
   ]
  },
  {
   "cell_type": "code",
   "execution_count": 76,
   "metadata": {},
   "outputs": [
    {
     "name": "stdout",
     "output_type": "stream",
     "text": [
      "Confusion Matirx:\n",
      " [[78 17]\n",
      " [31 74]]\n",
      "Class 0 ACC: 0.76\n",
      "Class 1 ACC: 0.76\n",
      "Avg Per-Class ACC: 0.76\n"
     ]
    }
   ],
   "source": [
    "log_regr_no_reg = LogisticRegression(penalty='l2', C=1000000)\n",
    "log_regr_no_reg.fit(X_train, y_train)\n",
    "confusion_mat = confusion_matrix(y_test, log_regr_no_reg.predict(X_test))\n",
    "\n",
    "def parse_confusion_mat(confusion_mat):\n",
    "    class_0_acc = (confusion_mat[0][0] + confusion_mat[1][1]) / (confusion_mat.sum())\n",
    "    class_1_acc = (confusion_mat[1][1] + confusion_mat[0][0]) / (confusion_mat.sum())\n",
    "    avg_per_class = (class_0_acc + class_1_acc) / 2\n",
    "    return class_0_acc, class_1_acc, avg_per_class\n",
    "\n",
    "print(\"Confusion Matirx:\\n\", confusion_mat)\n",
    "class_0_acc, class_1_acc, avg_per_class = parse_confusion_mat(confusion_mat)\n",
    "print(\"Class 0 ACC:\", class_0_acc)\n",
    "print(\"Class 1 ACC:\", class_1_acc)\n",
    "print(\"Avg Per-Class ACC:\", avg_per_class)"
   ]
  },
  {
   "cell_type": "markdown",
   "metadata": {},
   "source": [
    "### Part 2, Cross Validation"
   ]
  },
  {
   "cell_type": "code",
   "execution_count": 77,
   "metadata": {},
   "outputs": [
    {
     "name": "stdout",
     "output_type": "stream",
     "text": [
      "Best Logistic Regression C: {'C': 0.01}\n",
      "With avg acc per class: 0.7869674185463659\n"
     ]
    }
   ],
   "source": [
    "def avg_acc_per_class(y_true, y_pred):\n",
    "    confusion_mat = confusion_matrix(y_true, y_pred)\n",
    "    class_0_acc = (confusion_mat[0][0] + confusion_mat[1][1]) / (confusion_mat.sum())\n",
    "    return class_0_acc\n",
    "\n",
    "Cs = [0.01, 0.1, 1, 10, 100]\n",
    "avg_acc_per_class_scorer = make_scorer(avg_acc_per_class, greater_is_better=True)\n",
    "log_regr_grid_cv = GridSearchCV(LogisticRegression(penalty='l2'),\n",
    "                                scoring=avg_acc_per_class_scorer, param_grid={'C' : Cs}, cv=3)\n",
    "log_regr_grid_cv.fit(X_train, y_train)\n",
    "print(\"Best Logistic Regression C:\", log_regr_grid_cv.best_params_) \n",
    "print(\"With avg acc per class:\", log_regr_grid_cv.best_score_)"
   ]
  },
  {
   "cell_type": "markdown",
   "metadata": {},
   "source": [
    "### Part 3, Cross Validation L1"
   ]
  },
  {
   "cell_type": "code",
   "execution_count": 78,
   "metadata": {},
   "outputs": [
    {
     "name": "stdout",
     "output_type": "stream",
     "text": [
      "Best Logistic Regression C: {'C': 1}\n",
      "With avg acc per class: 0.7832080200501254\n"
     ]
    }
   ],
   "source": [
    "log_regr_l1_grid_cv = GridSearchCV(LogisticRegression(penalty='l1'),\n",
    "                                scoring=avg_acc_per_class_scorer, param_grid={'C' : Cs}, cv=3)\n",
    "log_regr_l1_grid_cv.fit(X_train, y_train)\n",
    "print(\"Best Logistic Regression C:\", log_regr_l1_grid_cv.best_params_) \n",
    "print(\"With avg acc per class:\", log_regr_l1_grid_cv.best_score_)"
   ]
  },
  {
   "cell_type": "markdown",
   "metadata": {},
   "source": [
    "L2 regularlization requires a smaller C value, but ultimately gets a higher accuracy compared to L1."
   ]
  },
  {
   "cell_type": "markdown",
   "metadata": {},
   "source": [
    "### Part 4"
   ]
  },
  {
   "cell_type": "code",
   "execution_count": 91,
   "metadata": {},
   "outputs": [
    {
     "data": {
      "text/plain": [
       "LogisticRegression(C=0.01, class_weight=None, dual=False, fit_intercept=True,\n",
       "          intercept_scaling=1, max_iter=100, multi_class='multinomial',\n",
       "          n_jobs=1, penalty='l2', random_state=None, solver='newton-cg',\n",
       "          tol=0.0001, verbose=0, warm_start=False)"
      ]
     },
     "execution_count": 91,
     "metadata": {},
     "output_type": "execute_result"
    }
   ],
   "source": [
    "log_regr_l2_10c = LogisticRegression(\n",
    "    penalty='l2', multi_class='multinomial', solver='newton-cg', C=.01)\n",
    "log_regr_l2_10c.fit(X_all_train, y_all_train)"
   ]
  },
  {
   "cell_type": "code",
   "execution_count": 102,
   "metadata": {},
   "outputs": [
    {
     "name": "stdout",
     "output_type": "stream",
     "text": [
      "[[47  3  3  4  0  4  1  2 17  6]\n",
      " [ 6 42  3  3  6  5  4  2 10 19]\n",
      " [10  4 28  7 17 11 21  7  2  1]\n",
      " [ 4  5  8 23  9 27 15  4  4  8]\n",
      " [ 7  1 12  9 25 14 20  4  1  2]\n",
      " [ 3  2 10 10  4 42 10  4  8  2]\n",
      " [ 1  3 14 12  6 11 44  5  1  3]\n",
      " [ 8  7 12  5 14 10  7 28  7  4]\n",
      " [17 10  3  6  1  9  0  3 46  7]\n",
      " [10 17  1  3  1  5  5  4  9 49]]\n",
      "Average per class accuracy: 0.8747999999999999\n"
     ]
    }
   ],
   "source": [
    "confusion_mat = confusion_matrix(y_all_test, log_regr_l2_10c.predict(X_all_test))\n",
    "print(confusion_mat)\n",
    "ACC = 0\n",
    "for cls in range(10):\n",
    "    local_mat = np.delete(confusion_mat, cls, axis=0)\n",
    "    local_mat = np.delete(local_mat, cls, axis=1)\n",
    "    TN = local_mat.sum()\n",
    "    TP = confusion_mat[cls][cls]\n",
    "    \n",
    "    ACC += ((TP + TN) / confusion_mat.sum())\n",
    "\n",
    "print(\"Average per class accuracy:\", ACC / 10)"
   ]
  },
  {
   "cell_type": "markdown",
   "metadata": {},
   "source": [
    "# Question 4: (10 pts)\n",
    "In this problem, we will perform some very basic image recovery using linear regression. The main purpose of this example is to set up the Azure cloud and get acquainted with the environment. Download the dataset on the remote machine into the same folder as this notebook.\n",
    "\n",
    "This part of the homework must be run on the azure cloud machine. We will doublecheck that everyone has used at least a portion of their allocated resources to ensure that everyone has successfully set up the VM.\n",
    "\n",
    "### Using Linear Regression for Image Recovery\n",
    "Given a set of uncorrupted images, $X$, and a single corrupted image $y$, we can find a linear combination of the images in the dataset which best reproduce the corrupted image. This sounds like a regression problem! \n",
    "\n",
    "Obviously, if we perfectly reproduce the corrupted image, then we haven't done a good job recovering the original image. However, if we introduce a penalty on the number of images used in the solution, then we can reproduce a decent approximation of the original image.\n",
    "\n",
    "After finding a linear combination of the images $\\beta$, $X\\beta$ will give us our recovered image (this is done for you in the `recover` function below). Once again, for the result to be an acceptable recovery of the image $X\\beta$ should not exactly equal $y$ since $y$ is the corrupted image.\n",
    "\n",
    "Each image is flattened into a vector of lengh 4096 (each image is 64x64) and the columns of $X$ correspond to the uncorrupted images in the dataset. You can think of the uncorrupted images in the dataset as the features.\n",
    "\n",
    "The starter code we have provided below does most of the work for us, all that is left to do is to:\n",
    "1. Modify the `ols` and `ridge` functions to solve OLS and ridge, respectively on the arguments provided to the functions ($X$ and $y$). (6pts)\n",
    "2. Try different values of the regularization coefficient for the ridge problem. You should be able to get a decent reproduction of the original image. (2pts)\n",
    "3. Explain why OLS does a bad job recovering the image, but ridge does an acceptable job with a good choice of alpha (2pts)"
   ]
  },
  {
   "cell_type": "code",
   "execution_count": 27,
   "metadata": {},
   "outputs": [],
   "source": [
    "from scipy.io import loadmat\n",
    "\n",
    "from sklearn import datasets, linear_model\n",
    "from sklearn.linear_model import LinearRegression\n",
    "from sklearn.linear_model import Ridge\n",
    "from matplotlib.pyplot import imshow\n",
    "\n",
    "import numpy as np\n",
    "import numpy.linalg as la\n",
    "import matplotlib\n",
    "import matplotlib.pyplot as plt\n",
    "\n",
    "import PIL.Image\n",
    "import glob\n",
    "import re\n",
    "\n",
    "def read_image_array(image_path):\n",
    "  im = np.asarray(PIL.Image.open(image_path)).ravel()\n",
    "  return im\n",
    "\n",
    "def read_images(ignore=[]):\n",
    "  frame_path = 'faces/'\n",
    "  frames = []\n",
    "  file_list = glob.glob(frame_path + \"*.png\")\n",
    "  for file_name in set(file_list) - set(ignore):\n",
    "    frames.append(read_image_array(file_name))\n",
    "  frames_array = np.array(frames).T\n",
    "  normalized = frames_array / 255.0 - np.mean(frames_array / 255.0, axis=0)\n",
    "  return normalized\n",
    "\n",
    "def ols(X, y):\n",
    "  #print(\"This is X: \", len(X), \" Y: \", len(y))\n",
    "  reg = linear_model.LinearRegression()\n",
    "  reg.fit(X,y)\n",
    "  #print(\"Here are coefficients: \", len(reg.coef_) )\n",
    "  return reg.coef_\n",
    "\n",
    "def ridge(X, y):\n",
    "  #UPDATE THIS FUNCTION\n",
    "  alpha = 500\n",
    "  ridge = Ridge(alpha) \n",
    "  ridge.fit(X,y)\n",
    "  return ridge.coef_\n",
    "\n",
    "def get_reference_image_name(corrupted_image_name):\n",
    "  parts = corrupted_image_name.split(\"_\")\n",
    "  return parts[1]\n",
    "\n",
    "def recover(method, name):\n",
    "  print(\"Recovering with\", name)\n",
    "  plt.figure()\n",
    "  corrupted_image_name = \"cor_585.png\"\n",
    "  print(\"recovering\", corrupted_image_name)\n",
    "  corrupted_image_path = corrupted_image_name\n",
    "  original_image_dimensions = np.asarray(PIL.Image.open(corrupted_image_path)).shape\n",
    "  reference_image_name = get_reference_image_name(corrupted_image_name)\n",
    "  reference_image = read_image_array('faces/' + reference_image_name)\n",
    "  reference_image_normalized = reference_image / 255.0 - np.mean(reference_image / 255.0)\n",
    "  corrupted_image = read_image_array(corrupted_image_path)\n",
    "  corrupted_image_normalized = corrupted_image / 255.0 - np.mean(corrupted_image / 255.0)\n",
    "  image_database = read_images()\n",
    "  model = method(image_database, corrupted_image_normalized)\n",
    "  recovered_image = np.dot(image_database, model)\n",
    "  recovered_image_restored = (np.dot(image_database, model) + np.mean(corrupted_image / 255.0)) * 255\n",
    "  return imshow(PIL.Image.fromarray(np.int32(recovered_image_restored.reshape(original_image_dimensions))).convert(\"L\"), cmap='gray')"
   ]
  },
  {
   "cell_type": "markdown",
   "metadata": {},
   "source": [
    "The code below will then save the restored images to the filesystem."
   ]
  },
  {
   "cell_type": "code",
   "execution_count": 5,
   "metadata": {},
   "outputs": [
    {
     "name": "stdout",
     "output_type": "stream",
     "text": [
      "Recovering with OLS\n",
      "recovering cor_585.png\n"
     ]
    },
    {
     "data": {
      "text/plain": [
       "<matplotlib.image.AxesImage at 0x7f6f0c14ef60>"
      ]
     },
     "execution_count": 5,
     "metadata": {},
     "output_type": "execute_result"
    },
    {
     "data": {
      "image/png": "[encoded data removed]",
      "text/plain": [
       "<Figure size 432x288 with 1 Axes>"
      ]
     },
     "metadata": {},
     "output_type": "display_data"
    }
   ],
   "source": [
    "%matplotlib inline\n",
    "recover(ols, 'OLS')\n"
   ]
  },
  {
   "cell_type": "code",
   "execution_count": 28,
   "metadata": {},
   "outputs": [
    {
     "name": "stdout",
     "output_type": "stream",
     "text": [
      "Recovering with Ridge\n",
      "recovering cor_585.png\n"
     ]
    },
    {
     "data": {
      "text/plain": [
       "<matplotlib.image.AxesImage at 0x7f6f0bdfeb38>"
      ]
     },
     "execution_count": 28,
     "metadata": {},
     "output_type": "execute_result"
    },
    {
     "data": {
      "image/png": "[encoded data removed]",
      "text/plain": [
       "<Figure size 432x288 with 1 Axes>"
      ]
     },
     "metadata": {},
     "output_type": "display_data"
    }
   ],
   "source": [
    "recover(ridge, 'Ridge')"
   ]
  },
  {
   "cell_type": "markdown",
   "metadata": {},
   "source": [
    "Tried with 0.01, 0.1, 1, 10, 100, 1,000, 10,000. Looks like somewhere in between 100-1,000 is good. Then tried 500 and 750. And I felt like 500 was the best at removing the bad spot while still looking remotely like the other face. \n",
    "\n",
    "The reason why OLS does such a poor job is because it is trying to exactly match the corrupted image. However with ridge regression it is trying to match the corrupted image as well as minimize feature size. Because of this it will be forced to use a smoother combination of the images which results in the black spo"
   ]
  },
  {
   "cell_type": "markdown",
   "metadata": {
    "ein.tags": "worksheet-0",
    "slideshow": {
     "slide_type": "-"
    }
   },
   "source": [
    "# Question 5: (5 pts)\n",
    "What are two properties of Naïve Bayes that make it so suitable for parallel/distributed computation and for analyzing \"streaming\" data (e.g. each document is processed only once and need not be further stored or revisited)? (5 pts)"
   ]
  },
  {
   "cell_type": "markdown",
   "metadata": {
    "ein.tags": "worksheet-0",
    "slideshow": {
     "slide_type": "-"
    }
   },
   "source": [
    "# Answer\n",
    "1. For discrete attributes, the probability is represented as simply a fraction which is P(xi= v| Ck) = fraction of examples of class kfor which attribute xi takes value v. So each probability is represented by a number of counters. Because of this, I can compute counters for 2 or more subsets of data, then just add the counters I get from these subsets, and my probability is still accurate. Also for \"streaming\" data, I can just consider my first subset as the data I have already seen, and my second subset as the new input. I already have the counter for my first subset, so I simply look at the new data and update my existing counter and my probability is still valid. This is the reason why I don't need to store or revisit any previous data. \n",
    "2. Conditional independence, because a probability is conditionally independent of the other probabilities, an update to one probability does not change the other probability distributions. Because of this I can look at a individual feature in an individual sample to update one counter. This allows me to move very quickly over data because I do not have to consider any other features or probabilities when making an update to a counter. Which allows me to potentially distribute the updating of different features to run in parallel as well. \n"
   ]
  },
  {
   "cell_type": "code",
   "execution_count": null,
   "metadata": {},
   "outputs": [],
   "source": []
  }
 ],
 "metadata": {
  "kernelspec": {
   "display_name": "Python 3",
   "language": "python",
   "name": "python3"
  },
  "language_info": {
   "codemirror_mode": {
    "name": "ipython",
    "version": 3
   },
   "file_extension": ".py",
   "mimetype": "text/x-python",
   "name": "python",
   "nbconvert_exporter": "python",
   "pygments_lexer": "ipython3",
   "version": "3.5.2"
  },
  "name": "HW4-S18Sol.ipynb"
 },
 "nbformat": 4,
 "nbformat_minor": 1
}
