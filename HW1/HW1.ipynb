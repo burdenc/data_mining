{
 "cells": [
  {
   "cell_type": "markdown",
   "metadata": {},
   "source": [
    "\n",
    "# <p style=\"text-align: center;\">EE 380L: Data Mining</p>\n",
    "# <p style=\"text-align: center;\">Assignment 1</p>\n",
    "## <p style=\"text-align: center;\">Total points: 50</p>\n",
    "## <p style=\"text-align: center;\">Due: Tuesday, February 6 submitted via Canvas by 11:59 pm</p>\n",
    "\n",
    "Your homework should be written in a **Jupyter notebook**. You may work in groups of two if you wish. Only one student per team needs to submit the assignment on Canvas.  But be sure to include name and UTID for both students.  Homework groups will be created and managed through Canvas, so please do not arbitrarily change your homework group.  \n",
    "\n",
    "Also, please make sure your code runs and the graphics (and anything else) are displayed in your notebook before submitting. (%matplotlib inline)\n",
    "\n",
    "**Note: Notebooks MUST have the images embedded in them. There will be no regrades if attached images do not render in the notebook. Please re download from canvas after submission and make sure all attached images render without errors. (Hint: Image module from IPython.display)**"
   ]
  },
  {
   "cell_type": "markdown",
   "metadata": {},
   "source": [
    "# Question 1: TED Talk (5 pts)\n",
    "Watch the video at https://www.ted.com/talks/anthony_goldbloom_the_jobs_we_ll_lose_to_machines_and_the_ones_we_won_t\n",
    "1. List two of the tasks mentioned in the video that machine learning is being used to automate.\n",
    "2. What kind of machine learning procedures were used for each of these tasks (classification, regression, clustering etc.)?\n",
    "\n",
    "\n",
    "## Answer"
   ]
  },
  {
   "cell_type": "markdown",
   "metadata": {},
   "source": [
    "# Question 2: Maximum Likelihood Estimation (5pts)\n",
    "Consider the following continuous univariate probability distribution involving a single parameter $\\lambda$.\n",
    "\n",
    "$$P(x_i; \\lambda) = \\lambda e^{-\\lambda x_i}, ~~~ x_i \\geq 0 $$, and zero elsewhere.\n",
    "\n",
    "Given N data points $x_1, x_2, \\ldots x_N$ drawn i.i.d. from this distribution, derive the MLE estimate for $\\lambda$, in terms of $x_1, x_2, \\ldots x_N$.\n",
    "\n",
    "## Answer\n"
   ]
  },
  {
   "cell_type": "markdown",
   "metadata": {},
   "source": [
    "# Question 3: Bivariate Normal Distribution (15pts)\n",
    "\n",
    "Suppose $X$ and $Y$ are two random variables whose joint distribution is Normal (Gaussian), centered at (0,0) and with correlation $\\rho$. (See \"Bivariate Case\" in the Wikipedia entry for \"Multivariate Normal Distribution\" for the equation, or use the vector form given in the class notes, with $\\sigma_{12} = \\sigma_{21} = \\rho \\sigma_{x} \\sigma_{y} $). Consider 2 cases:\n",
    "1. $\\sigma_x^2 = 4; \\sigma_y^2 = 16; \\rho = 0$\n",
    "2. $\\sigma_x^2 = 4; \\sigma_y^2 = 9; \\rho = 0.5$\n",
    "\n",
    "a. (4 pts) Obtain contour plots for each of the two distributions using  Python.  (http://stanford.edu/~mwaskom/software/seaborn/generated/seaborn.kdeplot.html). \n",
    "\n",
    "b. (3 pts) View 3-D plots for the two distributions (http://matplotlib.org/examples/mplot3d/rotate_axes3d_demo.html).\n",
    "\n",
    "c.  (3 pts) Consider the bivariate Normal Distribution given in part (ii). We can rotate this distribution by using the rotation matrix\n",
    "\\begin{equation} \\left[ \\begin{array}{cc} \\cos(\\theta) & -\\sin(\\theta) \\\\ \\sin(\\theta) & \\cos(\\theta) \\end{array} \\right] \\end{equation}\n",
    "Check Wikipedia for more info on rotation matrices. This is the same as creating two new random variables:\n",
    "\\begin{aligned}\n",
    "U = X \\cos(\\theta) - Y \\sin(\\theta) \\\\\n",
    "V = X \\sin(\\theta) + Y \\cos(\\theta)\n",
    "\\end{aligned}\n",
    "For a rotation of -45 degrees, plot the rotated distribution and fit a bivariate gaussian to this rotated distribution.\n",
    "\n",
    "d. (3 pts) \n",
    "\n",
    "i) Consider a multivariate normal distribution of $X_1$, $X_2$,... $X_k$, $X$. What can be said of the probability distribution of the $Y = R*X + t$?\n",
    "\n",
    "\n",
    "ii) From this, how can one compute the marginal probability of $(X_1,... X_m)$ for some $m < k$? What can be said of the probability distribution of this subset?\n",
    "## Answer\n"
   ]
  },
  {
   "cell_type": "code",
   "execution_count": 1,
   "metadata": {
    "collapsed": true
   },
   "outputs": [],
   "source": [
    "import numpy as np\n",
    "import seaborn as sns\n",
    "sns.set(style='ticks', palette='Set2')\n",
    "from mpl_toolkits.mplot3d import axes3d\n",
    "import matplotlib.pyplot as plt\n",
    "from scipy.stats import multivariate_normal\n",
    "%matplotlib inline"
   ]
  },
  {
   "cell_type": "markdown",
   "metadata": {},
   "source": [
    "# Question 4: Multiple Linear Regression in Python (25 pts)\n",
    "\n",
    "In this problem, you will perform linear regression using ordinary least squares on the dow_jones_index data, to predict 'next_weeks_open'. The dataset is attached in the homework. Some useful libraries have been attached in the starter code. \n",
    "\n",
    "a.  (5 pts) Using ordinary least squares, fit a multiple linear regression (MLR) on 'percent_change_price' and 'percent_change_volume_over_last_wk' using the entire dataset (2 columns and all the rows). Report the regression coefficient of each input feature and evaluate the model using mean squared error (MSE).  Example of ordinary least squares in Python is shown in Section 1.1.1 of http://scikit-learn.org/stable/modules/linear_model.html. \n",
    "\n",
    "b.  (5 pts) Do you think your MLR model is reasonable for this problem? You may look at the distribution of residuals to provide an informed answer.\n",
    "\n",
    "c. (10 pts) Now repeat a. and b. using \"open\", \"high\", \"low\", \"close\", \"percent_change_price\", \"percent_change_volume_over_last_wk\" as features. What difference do you observe?\n",
    "\n",
    "d.  (5 pts) Using the features in c, split the data into a training set and a test set.  Use the first 400 rows for training set and remaining rows for test set.  Fit an MLR using the training set.  Evaluate the trained model using the training set and the test set, respectively.  Compare the two MSE values thus obtained.\n",
    "\n",
    "## Answer"
   ]
  },
  {
   "cell_type": "code",
   "execution_count": 2,
   "metadata": {
    "collapsed": true
   },
   "outputs": [],
   "source": [
    "% matplotlib inline\n",
    "\n",
    "import numpy as np\n",
    "import pandas as pd\n",
    "from sklearn import datasets, linear_model\n",
    "from sklearn.metrics import mean_squared_error\n",
    "\n",
    "from matplotlib import pyplot as plt"
   ]
  }
 ],
 "metadata": {
  "kernelspec": {
   "display_name": "Python 3",
   "language": "python",
   "name": "python3"
  },
  "language_info": {
   "codemirror_mode": {
    "name": "ipython",
    "version": 3
   },
   "file_extension": ".py",
   "mimetype": "text/x-python",
   "name": "python",
   "nbconvert_exporter": "python",
   "pygments_lexer": "ipython3",
   "version": "3.5.2"
  }
 },
 "nbformat": 4,
 "nbformat_minor": 1
}
