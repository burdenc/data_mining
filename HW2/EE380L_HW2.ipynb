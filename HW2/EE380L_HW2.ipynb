{
 "cells": [
  {
   "cell_type": "markdown",
   "metadata": {
    "ein.tags": "worksheet-0",
    "slideshow": {
     "slide_type": "-"
    }
   },
   "source": [
    "\n",
    "# <p style=\"text-align: center;\">EE 380L: Data Mining</p>\n",
    "# <p style=\"text-align: center;\">Assignment 2</p>\n",
    "## <p style=\"text-align: center;\">Total points: 72</p>\n",
    "## <p style=\"text-align: center;\">Due: Tuesday, February 22nd, submitted via Canvas by 11:59 pm</p>\n",
    "### Cassidy Burden (cab5534), Ryan Meek (rjm3263)\n",
    "\n",
    "Your homework should be written in a **Jupyter notebook**. You may work in groups of two if you wish. Only one student per team needs to submit the assignment on Canvas.  But be sure to include name and UTID for both students.  Homework groups will be created and managed through Canvas, so please do not arbitrarily change your homework group.  \n",
    "\n",
    "Also, please make sure your code runs and the graphics (and anything else) are displayed in your notebook before submitting. (%matplotlib inline)"
   ]
  },
  {
   "cell_type": "markdown",
   "metadata": {
    "ein.tags": "worksheet-0",
    "slideshow": {
     "slide_type": "-"
    }
   },
   "source": [
    "# Question 1: Ridge and Lasso Regression (20 points)\n",
    "Use the following code to import the dow_jones dataset."
   ]
  },
  {
   "cell_type": "code",
   "execution_count": 4,
   "metadata": {
    "autoscroll": false,
    "ein.tags": "worksheet-0",
    "slideshow": {
     "slide_type": "-"
    }
   },
   "outputs": [],
   "source": [
    "% matplotlib inline\n",
    "\n",
    "import numpy as np\n",
    "import pandas as pd\n",
    "from sklearn import datasets, linear_model\n",
    "from sklearn.metrics import mean_squared_error\n",
    "\n",
    "from matplotlib import pyplot as plt"
   ]
  },
  {
   "cell_type": "code",
   "execution_count": 5,
   "metadata": {
    "autoscroll": false,
    "ein.tags": "worksheet-0",
    "slideshow": {
     "slide_type": "-"
    }
   },
   "outputs": [],
   "source": [
    "df = pd.read_csv('dow_jones_index.data')\n",
    "df = df.dropna()\n",
    "X = df[[u'open', u'high', u'low', u'close',\n",
    "       u'volume', u'percent_change_price',\n",
    "       u'percent_change_volume_over_last_wk', u'previous_weeks_volume', u'next_weeks_close',\n",
    "       u'percent_change_next_weeks_price', u'days_to_next_dividend',\n",
    "       u'percent_return_next_dividend']]\n",
    "X = X.as_matrix()\n",
    "\n",
    "for feat in range(X.shape[1]):\n",
    "    try:\n",
    "        if \"$\" in X[0, feat]:\n",
    "            X[:,feat] = [i.split(\"$\")[1] for i in X[:,feat]]\n",
    "    except:\n",
    "        pass\n",
    "X = X.astype('float')\n",
    "X = (X - np.mean(X, axis=0))/np.std(X, axis=0)\n",
    "\n",
    "y = df[[u'next_weeks_open']]\n",
    "y = y.as_matrix()\n",
    "y = [i.split(\"$\")[1] for i in y[:, 0]]\n",
    "y = np.array(y)\n",
    "y = y.astype('float')"
   ]
  },
  {
   "cell_type": "markdown",
   "metadata": {
    "ein.tags": "worksheet-0",
    "slideshow": {
     "slide_type": "-"
    }
   },
   "source": [
    "You will reuse the same dataset that you used in HW1. In this HW, you will add additional second-order polynomial and interaction variables to the features matrix. Note that this code adds all combinations of the features with degree less than or equal to two; in practice one may introduce only a few based on domain knowledge or experimentation."
   ]
  },
  {
   "cell_type": "code",
   "execution_count": 6,
   "metadata": {
    "autoscroll": false,
    "ein.tags": "worksheet-0",
    "slideshow": {
     "slide_type": "-"
    }
   },
   "outputs": [],
   "source": [
    "from sklearn.preprocessing import PolynomialFeatures\n",
    "X = PolynomialFeatures(2, include_bias=False).fit_transform(X)"
   ]
  },
  {
   "cell_type": "markdown",
   "metadata": {
    "ein.tags": "worksheet-0",
    "slideshow": {
     "slide_type": "-"
    }
   },
   "source": [
    "In this question, you will explore the application of Lasso and Ridge regression using sklearn package in Python. The following code will split the data into training and test set using [train_test_split](http://scikit-learn.org/stable/modules/generated/sklearn.model_selection.train_test_split.html) with **random state 20** and **test_size = 0.33**.  Note: lambda is called alpha in sklearn."
   ]
  },
  {
   "cell_type": "code",
   "execution_count": 7,
   "metadata": {
    "autoscroll": false,
    "ein.tags": "worksheet-0",
    "slideshow": {
     "slide_type": "-"
    }
   },
   "outputs": [],
   "source": [
    "from sklearn.model_selection import train_test_split\n",
    "X_train, X_test, y_train, y_test = train_test_split(X,y,test_size = 0.33, random_state=20)"
   ]
  },
  {
   "cell_type": "markdown",
   "metadata": {
    "ein.tags": "worksheet-0",
    "slideshow": {
     "slide_type": "-"
    }
   },
   "source": [
    "1) Use sklearn.linear_model.Lasso and sklearn.linear_model.Ridge classes to do a [5-fold cross validation](http://scikit-learn.org/stable/auto_examples/exercises/plot_cv_diabetes.html#example-exercises-plot-cv-diabetes-py) using sklearn's [KFold](http://scikit-learn.org/stable/modules/generated/sklearn.model_selection.KFold.html#sklearn.model_selection.KFold). For the sweep of the regularization parameter, we will look at a grid of values ranging from $\\lambda = 10^{6}$ to $\\lambda = 10^{-2}$. In Python, you can consider this range of values as follows:\n",
    "\n",
    "      import numpy as np\n",
    "\n",
    "      alphas =  10**np.linspace(6,-2,100)*0.5\n",
    "\n",
    "  Report the best chosen $\\lambda$ based on cross validation on each model. The cross validation should happen on your training data using  average MSE as the scoring metric. (5pts)\n",
    "\n",
    "2) Run ridge and lasso for all of the alphas specified above (on training data), and plot the coefficients learned for each of them - there should be one plot each for lasso and ridge, so a total of two plots; the plots for different features for a method should be on the same plot (e.g. Fig 6.6 of JW). What do you qualitatively observe when value of the regularization parameter is changed? What do you observe about the coefficients returned from the ridge and lasso models? (5pts)\n",
    "\n",
    "\n",
    "3) What are the top 10 most important features for the lasso and ridge models for the hyperparameters that got the best MSE? (2pts)\n",
    "\n",
    "\n",
    "4) SKLearn can perform this cross validation for us and choose the best regularization hyper-parameter. It will automatically determine the range of $\\lambda$ s to search over. Run lasso again with cross validation using [sklearn.linear_model.LassoCV](http://scikit-learn.org/stable/modules/generated/sklearn.linear_model.LassoCV.html). Set the cross validation parameters as follows:\n",
    "\n",
    "    LassoCV(alphas=None, cv=10, max_iter=10000)\n",
    "\n",
    "    Report the best $\\lambda$ based on cross validation. (3 pts)\n",
    "    \n",
    "5) \n",
    "    i) Run Ridge, lasso with the best hyperparameters and report the MSE on test data. \n",
    "    ii) Run OLS on the training data with all the features and then with the features selected through lasso (features with non zero weights). Report the MSE on test data. (5 pts)\n",
    "\n",
    "## Answer\n",
    "\n",
    "### 1"
   ]
  },
  {
   "cell_type": "code",
   "execution_count": null,
   "metadata": {},
   "outputs": [
    {
     "name": "stderr",
     "output_type": "stream",
     "text": [
      "/usr/local/lib/python3.5/dist-packages/sklearn/linear_model/coordinate_descent.py:491: ConvergenceWarning: Objective did not converge. You might want to increase the number of iterations. Fitting data with very small alpha may cause precision problems.\n",
      "  ConvergenceWarning)\n"
     ]
    }
   ],
   "source": [
    "from sklearn.linear_model import Lasso, Ridge\n",
    "from sklearn.metrics import mean_squared_error\n",
    "from sklearn.model_selection import KFold\n",
    "\n",
    "alphas =  10**np.linspace(6,-2,100)*0.5\n",
    "kf = KFold(n_splits=5, random_state=20)\n",
    "\n",
    "lasso_max_alpha = (0, np.inf)\n",
    "ridge_max_alpha = (0, np.inf)\n",
    "\n",
    "for alpha in alphas:\n",
    "    lasso_error = 0\n",
    "    ridge_error = 0\n",
    "    \n",
    "    for train_index, test_index in kf.split(X_train):\n",
    "        X_kf_train, X_kf_test = X_train[train_index], X_train[test_index]\n",
    "        y_kf_train, y_kf_test = y_train[train_index], y_train[test_index]\n",
    "        \n",
    "        lasso = Lasso(alpha)\n",
    "        ridge = Ridge(alpha)\n",
    "        \n",
    "        lasso_fit = lasso.fit(X_kf_train, y_kf_train)\n",
    "        ridge_fit = ridge.fit(X_kf_train, y_kf_train)\n",
    "        \n",
    "        lasso_error += mean_squared_error(lasso_fit.predict(X_kf_test), y_kf_test)\n",
    "        ridge_error += mean_squared_error(ridge_fit.predict(X_kf_test), y_kf_test)\n",
    "    \n",
    "    lasso_error /= 5\n",
    "    ridge_error /= 5\n",
    "        \n",
    "    if (lasso_error < lasso_max_alpha[1]):\n",
    "        lasso_max_alpha = (alpha, lasso_error)\n",
    "    if (ridge_error < ridge_max_alpha[1]):\n",
    "        ridge_max_alpha = (alpha, ridge_error)\n",
    "\n",
    "print(\"Lasso best alpha is \", lasso_max_alpha[0], \" with MSE of \", lasso_max_alpha[1])\n",
    "print(\"Ridge best alpha is \", ridge_max_alpha[0], \" with MSE of \", ridge_max_alpha[1])"
   ]
  },
  {
   "cell_type": "markdown",
   "metadata": {},
   "source": [
    "### 2"
   ]
  },
  {
   "cell_type": "code",
   "execution_count": null,
   "metadata": {},
   "outputs": [],
   "source": [
    "found_lasso_coefs = []\n",
    "found_ridge_coefs = []\n",
    "\n",
    "for alpha in alphas:\n",
    "    lasso = Lasso(alpha)\n",
    "    ridge = Ridge(alpha)\n",
    "    \n",
    "    lasso_fit = lasso.fit(X_train, y_train)\n",
    "    ridge_fit = ridge.fit(X_train, y_train)\n",
    "    \n",
    "    found_lasso_coefs.append(lasso_fit.coef_)\n",
    "    found_ridge_coefs.append(ridge_fit.coef_)"
   ]
  },
  {
   "cell_type": "code",
   "execution_count": null,
   "metadata": {},
   "outputs": [],
   "source": [
    "from matplotlib import pyplot\n",
    "\n",
    "plt.title(\"Lasso\")\n",
    "for alpha_coefs in np.array(found_lasso_coefs).T:\n",
    "    plt.ylabel('Coefficient Weight')\n",
    "    plt.xscale('log')\n",
    "    plt.xlabel('Alpha')\n",
    "    plt.plot(alphas, alpha_coefs)"
   ]
  },
  {
   "cell_type": "code",
   "execution_count": null,
   "metadata": {},
   "outputs": [],
   "source": [
    "plt.title(\"Ridge\")\n",
    "for alpha_coefs in np.array(found_ridge_coefs).T:\n",
    "    plt.ylabel('Coefficient Weight')\n",
    "    plt.xscale('log')\n",
    "    plt.xlabel('Alpha')\n",
    "    plt.plot(alphas, alpha_coefs)"
   ]
  },
  {
   "cell_type": "markdown",
   "metadata": {},
   "source": [
    "The lasso model prefers using much less terms, while the ridge model prefers small (but not quite zero) coefficients scattered about. At a glance it's much easier to tell which terms are important from the lasso model.\n",
    "### 3"
   ]
  },
  {
   "cell_type": "code",
   "execution_count": 45,
   "metadata": {},
   "outputs": [
    {
     "name": "stdout",
     "output_type": "stream",
     "text": [
      "Lasso best features:  [ 0  8  5 28  1 17  3  6 11 63]\n",
      "Ridge best features:  [ 8  0  3 46 49 53 16 18 32 34]\n"
     ]
    }
   ],
   "source": [
    "lasso_best_coef = found_lasso_coefs[int(np.where(alphas==lasso_max_alpha[0])[0])]\n",
    "ridge_best_coef = found_ridge_coefs[int(np.where(alphas==ridge_max_alpha[0])[0])]\n",
    "\n",
    "lasso_best_coef_idx = np.argsort(lasso_best_coef)\n",
    "ridge_best_coef_idx = np.argsort(ridge_best_coef)\n",
    "\n",
    "lasso_best_features = lasso_best_coef_idx[-10:][::-1]\n",
    "ridge_best_features = ridge_best_coef_idx[-10:][::-1]\n",
    "\n",
    "print(\"Lasso best features: \", lasso_best_features)\n",
    "print(\"Ridge best features: \", ridge_best_features)"
   ]
  },
  {
   "cell_type": "markdown",
   "metadata": {},
   "source": [
    "### 4"
   ]
  },
  {
   "cell_type": "code",
   "execution_count": 46,
   "metadata": {},
   "outputs": [
    {
     "name": "stdout",
     "output_type": "stream",
     "text": [
      "LassoCV found alpha:  0.046611216595171215\n"
     ]
    }
   ],
   "source": [
    "from sklearn.linear_model import LassoCV\n",
    "\n",
    "lasso_cv = LassoCV(alphas=None, cv=10, max_iter=10000)\n",
    "lasso_cv_fit = lasso_cv.fit(X_train, y_train)\n",
    "\n",
    "print(\"LassoCV found alpha: \", lasso_cv_fit.alpha_)"
   ]
  },
  {
   "cell_type": "markdown",
   "metadata": {},
   "source": [
    "### 5"
   ]
  },
  {
   "cell_type": "code",
   "execution_count": 47,
   "metadata": {},
   "outputs": [
    {
     "name": "stdout",
     "output_type": "stream",
     "text": [
      "Lasso best alpha is  0.008737642000038414  with MSE of  0.15983136817357\n",
      "Ridge best alpha is  0.005  with MSE of  0.0019317330320313645\n",
      "OLS has MSE of  0.00025540890208644953\n",
      "OLS (Lasso Filtered) has MSE of  0.00017816277366227142\n"
     ]
    },
    {
     "name": "stderr",
     "output_type": "stream",
     "text": [
      "/usr/local/lib/python3.5/dist-packages/sklearn/linear_model/coordinate_descent.py:491: ConvergenceWarning: Objective did not converge. You might want to increase the number of iterations. Fitting data with very small alpha may cause precision problems.\n",
      "  ConvergenceWarning)\n"
     ]
    }
   ],
   "source": [
    "from sklearn.linear_model import LinearRegression\n",
    "\n",
    "lasso = Lasso(lasso_max_alpha[0])\n",
    "lasso_fit = lasso.fit(X_train, y_train)\n",
    "lasso_mse = mean_squared_error(lasso_fit.predict(X_test), y_test)\n",
    "\n",
    "lasso = Ridge(ridge_max_alpha[0])\n",
    "ridge_fit = ridge.fit(X_train, y_train)\n",
    "ridge_mse = mean_squared_error(ridge_fit.predict(X_test), y_test)\n",
    "\n",
    "OLS = LinearRegression()\n",
    "OLS_fit = OLS.fit(X_train, y_train)\n",
    "OLS_MSE = mean_squared_error(OLS_fit.predict(X_test), y_test)\n",
    "\n",
    "lasso_best_coef_idx_nonzero = lasso_best_coef.nonzero()[0]\n",
    "X_train_filtered = X_train[:,lasso_best_coef_idx_nonzero]\n",
    "X_test_filtered = X_test[:,lasso_best_coef_idx_nonzero]\n",
    "OLS_lasso_filtered = OLS.fit(X_train_filtered, y_train)\n",
    "OLS_lasso_filtered_MSE = mean_squared_error(OLS_lasso_filtered.predict(X_test_filtered), y_test)\n",
    "\n",
    "print(\"Lasso best alpha is \", lasso_max_alpha[0], \" with MSE of \", lasso_mse)\n",
    "print(\"Ridge best alpha is \", ridge_max_alpha[0], \" with MSE of \", ridge_mse)\n",
    "print(\"OLS has MSE of \", OLS_MSE)\n",
    "print(\"OLS (Lasso Filtered) has MSE of \", OLS_lasso_filtered_MSE)"
   ]
  },
  {
   "cell_type": "markdown",
   "metadata": {
    "ein.tags": "worksheet-0",
    "slideshow": {
     "slide_type": "-"
    }
   },
   "source": [
    "# Question 2: Bias-Variance Tradeoff (5 points)\n",
    "\n",
    "1. Describe the relationship between Ordinary Least Squares and Ridge Regression (the problem analyzed in the previous question) with reference to Bias-Variance trade-off.\n",
    "3. Which is a higher variance model, kNN with k = 1 or with k = 10?\n",
    "\n",
    "\n"
   ]
  },
  {
   "cell_type": "markdown",
   "metadata": {},
   "source": [
    "### 1"
   ]
  },
  {
   "cell_type": "markdown",
   "metadata": {},
   "source": [
    "Ordinary least squares will have higher variance because the lack of a regularization term will cause the model to try and fit the data exactly. However, this solution can cause problems with overfitting which causes the variance to increase. However, because of this minimization of the errors, the bias for ordinary least squares will be less because the average of our solutions will approach the true value. When a regularization term is included, it is possible we will underfit the curve and cause our bias to increase. "
   ]
  },
  {
   "cell_type": "markdown",
   "metadata": {},
   "source": [
    "### 2"
   ]
  },
  {
   "cell_type": "markdown",
   "metadata": {},
   "source": [
    "k = 1 will have higher variance, the lower radius will cause the answers to vary more greatly. Because we're averaging together less samples, more variance will show in the answer."
   ]
  },
  {
   "cell_type": "markdown",
   "metadata": {
    "ein.tags": "worksheet-0",
    "slideshow": {
     "slide_type": "-"
    }
   },
   "source": [
    "# Question 3 - Principal Component Analysis (15 points)\n",
    "\n",
    "Import the same dataset with the interaction variables as in Q1."
   ]
  },
  {
   "cell_type": "code",
   "execution_count": 17,
   "metadata": {
    "autoscroll": false,
    "ein.tags": "worksheet-0",
    "slideshow": {
     "slide_type": "-"
    }
   },
   "outputs": [],
   "source": [
    "% matplotlib inline\n",
    "\n",
    "import numpy as np\n",
    "import pandas as pd\n",
    "from sklearn import datasets, linear_model\n",
    "from sklearn.metrics import mean_squared_error\n",
    "\n",
    "from matplotlib import pyplot as plt"
   ]
  },
  {
   "cell_type": "code",
   "execution_count": 18,
   "metadata": {
    "autoscroll": false,
    "ein.tags": "worksheet-0",
    "slideshow": {
     "slide_type": "-"
    }
   },
   "outputs": [],
   "source": [
    "df = pd.read_csv('dow_jones_index.data')\n",
    "df = df.dropna()\n",
    "X = df[[u'open', u'high', u'low', u'close',\n",
    "       u'volume', u'percent_change_price',\n",
    "       u'percent_change_volume_over_last_wk', u'previous_weeks_volume', u'next_weeks_close',\n",
    "       u'percent_change_next_weeks_price', u'days_to_next_dividend',\n",
    "       u'percent_return_next_dividend']]\n",
    "X = X.as_matrix()\n",
    "\n",
    "for feat in range(X.shape[1]):\n",
    "    try:\n",
    "        if \"$\" in X[0, feat]:\n",
    "            X[:,feat] = [i.split(\"$\")[1] for i in X[:,feat]]\n",
    "    except:\n",
    "        pass\n",
    "X = X.astype('float')\n",
    "X = (X - np.mean(X, axis=0))/np.std(X, axis=0)\n",
    "\n",
    "y = df[[u'next_weeks_open']]\n",
    "y = y.as_matrix()\n",
    "y = [i.split(\"$\")[1] for i in y[:, 0]]\n",
    "y = np.array(y)\n",
    "y = y.astype('float')"
   ]
  },
  {
   "cell_type": "code",
   "execution_count": 19,
   "metadata": {
    "autoscroll": false,
    "ein.tags": "worksheet-0",
    "slideshow": {
     "slide_type": "-"
    }
   },
   "outputs": [],
   "source": [
    "from sklearn.preprocessing import PolynomialFeatures\n",
    "X = PolynomialFeatures(2, include_bias=False).fit_transform(X)"
   ]
  },
  {
   "cell_type": "code",
   "execution_count": 20,
   "metadata": {
    "autoscroll": false,
    "ein.tags": "worksheet-0",
    "slideshow": {
     "slide_type": "-"
    }
   },
   "outputs": [],
   "source": [
    "from sklearn.model_selection import train_test_split\n",
    "X_train, X_test, y_train, y_test = train_test_split(X,y,test_size = 0.33, random_state=20)"
   ]
  },
  {
   "cell_type": "markdown",
   "metadata": {
    "ein.tags": "worksheet-0",
    "slideshow": {
     "slide_type": "-"
    }
   },
   "source": [
    "(a) Perform PCA using the sklearn [PCA](http://scikit-learn.org/stable/modules/generated/sklearn.decomposition.PCA.html) package.  Create i) a scree plot depicting the proportion of variance and ii) a cumulative proportion of variance explained by the principal components of the data (X_train matrix).  Refer to Figure 10.4 of JW for an example.  You may use the output attribute *explained variance ratio*. How many principal components (N1, N2, N3) are required to explain cumulative variance of 90%, 95%, and 99%, respectively? (6 pts)\n",
    "\n",
    "(c) Fit an ordinary least squares linear regression using N1, N2, and N3 number of principal components, respectively. Fit PCA on X_train and predict on X_test. Compare the test MSE using N1, N2, N3 to using all features from PCA (6 pts)\n",
    "\n",
    "(d) Compare this to the MSE reported in Q1.For this dataset, would you use PCA/Lasso as a feature elimination technique based on: (3 pts)\n",
    "i) Interpretability of results\n",
    "ii) MSE value\n",
    "iii) Hyperparameter tuning?\n",
    "\n",
    "## Answer"
   ]
  },
  {
   "cell_type": "markdown",
   "metadata": {},
   "source": [
    "### a"
   ]
  },
  {
   "cell_type": "code",
   "execution_count": 22,
   "metadata": {},
   "outputs": [
    {
     "data": {
      "image/png": "[encoded data removed]",
      "text/plain": [
       "<matplotlib.figure.Figure at 0x7ff73071fe80>"
      ]
     },
     "metadata": {},
     "output_type": "display_data"
    },
    {
     "data": {
      "image/png": "[encoded data removed]",
      "text/plain": [
       "<matplotlib.figure.Figure at 0x7ff73071fbe0>"
      ]
     },
     "metadata": {},
     "output_type": "display_data"
    }
   ],
   "source": [
    "from sklearn.decomposition import PCA\n",
    "pca = PCA()\n",
    "pca.fit(X_train)\n",
    "#print(pca.explained_variance_ratio_)\n",
    "cumulative_var_ratio = []\n",
    "eigen_vector = []\n",
    "cur_ratio = 0\n",
    "num = 0\n",
    "for r in pca.explained_variance_ratio_:\n",
    "    cur_ratio = cur_ratio + r\n",
    "    num = num + 1\n",
    "    cumulative_var_ratio.append(cur_ratio)\n",
    "    eigen_vector.append(num)\n",
    "\n",
    "\n",
    "plt.plot(eigen_vector, pca.explained_variance_ratio_)\n",
    "plt.ylabel(\"Explained Variance Ratio\")\n",
    "plt.xlabel(\"Principle Component\")\n",
    "plt.show()\n",
    "plt.plot(eigen_vector, cumulative_var_ratio)\n",
    "plt.ylabel(\"Cumulative Explained Variance Ratio\")\n",
    "plt.xlabel(\"Principle Component\")\n",
    "plt.show()"
   ]
  },
  {
   "cell_type": "markdown",
   "metadata": {},
   "source": [
    "The required principle components for 90%, 95%, 99%, are 12, 18, and 29"
   ]
  },
  {
   "cell_type": "markdown",
   "metadata": {},
   "source": [
    "### c"
   ]
  },
  {
   "cell_type": "code",
   "execution_count": 32,
   "metadata": {},
   "outputs": [
    {
     "name": "stdout",
     "output_type": "stream",
     "text": [
      "Mean squared error test N1 components:  145.46920237766864\n",
      "Mean squared error test N2 components:  27.725886102496414\n",
      "Mean squared error test N3 components:  3.1981565974283197\n"
     ]
    }
   ],
   "source": [
    "pca1 = PCA(n_components=12)\n",
    "X_train_trans0 = pca1.fit_transform(X_train)\n",
    "reg = linear_model.LinearRegression()\n",
    "reg.fit(X_train_trans0, y_train)\n",
    "X_test_trans0 = pca1.transform(X_test)\n",
    "predictions_test = reg.predict(X_test_trans0)\n",
    "print(\"Mean squared error test N1 components: \" , mean_squared_error(y_test, predictions_test))\n",
    "pca2 = PCA(n_components=18)\n",
    "X_train_trans1 = pca2.fit_transform(X_train)\n",
    "reg = linear_model.LinearRegression()\n",
    "reg.fit(X_train_trans1, y_train)\n",
    "X_test_trans1 = pca2.transform(X_test)\n",
    "predictions_test = reg.predict(X_test_trans1)\n",
    "print(\"Mean squared error test N2 components: \" , mean_squared_error(y_test, predictions_test))\n",
    "pca3 = PCA(n_components=29)\n",
    "X_train_trans2 = pca3.fit_transform(X_train)\n",
    "reg = linear_model.LinearRegression()\n",
    "reg.fit(X_train_trans2, y_train)\n",
    "X_test_trans2 = pca3.transform(X_test)\n",
    "predictions_test = reg.predict(X_test_trans2)\n",
    "print(\"Mean squared error test N3 components: \" , mean_squared_error(y_test, predictions_test))"
   ]
  },
  {
   "cell_type": "markdown",
   "metadata": {},
   "source": [
    "(d) Compare this to the MSE reported in Q1.For this dataset, would you use PCA/Lasso as a feature elimination technique based on: (3 pts) i) Interpretability of results ii) MSE value iii) Hyperparameter tuning?\n",
    "### d\n",
    "\n",
    "The MSE for using all components of the PCA analysis is almost equal to the smallest MSE's (lasso filtered OLS: 0.00017816...) reported in Q1. \n",
    "### i) \n",
    "Interpretability of results is definitely more advantageous in Lasso because the features are simply the features in the original dataset rather than a linear combination of a number of features. \n",
    "### ii) \n",
    "The MSE value is very similar in the best case for both so I would likely call this about a tie, but depends on the hyperparameters set (number of components in PCA vs alpha in Lasso). \n",
    "### iii) \n",
    "Tuning the Hyperparameters is much easier in PCA because adding more components will always increase the amount of variance explained, which will likely decrease your MSE as opposed to Lasso there is the delicate balance of overfitting vs underfitting when setting alpha. While PCA can still have the issue of overfitting, it is much easier to set the number of componenets because you know the exact amount of variance explained  "
   ]
  },
  {
   "cell_type": "markdown",
   "metadata": {
    "ein.tags": "worksheet-0",
    "slideshow": {
     "slide_type": "-"
    }
   },
   "source": [
    "# Question 4 - Sampling (3+2=5pts)\n",
    "\n",
    "1 . Your firm is conducting a customer survey for a new product. You are tasked with estimating whether the product will be liked or disliked by the entire market. Unfortunately, you cannot reach all the customers. So you randomly sample 400 participants and ask them \"Will you like the product\" as a question. The responses are evenly split. But you attended a Data Mining course, so you know the estimate is not simply 50%. \n",
    "   \n",
    "What are the lower and upper bounds of probability corresponding to a confidence of 99% ($\\alpha = 0.99$)?\n",
    "\n",
    "\n",
    "2 . Your manager asks you to halve the probability range you reported in part 1. This can be accomplished in two different ways:\n",
    "\n",
    "    a) Reduce the confidence without going below 90%. \n",
    "    OR\n",
    "    b) Conduct a new survey to acquire more samples. In this case let us assume that the results are again evenly split.\n",
    "    \n",
    "Which option is viable? If a), what is the highest confidence you can use? And if b), how many samples do you need?\n",
    "\n",
    "## Answer\n",
    "\n",
    "### 1.\n",
    "\n",
    "$n = (p)(1-p)(\\frac{z_{\\alpha/2}}{\\epsilon})^2$\n",
    "\n",
    "$400 = (.5)(1-.5)(\\frac{2.58}{\\epsilon})^2$\n",
    "\n",
    "$\\frac{400}{.5 * .5} = (\\frac{2.58}{\\epsilon})^2$\n",
    "\n",
    "$\\pm\\sqrt{\\frac{400}{.5 * .5}} = \\frac{2.58}{\\epsilon}$\n",
    "\n",
    "$\\frac{2.58}{\\pm\\sqrt{\\frac{400}{.5 * .5}}} = \\epsilon$\n",
    "\n",
    "$\\epsilon = \\pm 0.0645$\n",
    "\n",
    "So our confidence interval is +/- 6.45%. So the lower bound of our probability is 43.55% and the upper bound is 56.45% (with 99% confidence).\n",
    "\n",
    "### 2. a\n",
    "\n",
    "Recalculating with our interval set to .03225 (changing our confidence):\n",
    "\n",
    "$400 = (.5)(1-.5)(\\frac{z}{.03225})^2$\n",
    "\n",
    "$z = \\pm\\sqrt{\\frac{400}{.25}} * .03225 = \\pm 1.29 \\sigma$\n",
    "\n",
    "$P(\\mu - z \\leq x \\leq \\mu + z) = P(.5 - 1.29\\sigma \\leq x \\leq .5 + 1.29\\sigma) =  0.80294$\n",
    "\n",
    "**No option a is not viable.**\n",
    "\n",
    "### 2. b\n",
    "\n",
    "Recalculating with our interval set to .03225 (changing our sample size):\n",
    "\n",
    "$n = (.5)(1-.5)(\\frac{2.58}{.03225})^2 = 1600$\n",
    "\n",
    "We need **1600** samples, which seems reasonable."
   ]
  },
  {
   "cell_type": "markdown",
   "metadata": {
    "ein.tags": "worksheet-0",
    "slideshow": {
     "slide_type": "-"
    }
   },
   "source": [
    "# Question 5: Ridge and Lasso Regression (15 points)\n",
    "The ridge regression problem is characterized by the following loss function:\n",
    "$$\\mathcal{L}(\\beta) = ||X \\beta - y||_2^2 + \\lambda ||\\beta||^2_2$$\n",
    "\n",
    "The ridge regression problem is the case where the penalty term ($\\lambda ||\\beta||$) uses the squared l-2 norm ($\\lambda ||\\beta||^2$).\n",
    "\n",
    "a) Find the closed form solution to the ridge regresion problem\n",
    "$$\\underset{\\beta}{\\mathrm{argmin}} \\mathcal{L}(\\beta)$$\n",
    "where $\\mathcal{L}(\\beta)$ is the loss function above.\n",
    "\n",
    "b) Now given the SVD of $X$ as $U \\Sigma V^T$, express $X \\hat \\beta_{ridge}$ in terms of $U$, $V$ and $\\Sigma$\n",
    "\n",
    "c) Explain what the expression for $X \\hat \\beta_{ridge}$ derived above tells us about how the addition of the regularization term affects the solution. (Hint: think about $\\lambda ||\\beta||^2$ as a penalty term)\n",
    "\n",
    "# Answer\n",
    "\n",
    "### a\n",
    "\n",
    "$\\mathcal{L}(\\beta) = ||X \\beta - y||_2^2 + \\lambda ||\\beta||^2_2$\n",
    "\n",
    "$d[||f(X)||](X) = (\\widehat{f(X)})^\\intercal \\cdot d[X](X) => d[||X \\beta - y||](\\beta) = \\widehat{(X \\beta - y)}^\\intercal \\cdot X$\n",
    "\n",
    "$d[||X \\beta - y||_2^2](\\beta) = 2 ||X \\beta - y|| * \\widehat{(X \\beta - y)}^\\intercal \\cdot X = 2 (X \\beta - y)^\\intercal X$\n",
    "\n",
    "$d[\\mathcal{L}](\\beta) = 2 (X \\beta - y)^\\intercal X + 2 \\lambda \\beta^\\intercal = (2 (X \\beta - y)^\\intercal X + 2 \\lambda \\beta^\\intercal)^\\intercal = 2 X^\\intercal (X \\beta - y) + 2 \\lambda \\beta = 2 X^\\intercal X \\beta - X^\\intercal y + 2 \\lambda \\beta$\n",
    "\n",
    "$0 = 2 X^\\intercal X \\beta - 2 X^\\intercal y + 2 \\lambda \\beta$\n",
    "\n",
    "$X^\\intercal X \\beta + \\lambda \\beta = X^\\intercal y$\n",
    "\n",
    "$(X^\\intercal X + \\lambda I) \\beta = X^\\intercal y$\n",
    "\n",
    "$\\widehat{\\beta}_{ridge} = (X^\\intercal X + \\lambda I)^{-1} X^\\intercal y$\n",
    "\n",
    "### b\n",
    "\n",
    "$$X X^\\intercal = (U \\Sigma V^\\intercal)^\\intercal (U \\Sigma V^\\intercal) = V \\Sigma^\\intercal U^\\intercal U \\Sigma V^\\intercal$$\n",
    "\n",
    "$$X X^\\intercal = V \\Sigma^\\intercal \\Sigma V^\\intercal = V \\Sigma^2 V^\\intercal$$\n",
    "\n",
    "$$X \\widehat{\\beta}_{ridge} = (U \\Sigma V^\\intercal) (V \\Sigma^2 V^\\intercal + \\lambda I)^{-1} (V \\Sigma U^\\intercal) Y$$\n",
    "\n",
    "(The left V becomes and inverse on the right, the right V becomes and inverse transposed on the left)\n",
    "\n",
    "$$X \\widehat{\\beta}_{ridge} = U \\Sigma (V^\\intercal)^{-1} (V \\Sigma^2 V^\\intercal + \\lambda I)^{-1} (V)^{-1} \\Sigma U^\\intercal Y = U \\Sigma (V^\\intercal V \\Sigma^2 V^\\intercal V + \\lambda V^\\intercal V)^{-1} \\Sigma U^\\intercal Y$$\n",
    "\n",
    "$$X \\widehat{\\beta}_{ridge} = U \\Sigma (\\Sigma^2 + \\lambda I)^{-1} \\Sigma U^\\intercal Y$$\n",
    "\n",
    "### c\n",
    "\n",
    "The inner section can be expressed as:\n",
    "\n",
    "$$\\sum_{i=0}^{n} \\frac{d_i^2}{d_i^2 + \\lambda}$$\n",
    "\n",
    "This means as lambda gets bigger the components will be scaled closer to 0. Larger components are less affected by being divided by a constant lambda, especially with the squared term involved."
   ]
  },
  {
   "cell_type": "markdown",
   "metadata": {
    "ein.tags": "worksheet-0",
    "slideshow": {
     "slide_type": "-"
    }
   },
   "source": [
    "# Question 6 - Outliers and Huber Loss (12 pts)\n",
    "\n",
    "In this problem, we will use the same data set from the previous problem set to fit a linear model to the data using a Huber loss function rather than the l-2 norm usually used in OLS. sklearn has a nice API you can use: [http://scikit-learn.org/stable/modules/generated/sklearn.linear_model.HuberRegressor.html#sklearn-linear-model-huberregressor](http://scikit-learn.org/stable/modules/generated/sklearn.linear_model.HuberRegressor.html#sklearn-linear-model-huberregressor)\n",
    "\n",
    "Below is a snippet from the previous problem set to help you get started. For this problem, the only independent variable will be the \"percent\\_change\\_price\" feature.\n"
   ]
  },
  {
   "cell_type": "code",
   "execution_count": 52,
   "metadata": {
    "autoscroll": false,
    "ein.tags": "worksheet-0",
    "slideshow": {
     "slide_type": "-"
    }
   },
   "outputs": [
    {
     "name": "stdout",
     "output_type": "stream",
     "text": [
      "MSE train:  953.538042822908\n",
      "MSE test:  1192.1733687430108\n"
     ]
    }
   ],
   "source": [
    "import pandas as pd\n",
    "import numpy as np\n",
    "from sklearn import linear_model\n",
    "from sklearn.metrics import mean_squared_error\n",
    "\n",
    "df = pd.read_csv('dow_jones_index.data')\n",
    "stock = df[[\"percent_change_price\", \"next_weeks_open\"]]\n",
    "stock = stock.dropna()\n",
    "stock = stock.as_matrix()[1:]\n",
    "stock[:, 1] = [i.split(\"$\")[1] for i in stock[:, 1]]\n",
    "stock = stock.astype('float')\n",
    "stock[:, 0] = (stock[:, 0] - np.mean(stock[:, 0], axis=0))/np.std(stock[:, 0], axis=0)\n",
    "\n",
    "X = stock[:,:1]\n",
    "y = stock[:, 1]\n",
    "X_train = X[:400,]\n",
    "y_train = y[:400]\n",
    "\n",
    "X_test = X[400:,]\n",
    "y_test = y[400:,]\n",
    "\n",
    "clf_train = linear_model.LinearRegression()\n",
    "clf_train.fit(X_train, y_train)\n",
    "predictions_train = clf_train.predict(X_train)\n",
    "mse_train = mean_squared_error(y_train, predictions_train)\n",
    "print('MSE train: ', mse_train)\n",
    "\n",
    "predictions_test = clf_train.predict(X_test)\n",
    "mse_test = mean_squared_error(y_test, predictions_test)\n",
    "print('MSE test: ', mse_test)"
   ]
  },
  {
   "cell_type": "markdown",
   "metadata": {
    "ein.tags": "worksheet-0",
    "slideshow": {
     "slide_type": "-"
    }
   },
   "source": [
    "a) Now do the same for the Huber loss function and print the test and train MSE. Use a regularization coefficient of 0. (5 pts)"
   ]
  },
  {
   "cell_type": "code",
   "execution_count": 53,
   "metadata": {
    "autoscroll": false,
    "ein.tags": "worksheet-0",
    "slideshow": {
     "slide_type": "-"
    }
   },
   "outputs": [
    {
     "name": "stdout",
     "output_type": "stream",
     "text": [
      "MSE train:  969.0750882200402\n",
      "MSE test:  1235.9698312114529\n"
     ]
    }
   ],
   "source": [
    "# ANSWER\n",
    "import pandas as pd\n",
    "import numpy as np\n",
    "from sklearn import linear_model\n",
    "from sklearn.metrics import mean_squared_error\n",
    "\n",
    "df = pd.read_csv('dow_jones_index.data')\n",
    "stock = df[[\"percent_change_price\", \"next_weeks_open\"]]\n",
    "stock = stock.dropna()\n",
    "stock = stock.as_matrix()[1:]\n",
    "stock[:, 1] = [i.split(\"$\")[1] for i in stock[:, 1]]\n",
    "stock = stock.astype('float')\n",
    "stock[:, 0] = (stock[:, 0] - np.mean(stock[:, 0], axis=0))/np.std(stock[:, 0], axis=0)\n",
    "\n",
    "X = stock[:,:1]\n",
    "y = stock[:, 1]\n",
    "X_train = X[:400,]\n",
    "y_train = y[:400]\n",
    "\n",
    "X_test = X[400:,]\n",
    "y_test = y[400:,]\n",
    "\n",
    "clf_train = linear_model.HuberRegressor(alpha=0)\n",
    "clf_train.fit(X_train, y_train)\n",
    "predictions_train = clf_train.predict(X_train)\n",
    "mse_train = mean_squared_error(y_train, predictions_train)\n",
    "print('MSE train: ', mse_train)\n",
    "\n",
    "predictions_test = clf_train.predict(X_test)\n",
    "mse_test = mean_squared_error(y_test, predictions_test)\n",
    "print('MSE test: ', mse_test)"
   ]
  },
  {
   "cell_type": "markdown",
   "metadata": {
    "ein.tags": "worksheet-0",
    "slideshow": {
     "slide_type": "-"
    }
   },
   "source": [
    "Now let's artificially introduce some errors intro the train set:"
   ]
  },
  {
   "cell_type": "code",
   "execution_count": 54,
   "metadata": {
    "autoscroll": false,
    "ein.tags": "worksheet-0",
    "slideshow": {
     "slide_type": "-"
    }
   },
   "outputs": [],
   "source": [
    "y_train_outliers = np.copy(y_train)\n",
    "y_train_outliers[0] = 10000.0"
   ]
  },
  {
   "cell_type": "markdown",
   "metadata": {
    "ein.tags": "worksheet-0",
    "slideshow": {
     "slide_type": "-"
    }
   },
   "source": [
    "Note that we would never actually do this in a real application, this is simply for demo purposes.\n",
    "\n",
    "b) Now create two models as before, but using the new y vector during training (one model using OLS and another using the Huber loss). Print the test and train MSE. Use a regularization coefficient of 0. (5 pts)"
   ]
  },
  {
   "cell_type": "code",
   "execution_count": 55,
   "metadata": {
    "autoscroll": false,
    "ein.tags": "worksheet-0",
    "slideshow": {
     "slide_type": "-"
    }
   },
   "outputs": [
    {
     "name": "stdout",
     "output_type": "stream",
     "text": [
      "MSE train Huber:  248826.75026848132\n",
      "MSE test Huber:  1232.5469165949833\n",
      "MSE train OLS:  246073.32477878802\n",
      "MSE test OLS:  3570.050639927662\n"
     ]
    }
   ],
   "source": [
    "# ANSWER\n",
    "y_train_outliers = np.copy(y_train)\n",
    "y_train_outliers[0] = 10000.0\n",
    "\n",
    "clf_train = linear_model.HuberRegressor(alpha=0)\n",
    "clf_train.fit(X_train, y_train_outliers)\n",
    "predictions_train = clf_train.predict(X_train)\n",
    "mse_train = mean_squared_error(y_train_outliers, predictions_train)\n",
    "print('MSE train Huber: ', mse_train)\n",
    "\n",
    "predictions_test = clf_train.predict(X_test)\n",
    "mse_test = mean_squared_error(y_test, predictions_test)\n",
    "print('MSE test Huber: ', mse_test)\n",
    "\n",
    "\n",
    "ol_train = linear_model.LinearRegression()\n",
    "ol_train.fit(X_train, y_train_outliers)\n",
    "predictions_train = ol_train.predict(X_train)\n",
    "mse_train = mean_squared_error(y_train_outliers, predictions_train)\n",
    "print('MSE train OLS: ', mse_train)\n",
    "\n",
    "predictions_test = ol_train.predict(X_test)\n",
    "mse_test = mean_squared_error(y_test, predictions_test)\n",
    "print('MSE test OLS: ', mse_test)\n"
   ]
  },
  {
   "cell_type": "markdown",
   "metadata": {
    "ein.tags": "worksheet-0",
    "slideshow": {
     "slide_type": "-"
    }
   },
   "source": [
    "c) Explain the difference in prediction performance of the two models in these two scenarios (one without significant outliers in the data, and the other with a single outlier). (2 pts)\n",
    "\n",
    "#Answer\n",
    "\n",
    "Because the Huber loss is less sensitive to outliers (because of the linear increase in cost as opposed to quadratic increase in cost), the model computed will not shift as greatly towards the outlier point in training data. This is why the MSE will be worse for the training data in the Huber loss model. However, the MSE will be less with respect to the test data, because the Huber loss model will have shifted less to incorporate the outlier point.  "
   ]
  },
  {
   "cell_type": "code",
   "execution_count": null,
   "metadata": {},
   "outputs": [],
   "source": []
  }
 ],
 "metadata": {
  "kernelspec": {
   "display_name": "Python 3",
   "language": "python",
   "name": "python3"
  },
  "language_info": {
   "codemirror_mode": {
    "name": "ipython",
    "version": 3
   },
   "file_extension": ".py",
   "mimetype": "text/x-python",
   "name": "python",
   "nbconvert_exporter": "python",
   "pygments_lexer": "ipython3",
   "version": "3.5.2"
  },
  "name": "EE380L_HW2.ipynb"
 },
 "nbformat": 4,
 "nbformat_minor": 1
}
